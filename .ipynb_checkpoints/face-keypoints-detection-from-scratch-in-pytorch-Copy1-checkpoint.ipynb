{
 "cells": [
  {
   "cell_type": "markdown",
   "metadata": {
    "id": "T9iHsqEkPROM"
   },
   "source": [
    "## This notebook is for Custom implementation of Facial Keypoints Detection using Pytorch from Scratch, using VGG16 model. "
   ]
  },
  {
   "cell_type": "code",
   "execution_count": 1,
   "metadata": {},
   "outputs": [
    {
     "name": "stdout",
     "output_type": "stream",
     "text": [
      "Package                       Version     \r\n",
      "----------------------------- ------------\r\n",
      "actionlib                     1.14.0      \r\n",
      "angles                        1.9.13      \r\n",
      "asttokens                     2.2.1       \r\n",
      "backcall                      0.2.0       \r\n",
      "bondpy                        1.8.6       \r\n",
      "camera-calibration            1.17.0      \r\n",
      "camera-calibration-parsers    1.12.0      \r\n",
      "catkin                        0.8.10      \r\n",
      "certifi                       2022.12.7   \r\n",
      "charset-normalizer            3.0.1       \r\n",
      "comm                          0.1.2       \r\n",
      "contourpy                     1.0.7       \r\n",
      "controller-manager            0.19.6      \r\n",
      "controller-manager-msgs       0.19.6      \r\n",
      "cv-bridge                     1.16.2      \r\n",
      "cycler                        0.11.0      \r\n",
      "debugpy                       1.6.6       \r\n",
      "decorator                     5.1.1       \r\n",
      "diagnostic-analysis           1.11.0      \r\n",
      "diagnostic-common-diagnostics 1.11.0      \r\n",
      "diagnostic-updater            1.11.0      \r\n",
      "dynamic-reconfigure           1.7.3       \r\n",
      "entrypoints                   0.4         \r\n",
      "executing                     1.2.0       \r\n",
      "fonttools                     4.38.0      \r\n",
      "gazebo-plugins                2.9.2       \r\n",
      "gazebo-ros                    2.9.2       \r\n",
      "gencpp                        0.7.0       \r\n",
      "geneus                        3.0.0       \r\n",
      "genlisp                       0.4.18      \r\n",
      "genmsg                        0.6.0       \r\n",
      "gennodejs                     2.0.2       \r\n",
      "genpy                         0.6.15      \r\n",
      "idna                          3.4         \r\n",
      "image-geometry                1.16.2      \r\n",
      "interactive-markers           1.12.0      \r\n",
      "ipykernel                     6.20.2      \r\n",
      "ipython                       8.8.0       \r\n",
      "jedi                          0.18.2      \r\n",
      "joblib                        1.2.0       \r\n",
      "joint-state-publisher         1.15.1      \r\n",
      "joint-state-publisher-gui     1.15.1      \r\n",
      "jupyter-client                7.4.9       \r\n",
      "jupyter-core                  5.1.5       \r\n",
      "kiwisolver                    1.4.4       \r\n",
      "laser-geometry                1.6.7       \r\n",
      "matplotlib                    3.6.3       \r\n",
      "matplotlib-inline             0.1.6       \r\n",
      "message-filters               1.15.15     \r\n",
      "nest-asyncio                  1.5.6       \r\n",
      "numpy                         1.24.1      \r\n",
      "opencv-python                 4.7.0.68    \r\n",
      "packaging                     23.0        \r\n",
      "pandas                        1.5.3       \r\n",
      "parso                         0.8.3       \r\n",
      "pexpect                       4.8.0       \r\n",
      "pickleshare                   0.7.5       \r\n",
      "Pillow                        9.4.0       \r\n",
      "pip                           20.0.2      \r\n",
      "pkg-resources                 0.0.0       \r\n",
      "platformdirs                  2.6.2       \r\n",
      "prompt-toolkit                3.0.36      \r\n",
      "psutil                        5.9.4       \r\n",
      "ptyprocess                    0.7.0       \r\n",
      "pure-eval                     0.2.2       \r\n",
      "Pygments                      2.14.0      \r\n",
      "pyparsing                     3.0.9       \r\n",
      "python-dateutil               2.8.2       \r\n",
      "python-qt-binding             0.4.4       \r\n",
      "pytz                          2022.7.1    \r\n",
      "pyzmq                         25.0.0      \r\n",
      "qt-dotgraph                   0.4.2       \r\n",
      "qt-gui                        0.4.2       \r\n",
      "qt-gui-cpp                    0.4.2       \r\n",
      "qt-gui-py-common              0.4.2       \r\n",
      "requests                      2.28.2      \r\n",
      "resource-retriever            1.12.7      \r\n",
      "rosbag                        1.15.15     \r\n",
      "rosboost-cfg                  1.15.8      \r\n",
      "rosclean                      1.15.8      \r\n",
      "roscreate                     1.15.8      \r\n",
      "rosgraph                      1.15.15     \r\n",
      "roslaunch                     1.15.15     \r\n",
      "roslib                        1.15.8      \r\n",
      "roslint                       0.12.0      \r\n",
      "roslz4                        1.15.15     \r\n",
      "rosmake                       1.15.8      \r\n",
      "rosmaster                     1.15.15     \r\n",
      "rosmsg                        1.15.15     \r\n",
      "rosnode                       1.15.15     \r\n",
      "rosparam                      1.15.15     \r\n",
      "rospy                         1.15.15     \r\n",
      "rosservice                    1.15.15     \r\n",
      "rostest                       1.15.15     \r\n",
      "rostopic                      1.15.15     \r\n",
      "rosunit                       1.15.8      \r\n",
      "roswtf                        1.15.15     \r\n",
      "rqt-action                    0.4.9       \r\n",
      "rqt-bag                       0.5.1       \r\n",
      "rqt-bag-plugins               0.5.1       \r\n",
      "rqt-console                   0.4.11      \r\n",
      "rqt-dep                       0.4.12      \r\n",
      "rqt-graph                     0.4.14      \r\n",
      "rqt-gui                       0.5.3       \r\n",
      "rqt-gui-py                    0.5.3       \r\n",
      "rqt-image-view                0.4.16      \r\n",
      "rqt-launch                    0.4.9       \r\n",
      "rqt-logger-level              0.4.11      \r\n",
      "rqt-moveit                    0.5.10      \r\n",
      "rqt-msg                       0.4.10      \r\n",
      "rqt-nav-view                  0.5.7       \r\n",
      "rqt-plot                      0.4.13      \r\n",
      "rqt-pose-view                 0.5.11      \r\n",
      "rqt-publisher                 0.4.10      \r\n",
      "rqt-py-common                 0.5.3       \r\n",
      "rqt-py-console                0.4.10      \r\n",
      "rqt-reconfigure               0.5.5       \r\n",
      "rqt-robot-dashboard           0.5.8       \r\n",
      "rqt-robot-monitor             0.5.14      \r\n",
      "rqt-robot-steering            0.5.12      \r\n",
      "rqt-runtime-monitor           0.5.9       \r\n",
      "rqt-rviz                      0.7.0       \r\n",
      "rqt-service-caller            0.4.10      \r\n",
      "rqt-shell                     0.4.11      \r\n",
      "rqt-srv                       0.4.9       \r\n",
      "rqt-tf-tree                   0.6.3       \r\n",
      "rqt-top                       0.4.10      \r\n",
      "rqt-topic                     0.4.13      \r\n",
      "rqt-web                       0.4.10      \r\n",
      "rviz                          1.14.19     \r\n",
      "scikit-learn                  1.2.1       \r\n",
      "scipy                         1.10.0      \r\n",
      "sensor-msgs                   1.13.1      \r\n",
      "setuptools                    44.0.0      \r\n",
      "six                           1.16.0      \r\n",
      "smach                         2.5.0       \r\n",
      "smach-ros                     2.5.0       \r\n",
      "smclib                        1.8.6       \r\n",
      "stack-data                    0.6.2       \r\n",
      "tf                            1.13.2      \r\n",
      "tf-conversions                1.13.2      \r\n",
      "tf2-geometry-msgs             0.7.6       \r\n",
      "tf2-kdl                       0.7.6       \r\n",
      "tf2-py                        0.7.6       \r\n",
      "tf2-ros                       0.7.6       \r\n",
      "threadpoolctl                 3.1.0       \r\n",
      "topic-tools                   1.15.15     \r\n",
      "torch                         1.13.1+cu116\r\n",
      "torch-summary                 1.4.5       \r\n",
      "torchaudio                    0.13.1+cu116\r\n",
      "torchvision                   0.14.1+cu116\r\n",
      "tornado                       6.2         \r\n",
      "tqdm                          4.64.1      \r\n",
      "traitlets                     5.8.1       \r\n",
      "typing-extensions             4.4.0       \r\n",
      "urllib3                       1.26.14     \r\n",
      "wcwidth                       0.2.6       \r\n",
      "wheel                         0.38.4      \r\n",
      "xacro                         1.14.14     \r\n"
     ]
    }
   ],
   "source": [
    "!pip list"
   ]
  },
  {
   "cell_type": "code",
   "execution_count": 2,
   "metadata": {
    "execution": {
     "iopub.execute_input": "2021-12-14T08:04:05.405266Z",
     "iopub.status.busy": "2021-12-14T08:04:05.405045Z",
     "iopub.status.idle": "2021-12-14T08:04:05.411977Z",
     "shell.execute_reply": "2021-12-14T08:04:05.410898Z",
     "shell.execute_reply.started": "2021-12-14T08:04:05.40524Z"
    },
    "executionInfo": {
     "elapsed": 5,
     "status": "ok",
     "timestamp": 1639465601105,
     "user": {
      "displayName": "JAGADEESHA R G",
      "photoUrl": "https://lh3.googleusercontent.com/a-/AOh14GgwPd8QKJ3EmqLtAngBJU4STxuSbAigY5iPa3g3NA=s64",
      "userId": "15957991412628301278"
     },
     "user_tz": -330
    },
    "id": "fPT8x0NEPQct"
   },
   "outputs": [
    {
     "name": "stderr",
     "output_type": "stream",
     "text": [
      "/home/dell/Desktop/xxxx/Uni/Kirigami_project/Keypoint_detection_notebooks/.Keypoint_detection_notebooks/lib/python3.8/site-packages/tqdm/auto.py:22: TqdmWarning: IProgress not found. Please update jupyter and ipywidgets. See https://ipywidgets.readthedocs.io/en/stable/user_install.html\n",
      "  from .autonotebook import tqdm as notebook_tqdm\n"
     ]
    }
   ],
   "source": [
    "# importing relevant packages \n",
    "\n",
    "import torch \n",
    "from torchvision import models\n",
    "import pandas as pd\n",
    "import torch.optim as optim\n",
    "from torch.utils.data import Dataset, DataLoader\n",
    "import torch.nn as nn \n",
    "import glob\n",
    "import os\n",
    "import cv2\n",
    "import matplotlib.pyplot as plt \n",
    "import torchvision.transforms as transforms\n",
    "from torchsummary import summary\n",
    "from sklearn.model_selection import train_test_split\n",
    "import numpy as np\n",
    "from tqdm import tqdm"
   ]
  },
  {
   "cell_type": "code",
   "execution_count": 3,
   "metadata": {
    "execution": {
     "iopub.execute_input": "2021-12-14T08:04:13.295771Z",
     "iopub.status.busy": "2021-12-14T08:04:13.295433Z",
     "iopub.status.idle": "2021-12-14T08:04:13.353862Z",
     "shell.execute_reply": "2021-12-14T08:04:13.352735Z",
     "shell.execute_reply.started": "2021-12-14T08:04:13.295737Z"
    },
    "executionInfo": {
     "elapsed": 3,
     "status": "ok",
     "timestamp": 1639460003761,
     "user": {
      "displayName": "JAGADEESHA R G",
      "photoUrl": "https://lh3.googleusercontent.com/a-/AOh14GgwPd8QKJ3EmqLtAngBJU4STxuSbAigY5iPa3g3NA=s64",
      "userId": "15957991412628301278"
     },
     "user_tz": -330
    },
    "id": "oEWZ_sAmbeT-"
   },
   "outputs": [],
   "source": [
    "device = 'cuda' if torch.cuda.is_available() else 'cpu'"
   ]
  },
  {
   "cell_type": "code",
   "execution_count": 5,
   "metadata": {
    "execution": {
     "iopub.execute_input": "2021-12-14T08:04:21.486491Z",
     "iopub.status.busy": "2021-12-14T08:04:21.485831Z",
     "iopub.status.idle": "2021-12-14T08:04:34.773633Z",
     "shell.execute_reply": "2021-12-14T08:04:34.76865Z",
     "shell.execute_reply.started": "2021-12-14T08:04:21.486428Z"
    },
    "executionInfo": {
     "elapsed": 4,
     "status": "ok",
     "timestamp": 1639457305271,
     "user": {
      "displayName": "JAGADEESHA R G",
      "photoUrl": "https://lh3.googleusercontent.com/a-/AOh14GgwPd8QKJ3EmqLtAngBJU4STxuSbAigY5iPa3g3NA=s64",
      "userId": "15957991412628301278"
     },
     "user_tz": -330
    },
    "id": "QVz4k5XaPQfd"
   },
   "outputs": [
    {
     "name": "stdout",
     "output_type": "stream",
     "text": [
      "fatal: destination path 'P1_Facial_Keypoints' already exists and is not an empty directory.\r\n"
     ]
    }
   ],
   "source": [
    "# downloading the data \n",
    "\n",
    "!git clone https://github.com/udacity/P1_Facial_Keypoints.git\n",
    "!cd P1_Facial_Keypoints\n",
    "root_dir = 'P1_Facial_Keypoints/data/training/'\n",
    "all_img_paths = glob.glob(os.path.join(root_dir, '*.jpg'))\n",
    "data = pd.read_csv('P1_Facial_Keypoints/data/training_frames_keypoints.csv')"
   ]
  },
  {
   "cell_type": "code",
   "execution_count": 6,
   "metadata": {
    "execution": {
     "iopub.execute_input": "2021-12-14T08:04:34.778579Z",
     "iopub.status.busy": "2021-12-14T08:04:34.778222Z",
     "iopub.status.idle": "2021-12-14T08:04:34.854549Z",
     "shell.execute_reply": "2021-12-14T08:04:34.852978Z",
     "shell.execute_reply.started": "2021-12-14T08:04:34.77852Z"
    },
    "executionInfo": {
     "elapsed": 563,
     "status": "ok",
     "timestamp": 1639457360930,
     "user": {
      "displayName": "JAGADEESHA R G",
      "photoUrl": "https://lh3.googleusercontent.com/a-/AOh14GgwPd8QKJ3EmqLtAngBJU4STxuSbAigY5iPa3g3NA=s64",
      "userId": "15957991412628301278"
     },
     "user_tz": -330
    },
    "id": "AlhOExzqPQiW",
    "outputId": "a919545e-24ce-4c80-9cd5-7d0ea96f58e1"
   },
   "outputs": [
    {
     "data": {
      "text/html": [
       "<div>\n",
       "<style scoped>\n",
       "    .dataframe tbody tr th:only-of-type {\n",
       "        vertical-align: middle;\n",
       "    }\n",
       "\n",
       "    .dataframe tbody tr th {\n",
       "        vertical-align: top;\n",
       "    }\n",
       "\n",
       "    .dataframe thead th {\n",
       "        text-align: right;\n",
       "    }\n",
       "</style>\n",
       "<table border=\"1\" class=\"dataframe\">\n",
       "  <thead>\n",
       "    <tr style=\"text-align: right;\">\n",
       "      <th></th>\n",
       "      <th>Unnamed: 0</th>\n",
       "      <th>0</th>\n",
       "      <th>1</th>\n",
       "      <th>2</th>\n",
       "      <th>3</th>\n",
       "      <th>4</th>\n",
       "      <th>5</th>\n",
       "      <th>6</th>\n",
       "      <th>7</th>\n",
       "      <th>8</th>\n",
       "      <th>...</th>\n",
       "      <th>126</th>\n",
       "      <th>127</th>\n",
       "      <th>128</th>\n",
       "      <th>129</th>\n",
       "      <th>130</th>\n",
       "      <th>131</th>\n",
       "      <th>132</th>\n",
       "      <th>133</th>\n",
       "      <th>134</th>\n",
       "      <th>135</th>\n",
       "    </tr>\n",
       "  </thead>\n",
       "  <tbody>\n",
       "    <tr>\n",
       "      <th>0</th>\n",
       "      <td>Luis_Fonsi_21.jpg</td>\n",
       "      <td>45.0</td>\n",
       "      <td>98.0</td>\n",
       "      <td>47.0</td>\n",
       "      <td>106.0</td>\n",
       "      <td>49.0</td>\n",
       "      <td>110.0</td>\n",
       "      <td>53.0</td>\n",
       "      <td>119.0</td>\n",
       "      <td>56.0</td>\n",
       "      <td>...</td>\n",
       "      <td>83.0</td>\n",
       "      <td>119.0</td>\n",
       "      <td>90.0</td>\n",
       "      <td>117.0</td>\n",
       "      <td>83.0</td>\n",
       "      <td>119.0</td>\n",
       "      <td>81.0</td>\n",
       "      <td>122.0</td>\n",
       "      <td>77.0</td>\n",
       "      <td>122.0</td>\n",
       "    </tr>\n",
       "    <tr>\n",
       "      <th>1</th>\n",
       "      <td>Lincoln_Chafee_52.jpg</td>\n",
       "      <td>41.0</td>\n",
       "      <td>83.0</td>\n",
       "      <td>43.0</td>\n",
       "      <td>91.0</td>\n",
       "      <td>45.0</td>\n",
       "      <td>100.0</td>\n",
       "      <td>47.0</td>\n",
       "      <td>108.0</td>\n",
       "      <td>51.0</td>\n",
       "      <td>...</td>\n",
       "      <td>85.0</td>\n",
       "      <td>122.0</td>\n",
       "      <td>94.0</td>\n",
       "      <td>120.0</td>\n",
       "      <td>85.0</td>\n",
       "      <td>122.0</td>\n",
       "      <td>83.0</td>\n",
       "      <td>122.0</td>\n",
       "      <td>79.0</td>\n",
       "      <td>122.0</td>\n",
       "    </tr>\n",
       "    <tr>\n",
       "      <th>2</th>\n",
       "      <td>Valerie_Harper_30.jpg</td>\n",
       "      <td>56.0</td>\n",
       "      <td>69.0</td>\n",
       "      <td>56.0</td>\n",
       "      <td>77.0</td>\n",
       "      <td>56.0</td>\n",
       "      <td>86.0</td>\n",
       "      <td>56.0</td>\n",
       "      <td>94.0</td>\n",
       "      <td>58.0</td>\n",
       "      <td>...</td>\n",
       "      <td>79.0</td>\n",
       "      <td>105.0</td>\n",
       "      <td>86.0</td>\n",
       "      <td>108.0</td>\n",
       "      <td>77.0</td>\n",
       "      <td>105.0</td>\n",
       "      <td>75.0</td>\n",
       "      <td>105.0</td>\n",
       "      <td>73.0</td>\n",
       "      <td>105.0</td>\n",
       "    </tr>\n",
       "  </tbody>\n",
       "</table>\n",
       "<p>3 rows × 137 columns</p>\n",
       "</div>"
      ],
      "text/plain": [
       "              Unnamed: 0     0     1     2      3     4      5     6      7  \\\n",
       "0      Luis_Fonsi_21.jpg  45.0  98.0  47.0  106.0  49.0  110.0  53.0  119.0   \n",
       "1  Lincoln_Chafee_52.jpg  41.0  83.0  43.0   91.0  45.0  100.0  47.0  108.0   \n",
       "2  Valerie_Harper_30.jpg  56.0  69.0  56.0   77.0  56.0   86.0  56.0   94.0   \n",
       "\n",
       "      8  ...   126    127   128    129   130    131   132    133   134    135  \n",
       "0  56.0  ...  83.0  119.0  90.0  117.0  83.0  119.0  81.0  122.0  77.0  122.0  \n",
       "1  51.0  ...  85.0  122.0  94.0  120.0  85.0  122.0  83.0  122.0  79.0  122.0  \n",
       "2  58.0  ...  79.0  105.0  86.0  108.0  77.0  105.0  75.0  105.0  73.0  105.0  \n",
       "\n",
       "[3 rows x 137 columns]"
      ]
     },
     "execution_count": 6,
     "metadata": {},
     "output_type": "execute_result"
    }
   ],
   "source": [
    "data.head(3)"
   ]
  },
  {
   "cell_type": "code",
   "execution_count": 7,
   "metadata": {
    "execution": {
     "iopub.execute_input": "2021-12-14T08:04:43.23833Z",
     "iopub.status.busy": "2021-12-14T08:04:43.237866Z",
     "iopub.status.idle": "2021-12-14T08:04:43.243849Z",
     "shell.execute_reply": "2021-12-14T08:04:43.242954Z",
     "shell.execute_reply.started": "2021-12-14T08:04:43.238291Z"
    },
    "executionInfo": {
     "elapsed": 817,
     "status": "ok",
     "timestamp": 1639457374694,
     "user": {
      "displayName": "JAGADEESHA R G",
      "photoUrl": "https://lh3.googleusercontent.com/a-/AOh14GgwPd8QKJ3EmqLtAngBJU4STxuSbAigY5iPa3g3NA=s64",
      "userId": "15957991412628301278"
     },
     "user_tz": -330
    },
    "id": "vJCFvZxrRdAN",
    "outputId": "0c7c80fe-516e-4b08-a147-7b302c98acec"
   },
   "outputs": [
    {
     "data": {
      "text/plain": [
       "(3462, 137)"
      ]
     },
     "execution_count": 7,
     "metadata": {},
     "output_type": "execute_result"
    }
   ],
   "source": [
    "data.shape"
   ]
  },
  {
   "cell_type": "code",
   "execution_count": 8,
   "metadata": {
    "execution": {
     "iopub.execute_input": "2021-12-14T08:04:43.823615Z",
     "iopub.status.busy": "2021-12-14T08:04:43.823124Z",
     "iopub.status.idle": "2021-12-14T08:04:43.828585Z",
     "shell.execute_reply": "2021-12-14T08:04:43.827878Z",
     "shell.execute_reply.started": "2021-12-14T08:04:43.823577Z"
    },
    "executionInfo": {
     "elapsed": 8,
     "status": "ok",
     "timestamp": 1639458159818,
     "user": {
      "displayName": "JAGADEESHA R G",
      "photoUrl": "https://lh3.googleusercontent.com/a-/AOh14GgwPd8QKJ3EmqLtAngBJU4STxuSbAigY5iPa3g3NA=s64",
      "userId": "15957991412628301278"
     },
     "user_tz": -330
    },
    "id": "GUkWHnHZUXvZ"
   },
   "outputs": [],
   "source": [
    "doc = data.iloc[0]"
   ]
  },
  {
   "cell_type": "code",
   "execution_count": 9,
   "metadata": {},
   "outputs": [
    {
     "data": {
      "text/plain": [
       "Unnamed: 0    Luis_Fonsi_21.jpg\n",
       "0                          45.0\n",
       "1                          98.0\n",
       "2                          47.0\n",
       "3                         106.0\n",
       "                    ...        \n",
       "131                       119.0\n",
       "132                        81.0\n",
       "133                       122.0\n",
       "134                        77.0\n",
       "135                       122.0\n",
       "Name: 0, Length: 137, dtype: object"
      ]
     },
     "execution_count": 9,
     "metadata": {},
     "output_type": "execute_result"
    }
   ],
   "source": [
    "data.iloc[0]"
   ]
  },
  {
   "cell_type": "code",
   "execution_count": 10,
   "metadata": {
    "execution": {
     "iopub.execute_input": "2021-12-14T08:04:47.998229Z",
     "iopub.status.busy": "2021-12-14T08:04:47.99775Z",
     "iopub.status.idle": "2021-12-14T08:04:48.341718Z",
     "shell.execute_reply": "2021-12-14T08:04:48.340928Z",
     "shell.execute_reply.started": "2021-12-14T08:04:47.998189Z"
    },
    "executionInfo": {
     "elapsed": 12,
     "status": "ok",
     "timestamp": 1639459253179,
     "user": {
      "displayName": "JAGADEESHA R G",
      "photoUrl": "https://lh3.googleusercontent.com/a-/AOh14GgwPd8QKJ3EmqLtAngBJU4STxuSbAigY5iPa3g3NA=s64",
      "userId": "15957991412628301278"
     },
     "user_tz": -330
    },
    "id": "H_c5AdWBV0BS",
    "outputId": "aeaa31f3-6ec8-4625-92b0-04030f3ac5e7"
   },
   "outputs": [
    {
     "data": {
      "image/png": "[encoded data removed]",
      "text/plain": [
       "<Figure size 640x480 with 2 Axes>"
      ]
     },
     "metadata": {},
     "output_type": "display_data"
    }
   ],
   "source": [
    "# before getting into actual work, printing the sample of expected result. \n",
    "\n",
    "img_arr = cv2.imread(os.path.join(root_dir, 'Luis_Fonsi_21.jpg'))\n",
    "img_arr = img_arr[:,:,::-1]                                                       # converting BGR to RGB\n",
    "x_points = data.iloc[0][1:][::2]\n",
    "y_points = data.iloc[0][2:][::2]\n",
    "plt.subplot(121)\n",
    "plt.imshow(img_arr)\n",
    "plt.title(\" Actual Image \")\n",
    "plt.subplot(122)\n",
    "plt.imshow(img_arr)\n",
    "plt.scatter(list(x_points), list(y_points))\n",
    "plt.title(\" Actual Image with keyponts\")\n",
    "plt.show()"
   ]
  },
  {
   "cell_type": "code",
   "execution_count": 11,
   "metadata": {},
   "outputs": [
    {
     "data": {
      "text/plain": [
       "(192, 176, 3)"
      ]
     },
     "execution_count": 11,
     "metadata": {},
     "output_type": "execute_result"
    }
   ],
   "source": [
    "cv2.imread(os.path.join(root_dir, 'Luis_Fonsi_21.jpg')).shape\n",
    "# cv2.imread(os.path.join(root_dir, 'Abdullah_Gul_11.jpg')).shape"
   ]
  },
  {
   "cell_type": "markdown",
   "metadata": {
    "id": "j5WxuRzqRkvc"
   },
   "source": [
    "### in this dataset, first column correpond to image name. Starting from second column, even columns correspond to X-axis of the facial points and odd columns correpsond to y-axis of the points"
   ]
  },
  {
   "cell_type": "markdown",
   "metadata": {
    "id": "G9YqTRFNSJ_t"
   },
   "source": [
    "### total 68 facial points to be detected for each image "
   ]
  },
  {
   "cell_type": "code",
   "execution_count": 108,
   "metadata": {
    "execution": {
     "iopub.execute_input": "2021-12-14T08:04:52.057891Z",
     "iopub.status.busy": "2021-12-14T08:04:52.057012Z",
     "iopub.status.idle": "2021-12-14T08:04:52.069558Z",
     "shell.execute_reply": "2021-12-14T08:04:52.068684Z",
     "shell.execute_reply.started": "2021-12-14T08:04:52.057834Z"
    },
    "executionInfo": {
     "elapsed": 5,
     "status": "ok",
     "timestamp": 1639465457955,
     "user": {
      "displayName": "JAGADEESHA R G",
      "photoUrl": "https://lh3.googleusercontent.com/a-/AOh14GgwPd8QKJ3EmqLtAngBJU4STxuSbAigY5iPa3g3NA=s64",
      "userId": "15957991412628301278"
     },
     "user_tz": -330
    },
    "id": "A13YBLxcRdDN"
   },
   "outputs": [],
   "source": [
    "# preparing the dataset and datalaoder \n",
    "\n",
    "class FaceDataset(Dataset):\n",
    "  def __init__(self, df):\n",
    "    super().__init__()\n",
    "    self.normalize = transforms.Normalize(mean=[0.485, 0.456, 0.406],\n",
    "                                              std=[0.229, 0.224, 0.225])\n",
    "    self.df = df\n",
    "\n",
    "  def __getitem__(self, ix):\n",
    "    doc = self.df.iloc[ix]\n",
    "    image_name = doc[0]\n",
    "    image_path = os.path.join(root_dir,image_name)  \n",
    "    img_arr = cv2.imread(image_path)\n",
    "#     print(img_arr.shape)\n",
    "#     plt.subplot(121)\n",
    "#     plt.imshow(img_arr)\n",
    "    x_axis_points = doc[1:][::2]\n",
    "    y_axis_points = doc[2:][::2]\n",
    "#     x_axis_points = list(x_axis_points/img_arr.shape[1])                                    # scaling the facial points with respective image_dim \n",
    "#     y_axis_points = list(y_axis_points/img_arr.shape[0])                                    # so that we can use relative positions w.r.t image\n",
    "    \n",
    "    points = x_axis_points + y_axis_points  \n",
    "\n",
    "    img_arr = img_arr/255.0                                                                 # scaling the image \n",
    "    plt.subplot(121)\n",
    "    plt.imshow(cv2.resize(img_arr, (224,224)))\n",
    "#     print(x_axis_points*224)\n",
    "    plt.scatter(list(x_axis_points), list(y_axis_points)\n",
    "    print(img_arr.shape)\n",
    "    img = self.preprocess_img(img_arr)\n",
    "    \n",
    "#     plt.subplot(121)\n",
    "#     plt.imshow(img)\n",
    "    \n",
    "    return img.to(device), torch.tensor(points).to(device)\n",
    "\n",
    "  def __len__(self):\n",
    "    return self.df.shape[0]\n",
    "\n",
    "    \n",
    "  def preprocess_img(self, img):\n",
    "    img = cv2.resize(img, (224,224)) \n",
    "#     plt.subplot(121)\n",
    "#     plt.imshow(img)\n",
    "    img = torch.tensor(img).permute(2,0,1) \n",
    "    img = self.normalize(img).float()\n",
    "    return img\n",
    "     \n",
    "  def load_img(self, ix):\n",
    "    doc = self.df.iloc[ix]\n",
    "    img_name = doc[0]\n",
    "    img = cv2.imread(os.path.join(root_dir, img_name))\n",
    "    return img\n"
   ]
  },
  {
   "cell_type": "code",
   "execution_count": 109,
   "metadata": {
    "execution": {
     "iopub.execute_input": "2021-12-14T08:04:52.260254Z",
     "iopub.status.busy": "2021-12-14T08:04:52.260038Z",
     "iopub.status.idle": "2021-12-14T08:04:52.270486Z",
     "shell.execute_reply": "2021-12-14T08:04:52.269675Z",
     "shell.execute_reply.started": "2021-12-14T08:04:52.260229Z"
    },
    "executionInfo": {
     "elapsed": 743,
     "status": "ok",
     "timestamp": 1639463922134,
     "user": {
      "displayName": "JAGADEESHA R G",
      "photoUrl": "https://lh3.googleusercontent.com/a-/AOh14GgwPd8QKJ3EmqLtAngBJU4STxuSbAigY5iPa3g3NA=s64",
      "userId": "15957991412628301278"
     },
     "user_tz": -330
    },
    "id": "DNzApaLXqcUs"
   },
   "outputs": [],
   "source": [
    "train_df, test_df = train_test_split(data, test_size=0.2)"
   ]
  },
  {
   "cell_type": "code",
   "execution_count": 110,
   "metadata": {
    "execution": {
     "iopub.execute_input": "2021-12-14T08:04:52.46136Z",
     "iopub.status.busy": "2021-12-14T08:04:52.461114Z",
     "iopub.status.idle": "2021-12-14T08:04:52.467213Z",
     "shell.execute_reply": "2021-12-14T08:04:52.466186Z",
     "shell.execute_reply.started": "2021-12-14T08:04:52.461333Z"
    },
    "executionInfo": {
     "elapsed": 6,
     "status": "ok",
     "timestamp": 1639463943340,
     "user": {
      "displayName": "JAGADEESHA R G",
      "photoUrl": "https://lh3.googleusercontent.com/a-/AOh14GgwPd8QKJ3EmqLtAngBJU4STxuSbAigY5iPa3g3NA=s64",
      "userId": "15957991412628301278"
     },
     "user_tz": -330
    },
    "id": "zaJgVh8Oqi5G",
    "outputId": "4394a2e6-9c4f-482d-e934-d689176dc6fd"
   },
   "outputs": [
    {
     "name": "stdout",
     "output_type": "stream",
     "text": [
      "(2769, 137)\n",
      "(693, 137)\n"
     ]
    }
   ],
   "source": [
    "print(train_df.shape)\n",
    "print(test_df.shape)"
   ]
  },
  {
   "cell_type": "code",
   "execution_count": 111,
   "metadata": {},
   "outputs": [
    {
     "data": {
      "text/html": [
       "<div>\n",
       "<style scoped>\n",
       "    .dataframe tbody tr th:only-of-type {\n",
       "        vertical-align: middle;\n",
       "    }\n",
       "\n",
       "    .dataframe tbody tr th {\n",
       "        vertical-align: top;\n",
       "    }\n",
       "\n",
       "    .dataframe thead th {\n",
       "        text-align: right;\n",
       "    }\n",
       "</style>\n",
       "<table border=\"1\" class=\"dataframe\">\n",
       "  <thead>\n",
       "    <tr style=\"text-align: right;\">\n",
       "      <th></th>\n",
       "      <th>Unnamed: 0</th>\n",
       "      <th>0</th>\n",
       "      <th>1</th>\n",
       "      <th>2</th>\n",
       "      <th>3</th>\n",
       "      <th>4</th>\n",
       "      <th>5</th>\n",
       "      <th>6</th>\n",
       "      <th>7</th>\n",
       "      <th>8</th>\n",
       "      <th>...</th>\n",
       "      <th>126</th>\n",
       "      <th>127</th>\n",
       "      <th>128</th>\n",
       "      <th>129</th>\n",
       "      <th>130</th>\n",
       "      <th>131</th>\n",
       "      <th>132</th>\n",
       "      <th>133</th>\n",
       "      <th>134</th>\n",
       "      <th>135</th>\n",
       "    </tr>\n",
       "  </thead>\n",
       "  <tbody>\n",
       "    <tr>\n",
       "      <th>117</th>\n",
       "      <td>Priyanka_Chopra_41.jpg</td>\n",
       "      <td>63.0</td>\n",
       "      <td>82.0</td>\n",
       "      <td>63.0</td>\n",
       "      <td>91.0</td>\n",
       "      <td>63.0</td>\n",
       "      <td>99.0</td>\n",
       "      <td>63.0</td>\n",
       "      <td>108.0</td>\n",
       "      <td>65.0</td>\n",
       "      <td>...</td>\n",
       "      <td>97.0</td>\n",
       "      <td>113.0</td>\n",
       "      <td>105.0</td>\n",
       "      <td>115.0</td>\n",
       "      <td>97.0</td>\n",
       "      <td>117.0</td>\n",
       "      <td>93.0</td>\n",
       "      <td>117.0</td>\n",
       "      <td>88.0</td>\n",
       "      <td>117.0</td>\n",
       "    </tr>\n",
       "    <tr>\n",
       "      <th>2328</th>\n",
       "      <td>Carlos_Menem_00.jpg</td>\n",
       "      <td>22.0</td>\n",
       "      <td>48.0</td>\n",
       "      <td>24.0</td>\n",
       "      <td>53.0</td>\n",
       "      <td>25.0</td>\n",
       "      <td>58.0</td>\n",
       "      <td>27.0</td>\n",
       "      <td>63.0</td>\n",
       "      <td>30.0</td>\n",
       "      <td>...</td>\n",
       "      <td>54.0</td>\n",
       "      <td>57.0</td>\n",
       "      <td>58.0</td>\n",
       "      <td>60.0</td>\n",
       "      <td>54.0</td>\n",
       "      <td>59.0</td>\n",
       "      <td>51.0</td>\n",
       "      <td>59.0</td>\n",
       "      <td>50.0</td>\n",
       "      <td>59.0</td>\n",
       "    </tr>\n",
       "    <tr>\n",
       "      <th>3442</th>\n",
       "      <td>Lucia_Kenny_Anthony_00.jpg</td>\n",
       "      <td>70.0</td>\n",
       "      <td>94.0</td>\n",
       "      <td>73.0</td>\n",
       "      <td>103.0</td>\n",
       "      <td>76.0</td>\n",
       "      <td>116.0</td>\n",
       "      <td>80.0</td>\n",
       "      <td>125.0</td>\n",
       "      <td>83.0</td>\n",
       "      <td>...</td>\n",
       "      <td>110.0</td>\n",
       "      <td>116.0</td>\n",
       "      <td>126.0</td>\n",
       "      <td>113.0</td>\n",
       "      <td>110.0</td>\n",
       "      <td>113.0</td>\n",
       "      <td>107.0</td>\n",
       "      <td>116.0</td>\n",
       "      <td>101.0</td>\n",
       "      <td>116.0</td>\n",
       "    </tr>\n",
       "    <tr>\n",
       "      <th>1632</th>\n",
       "      <td>Kristen_Breitweiser_51.jpg</td>\n",
       "      <td>78.0</td>\n",
       "      <td>91.0</td>\n",
       "      <td>78.0</td>\n",
       "      <td>99.0</td>\n",
       "      <td>78.0</td>\n",
       "      <td>109.0</td>\n",
       "      <td>80.0</td>\n",
       "      <td>119.0</td>\n",
       "      <td>86.0</td>\n",
       "      <td>...</td>\n",
       "      <td>111.0</td>\n",
       "      <td>115.0</td>\n",
       "      <td>121.0</td>\n",
       "      <td>120.0</td>\n",
       "      <td>111.0</td>\n",
       "      <td>120.0</td>\n",
       "      <td>106.0</td>\n",
       "      <td>120.0</td>\n",
       "      <td>103.0</td>\n",
       "      <td>120.0</td>\n",
       "    </tr>\n",
       "    <tr>\n",
       "      <th>3291</th>\n",
       "      <td>Eric_Benet_32.jpg</td>\n",
       "      <td>55.0</td>\n",
       "      <td>69.0</td>\n",
       "      <td>55.0</td>\n",
       "      <td>78.0</td>\n",
       "      <td>57.0</td>\n",
       "      <td>84.0</td>\n",
       "      <td>61.0</td>\n",
       "      <td>93.0</td>\n",
       "      <td>64.0</td>\n",
       "      <td>...</td>\n",
       "      <td>85.0</td>\n",
       "      <td>91.0</td>\n",
       "      <td>95.0</td>\n",
       "      <td>89.0</td>\n",
       "      <td>85.0</td>\n",
       "      <td>91.0</td>\n",
       "      <td>81.0</td>\n",
       "      <td>93.0</td>\n",
       "      <td>76.0</td>\n",
       "      <td>93.0</td>\n",
       "    </tr>\n",
       "    <tr>\n",
       "      <th>...</th>\n",
       "      <td>...</td>\n",
       "      <td>...</td>\n",
       "      <td>...</td>\n",
       "      <td>...</td>\n",
       "      <td>...</td>\n",
       "      <td>...</td>\n",
       "      <td>...</td>\n",
       "      <td>...</td>\n",
       "      <td>...</td>\n",
       "      <td>...</td>\n",
       "      <td>...</td>\n",
       "      <td>...</td>\n",
       "      <td>...</td>\n",
       "      <td>...</td>\n",
       "      <td>...</td>\n",
       "      <td>...</td>\n",
       "      <td>...</td>\n",
       "      <td>...</td>\n",
       "      <td>...</td>\n",
       "      <td>...</td>\n",
       "      <td>...</td>\n",
       "    </tr>\n",
       "    <tr>\n",
       "      <th>1486</th>\n",
       "      <td>Itzhak_Perlman_31.jpg</td>\n",
       "      <td>65.0</td>\n",
       "      <td>63.0</td>\n",
       "      <td>63.0</td>\n",
       "      <td>76.0</td>\n",
       "      <td>63.0</td>\n",
       "      <td>86.0</td>\n",
       "      <td>63.0</td>\n",
       "      <td>96.0</td>\n",
       "      <td>65.0</td>\n",
       "      <td>...</td>\n",
       "      <td>116.0</td>\n",
       "      <td>115.0</td>\n",
       "      <td>124.0</td>\n",
       "      <td>118.0</td>\n",
       "      <td>116.0</td>\n",
       "      <td>115.0</td>\n",
       "      <td>114.0</td>\n",
       "      <td>115.0</td>\n",
       "      <td>109.0</td>\n",
       "      <td>115.0</td>\n",
       "    </tr>\n",
       "    <tr>\n",
       "      <th>3371</th>\n",
       "      <td>Sanjay_Gupta_41.jpg</td>\n",
       "      <td>92.0</td>\n",
       "      <td>98.0</td>\n",
       "      <td>89.0</td>\n",
       "      <td>117.0</td>\n",
       "      <td>89.0</td>\n",
       "      <td>131.0</td>\n",
       "      <td>92.0</td>\n",
       "      <td>146.0</td>\n",
       "      <td>92.0</td>\n",
       "      <td>...</td>\n",
       "      <td>162.0</td>\n",
       "      <td>177.0</td>\n",
       "      <td>177.0</td>\n",
       "      <td>177.0</td>\n",
       "      <td>162.0</td>\n",
       "      <td>184.0</td>\n",
       "      <td>155.0</td>\n",
       "      <td>184.0</td>\n",
       "      <td>144.0</td>\n",
       "      <td>180.0</td>\n",
       "    </tr>\n",
       "    <tr>\n",
       "      <th>2160</th>\n",
       "      <td>JK_Rowling_30.jpg</td>\n",
       "      <td>60.0</td>\n",
       "      <td>129.0</td>\n",
       "      <td>60.0</td>\n",
       "      <td>143.0</td>\n",
       "      <td>64.0</td>\n",
       "      <td>158.0</td>\n",
       "      <td>68.0</td>\n",
       "      <td>173.0</td>\n",
       "      <td>75.0</td>\n",
       "      <td>...</td>\n",
       "      <td>141.0</td>\n",
       "      <td>174.0</td>\n",
       "      <td>149.0</td>\n",
       "      <td>174.0</td>\n",
       "      <td>138.0</td>\n",
       "      <td>174.0</td>\n",
       "      <td>134.0</td>\n",
       "      <td>174.0</td>\n",
       "      <td>130.0</td>\n",
       "      <td>174.0</td>\n",
       "    </tr>\n",
       "    <tr>\n",
       "      <th>1772</th>\n",
       "      <td>Ben_Kingsley_20.jpg</td>\n",
       "      <td>114.0</td>\n",
       "      <td>77.0</td>\n",
       "      <td>114.0</td>\n",
       "      <td>86.0</td>\n",
       "      <td>116.0</td>\n",
       "      <td>92.0</td>\n",
       "      <td>118.0</td>\n",
       "      <td>101.0</td>\n",
       "      <td>118.0</td>\n",
       "      <td>...</td>\n",
       "      <td>137.0</td>\n",
       "      <td>107.0</td>\n",
       "      <td>144.0</td>\n",
       "      <td>108.0</td>\n",
       "      <td>135.0</td>\n",
       "      <td>107.0</td>\n",
       "      <td>133.0</td>\n",
       "      <td>107.0</td>\n",
       "      <td>131.0</td>\n",
       "      <td>107.0</td>\n",
       "    </tr>\n",
       "    <tr>\n",
       "      <th>212</th>\n",
       "      <td>Frank_Beamer_20.jpg</td>\n",
       "      <td>30.0</td>\n",
       "      <td>70.0</td>\n",
       "      <td>30.0</td>\n",
       "      <td>80.0</td>\n",
       "      <td>30.0</td>\n",
       "      <td>88.0</td>\n",
       "      <td>33.0</td>\n",
       "      <td>100.0</td>\n",
       "      <td>38.0</td>\n",
       "      <td>...</td>\n",
       "      <td>84.0</td>\n",
       "      <td>114.0</td>\n",
       "      <td>89.0</td>\n",
       "      <td>112.0</td>\n",
       "      <td>84.0</td>\n",
       "      <td>114.0</td>\n",
       "      <td>81.0</td>\n",
       "      <td>114.0</td>\n",
       "      <td>76.0</td>\n",
       "      <td>114.0</td>\n",
       "    </tr>\n",
       "  </tbody>\n",
       "</table>\n",
       "<p>2769 rows × 137 columns</p>\n",
       "</div>"
      ],
      "text/plain": [
       "                      Unnamed: 0      0      1      2      3      4      5  \\\n",
       "117       Priyanka_Chopra_41.jpg   63.0   82.0   63.0   91.0   63.0   99.0   \n",
       "2328         Carlos_Menem_00.jpg   22.0   48.0   24.0   53.0   25.0   58.0   \n",
       "3442  Lucia_Kenny_Anthony_00.jpg   70.0   94.0   73.0  103.0   76.0  116.0   \n",
       "1632  Kristen_Breitweiser_51.jpg   78.0   91.0   78.0   99.0   78.0  109.0   \n",
       "3291           Eric_Benet_32.jpg   55.0   69.0   55.0   78.0   57.0   84.0   \n",
       "...                          ...    ...    ...    ...    ...    ...    ...   \n",
       "1486       Itzhak_Perlman_31.jpg   65.0   63.0   63.0   76.0   63.0   86.0   \n",
       "3371         Sanjay_Gupta_41.jpg   92.0   98.0   89.0  117.0   89.0  131.0   \n",
       "2160           JK_Rowling_30.jpg   60.0  129.0   60.0  143.0   64.0  158.0   \n",
       "1772         Ben_Kingsley_20.jpg  114.0   77.0  114.0   86.0  116.0   92.0   \n",
       "212          Frank_Beamer_20.jpg   30.0   70.0   30.0   80.0   30.0   88.0   \n",
       "\n",
       "          6      7      8  ...    126    127    128    129    130    131  \\\n",
       "117    63.0  108.0   65.0  ...   97.0  113.0  105.0  115.0   97.0  117.0   \n",
       "2328   27.0   63.0   30.0  ...   54.0   57.0   58.0   60.0   54.0   59.0   \n",
       "3442   80.0  125.0   83.0  ...  110.0  116.0  126.0  113.0  110.0  113.0   \n",
       "1632   80.0  119.0   86.0  ...  111.0  115.0  121.0  120.0  111.0  120.0   \n",
       "3291   61.0   93.0   64.0  ...   85.0   91.0   95.0   89.0   85.0   91.0   \n",
       "...     ...    ...    ...  ...    ...    ...    ...    ...    ...    ...   \n",
       "1486   63.0   96.0   65.0  ...  116.0  115.0  124.0  118.0  116.0  115.0   \n",
       "3371   92.0  146.0   92.0  ...  162.0  177.0  177.0  177.0  162.0  184.0   \n",
       "2160   68.0  173.0   75.0  ...  141.0  174.0  149.0  174.0  138.0  174.0   \n",
       "1772  118.0  101.0  118.0  ...  137.0  107.0  144.0  108.0  135.0  107.0   \n",
       "212    33.0  100.0   38.0  ...   84.0  114.0   89.0  112.0   84.0  114.0   \n",
       "\n",
       "        132    133    134    135  \n",
       "117    93.0  117.0   88.0  117.0  \n",
       "2328   51.0   59.0   50.0   59.0  \n",
       "3442  107.0  116.0  101.0  116.0  \n",
       "1632  106.0  120.0  103.0  120.0  \n",
       "3291   81.0   93.0   76.0   93.0  \n",
       "...     ...    ...    ...    ...  \n",
       "1486  114.0  115.0  109.0  115.0  \n",
       "3371  155.0  184.0  144.0  180.0  \n",
       "2160  134.0  174.0  130.0  174.0  \n",
       "1772  133.0  107.0  131.0  107.0  \n",
       "212    81.0  114.0   76.0  114.0  \n",
       "\n",
       "[2769 rows x 137 columns]"
      ]
     },
     "execution_count": 111,
     "metadata": {},
     "output_type": "execute_result"
    }
   ],
   "source": [
    "train_df"
   ]
  },
  {
   "cell_type": "code",
   "execution_count": 112,
   "metadata": {
    "execution": {
     "iopub.execute_input": "2021-12-14T08:04:52.629312Z",
     "iopub.status.busy": "2021-12-14T08:04:52.629052Z",
     "iopub.status.idle": "2021-12-14T08:04:52.634408Z",
     "shell.execute_reply": "2021-12-14T08:04:52.633673Z",
     "shell.execute_reply.started": "2021-12-14T08:04:52.629282Z"
    },
    "executionInfo": {
     "elapsed": 482,
     "status": "ok",
     "timestamp": 1639465465484,
     "user": {
      "displayName": "JAGADEESHA R G",
      "photoUrl": "https://lh3.googleusercontent.com/a-/AOh14GgwPd8QKJ3EmqLtAngBJU4STxuSbAigY5iPa3g3NA=s64",
      "userId": "15957991412628301278"
     },
     "user_tz": -330
    },
    "id": "IBKOdtYBRdGM"
   },
   "outputs": [],
   "source": [
    "train_dataset = FaceDataset(train_df)\n",
    "test_dataset = FaceDataset(test_df)"
   ]
  },
  {
   "cell_type": "code",
   "execution_count": 113,
   "metadata": {},
   "outputs": [
    {
     "name": "stdout",
     "output_type": "stream",
     "text": [
      "0       63.0\n",
      "2       63.0\n",
      "4       63.0\n",
      "6       63.0\n",
      "8       65.0\n",
      "       ...  \n",
      "126     97.0\n",
      "128    105.0\n",
      "130     97.0\n",
      "132     93.0\n",
      "134     88.0\n",
      "Name: 117, Length: 68, dtype: object\n",
      "(191, 191, 3)\n"
     ]
    },
    {
     "data": {
      "text/plain": [
       "(tensor([[[-2.1179, -2.1179, -2.1179,  ..., -1.9809, -1.9809, -1.9809],\n",
       "          [-2.1179, -2.1179, -2.1179,  ..., -2.0476, -2.0476, -2.0476],\n",
       "          [-2.0746, -2.0746, -2.0746,  ..., -2.0990, -2.0990, -2.0990],\n",
       "          ...,\n",
       "          [-1.2382, -1.2965, -1.3375,  ..., -0.6001, -0.6147, -0.6281],\n",
       "          [-1.2350, -1.2987, -1.3229,  ..., -0.6001, -0.6147, -0.6281],\n",
       "          [-1.2617, -1.3150, -1.3193,  ..., -0.6001, -0.6147, -0.6281]],\n",
       " \n",
       "         [[-2.0357, -2.0357, -2.0357,  ..., -2.0357, -2.0357, -2.0357],\n",
       "          [-2.0357, -2.0357, -2.0357,  ..., -2.0034, -1.9948, -1.9948],\n",
       "          [-2.0357, -2.0357, -2.0357,  ..., -1.9832, -1.9721, -1.9721],\n",
       "          ...,\n",
       "          [ 0.0237, -0.0582, -0.1215,  ...,  0.5903,  0.5865,  0.5728],\n",
       "          [ 0.0049, -0.0739, -0.1295,  ...,  0.5903,  0.5865,  0.5728],\n",
       "          [-0.0224, -0.0906, -0.1431,  ...,  0.5903,  0.5865,  0.5728]],\n",
       " \n",
       "         [[-1.6999, -1.6999, -1.6999,  ..., -1.7870, -1.7870, -1.7870],\n",
       "          [-1.7678, -1.7678, -1.7678,  ..., -1.8006, -1.8006, -1.8006],\n",
       "          [-1.7870, -1.7870, -1.7870,  ..., -1.8044, -1.8044, -1.8044],\n",
       "          ...,\n",
       "          [ 1.7493,  1.6507,  1.5786,  ...,  2.2960,  2.2701,  2.2566],\n",
       "          [ 1.7085,  1.6271,  1.5624,  ...,  2.2960,  2.2701,  2.2566],\n",
       "          [ 1.6814,  1.5999,  1.5438,  ...,  2.2960,  2.2701,  2.2566]]],\n",
       "        device='cuda:0'),\n",
       " tensor([0.3298, 0.3298, 0.3298, 0.3298, 0.3403, 0.3613, 0.3874, 0.4188, 0.4869,\n",
       "         0.5393, 0.5864, 0.6178, 0.6545, 0.6754, 0.6859, 0.6963, 0.7068, 0.3717,\n",
       "         0.3979, 0.4188, 0.4503, 0.4607, 0.5654, 0.5969, 0.6178, 0.6545, 0.6754,\n",
       "         0.5079, 0.5079, 0.5079, 0.4974, 0.4607, 0.4764, 0.4974, 0.5183, 0.5288,\n",
       "         0.3979, 0.4188, 0.4398, 0.4607, 0.4398, 0.4188, 0.5654, 0.5864, 0.6178,\n",
       "         0.6283, 0.6073, 0.5864, 0.4188, 0.4398, 0.4764, 0.4974, 0.5079, 0.5393,\n",
       "         0.5497, 0.5288, 0.5079, 0.4869, 0.4607, 0.4398, 0.4293, 0.4764, 0.4869,\n",
       "         0.5079, 0.5497, 0.5079, 0.4869, 0.4607, 0.4293, 0.4764, 0.5183, 0.5654,\n",
       "         0.6073, 0.6440, 0.6754, 0.7016, 0.7120, 0.7120, 0.6911, 0.6806, 0.6492,\n",
       "         0.6021, 0.5602, 0.5131, 0.4712, 0.3770, 0.3560, 0.3560, 0.3560, 0.3665,\n",
       "         0.3770, 0.3770, 0.3665, 0.3822, 0.4031, 0.4346, 0.4660, 0.4869, 0.5131,\n",
       "         0.5340, 0.5340, 0.5445, 0.5445, 0.5445, 0.4188, 0.4188, 0.4188, 0.4346,\n",
       "         0.4346, 0.4346, 0.4450, 0.4346, 0.4346, 0.4450, 0.4555, 0.4555, 0.5864,\n",
       "         0.5654, 0.5654, 0.5654, 0.5654, 0.5916, 0.6021, 0.6230, 0.6335, 0.6335,\n",
       "         0.6335, 0.6126, 0.5864, 0.5759, 0.5864, 0.5916, 0.6021, 0.6126, 0.6126,\n",
       "         0.6126], device='cuda:0', dtype=torch.float64))"
      ]
     },
     "execution_count": 113,
     "metadata": {},
     "output_type": "execute_result"
    },
    {
     "data": {
      "image/png": "[encoded data removed]",
      "text/plain": [
       "<Figure size 640x480 with 1 Axes>"
      ]
     },
     "metadata": {},
     "output_type": "display_data"
    }
   ],
   "source": [
    "train_dataset[0]"
   ]
  },
  {
   "cell_type": "code",
   "execution_count": 15,
   "metadata": {
    "execution": {
     "iopub.execute_input": "2021-12-14T08:04:52.817815Z",
     "iopub.status.busy": "2021-12-14T08:04:52.816952Z",
     "iopub.status.idle": "2021-12-14T08:04:55.763326Z",
     "shell.execute_reply": "2021-12-14T08:04:55.762331Z",
     "shell.execute_reply.started": "2021-12-14T08:04:52.81776Z"
    },
    "executionInfo": {
     "elapsed": 773,
     "status": "ok",
     "timestamp": 1639465469473,
     "user": {
      "displayName": "JAGADEESHA R G",
      "photoUrl": "https://lh3.googleusercontent.com/a-/AOh14GgwPd8QKJ3EmqLtAngBJU4STxuSbAigY5iPa3g3NA=s64",
      "userId": "15957991412628301278"
     },
     "user_tz": -330
    },
    "id": "UVEf9FwXkS-A",
    "outputId": "c30f67e1-6ab2-40eb-dbb2-aa4702db0735"
   },
   "outputs": [
    {
     "data": {
      "text/plain": [
       "(tensor([[[-1.9124, -1.9124, -1.9221,  ..., -2.0226, -2.0323, -2.0323],\n",
       "          [-1.9124, -1.9124, -1.9221,  ..., -2.0226, -2.0293, -2.0210],\n",
       "          [-1.9198, -1.9198, -1.9211,  ..., -2.0300, -2.0352, -2.0225],\n",
       "          ...,\n",
       "          [-1.5283, -1.5102, -1.5051,  ..., -1.5868, -1.6258, -1.6384],\n",
       "          [-1.5591, -1.5507, -1.5608,  ..., -1.5826, -1.6258, -1.6384],\n",
       "          [-1.6042, -1.6042, -1.6235,  ..., -1.5826, -1.6258, -1.6384]],\n",
       " \n",
       "         [[-1.7731, -1.7731, -1.7830,  ..., -1.7457, -1.7556, -1.7556],\n",
       "          [-1.7731, -1.7731, -1.7830,  ..., -1.7407, -1.7441, -1.7441],\n",
       "          [-1.7807, -1.7807, -1.7820,  ..., -1.7414, -1.7437, -1.7381],\n",
       "          ...,\n",
       "          [-1.4504, -1.4319, -1.4268,  ..., -1.4359, -1.4801, -1.4930],\n",
       "          [-1.4640, -1.4554, -1.4657,  ..., -1.4359, -1.4801, -1.4930],\n",
       "          [-1.4755, -1.4755, -1.4953,  ..., -1.4359, -1.4801, -1.4930]],\n",
       " \n",
       "         [[-1.4036, -1.4036, -1.4134,  ..., -1.4460, -1.4559, -1.4559],\n",
       "          [-1.4036, -1.4036, -1.4134,  ..., -1.4510, -1.4613, -1.4444],\n",
       "          [-1.4111, -1.4111, -1.4124,  ..., -1.4654, -1.4737, -1.4534],\n",
       "          ...,\n",
       "          [-1.0649, -1.0465, -1.0413,  ..., -1.1202, -1.1687, -1.1944],\n",
       "          [-1.0843, -1.0758, -1.0861,  ..., -1.1202, -1.1687, -1.1944],\n",
       "          [-1.1073, -1.1073, -1.1270,  ..., -1.1202, -1.1687, -1.1944]]],\n",
       "        device='cuda:0'),\n",
       " tensor([0.2919, 0.3135, 0.3351, 0.3459, 0.3730, 0.4054, 0.4270, 0.4757, 0.5351,\n",
       "         0.5892, 0.6270, 0.6378, 0.6595, 0.6595, 0.6595, 0.6595, 0.6595, 0.3027,\n",
       "         0.3243, 0.3459, 0.3730, 0.3946, 0.4973, 0.5081, 0.5459, 0.5676, 0.6000,\n",
       "         0.4649, 0.4757, 0.4757, 0.4865, 0.4649, 0.4757, 0.4973, 0.5081, 0.5189,\n",
       "         0.3459, 0.3622, 0.3838, 0.4162, 0.3946, 0.3730, 0.5081, 0.5351, 0.5568,\n",
       "         0.5784, 0.5568, 0.5351, 0.4432, 0.4649, 0.4865, 0.4973, 0.5189, 0.5459,\n",
       "         0.5676, 0.5568, 0.5351, 0.5081, 0.4865, 0.4649, 0.4541, 0.4865, 0.5081,\n",
       "         0.5189, 0.5676, 0.5189, 0.5081, 0.4865, 0.4162, 0.4682, 0.5029, 0.5549,\n",
       "         0.5896, 0.6301, 0.6416, 0.6532, 0.6532, 0.6301, 0.5954, 0.5607, 0.5202,\n",
       "         0.4740, 0.4220, 0.3757, 0.3237, 0.3410, 0.3064, 0.2948, 0.2948, 0.2948,\n",
       "         0.2717, 0.2601, 0.2486, 0.2486, 0.2601, 0.3584, 0.3931, 0.4335, 0.4566,\n",
       "         0.4798, 0.4798, 0.4798, 0.4798, 0.4682, 0.3815, 0.3699, 0.3584, 0.3699,\n",
       "         0.3815, 0.3815, 0.3468, 0.3237, 0.3237, 0.3237, 0.3353, 0.3468, 0.5549,\n",
       "         0.5434, 0.5202, 0.5202, 0.5202, 0.5202, 0.5318, 0.5434, 0.5549, 0.5665,\n",
       "         0.5665, 0.5665, 0.5549, 0.5434, 0.5434, 0.5318, 0.5318, 0.5434, 0.5434,\n",
       "         0.5434], device='cuda:0', dtype=torch.float64))"
      ]
     },
     "execution_count": 15,
     "metadata": {},
     "output_type": "execute_result"
    }
   ],
   "source": [
    "train_dataset[0]"
   ]
  },
  {
   "cell_type": "code",
   "execution_count": 45,
   "metadata": {
    "execution": {
     "iopub.execute_input": "2021-12-14T08:04:55.766047Z",
     "iopub.status.busy": "2021-12-14T08:04:55.765766Z",
     "iopub.status.idle": "2021-12-14T08:04:55.773133Z",
     "shell.execute_reply": "2021-12-14T08:04:55.772322Z",
     "shell.execute_reply.started": "2021-12-14T08:04:55.766009Z"
    },
    "executionInfo": {
     "elapsed": 5,
     "status": "ok",
     "timestamp": 1639465470694,
     "user": {
      "displayName": "JAGADEESHA R G",
      "photoUrl": "https://lh3.googleusercontent.com/a-/AOh14GgwPd8QKJ3EmqLtAngBJU4STxuSbAigY5iPa3g3NA=s64",
      "userId": "15957991412628301278"
     },
     "user_tz": -330
    },
    "id": "akFAL3Tpka3A"
   },
   "outputs": [],
   "source": [
    "train_dataloader = DataLoader(train_dataset, batch_size=25, shuffle=True)\n",
    "test_dataloader = DataLoader(test_dataset, batch_size=25, shuffle=True)"
   ]
  },
  {
   "cell_type": "code",
   "execution_count": 46,
   "metadata": {
    "execution": {
     "iopub.execute_input": "2021-12-14T08:04:55.775688Z",
     "iopub.status.busy": "2021-12-14T08:04:55.774942Z",
     "iopub.status.idle": "2021-12-14T08:04:55.938046Z",
     "shell.execute_reply": "2021-12-14T08:04:55.936521Z",
     "shell.execute_reply.started": "2021-12-14T08:04:55.775646Z"
    },
    "executionInfo": {
     "elapsed": 6,
     "status": "ok",
     "timestamp": 1639465472906,
     "user": {
      "displayName": "JAGADEESHA R G",
      "photoUrl": "https://lh3.googleusercontent.com/a-/AOh14GgwPd8QKJ3EmqLtAngBJU4STxuSbAigY5iPa3g3NA=s64",
      "userId": "15957991412628301278"
     },
     "user_tz": -330
    },
    "id": "lQP5lQNGka50",
    "outputId": "9974e42b-2447-4bba-e103-021a4d582399"
   },
   "outputs": [
    {
     "name": "stdout",
     "output_type": "stream",
     "text": [
      "torch.Size([25, 3, 224, 224])\n",
      "torch.Size([25, 136])\n"
     ]
    }
   ],
   "source": [
    "for img, points in train_dataloader:\n",
    "  print(img.shape)\n",
    "  print(points.shape)\n",
    "  break\n"
   ]
  },
  {
   "cell_type": "code",
   "execution_count": 39,
   "metadata": {
    "execution": {
     "iopub.execute_input": "2021-12-14T08:04:55.94186Z",
     "iopub.status.busy": "2021-12-14T08:04:55.941319Z",
     "iopub.status.idle": "2021-12-14T08:04:55.946368Z",
     "shell.execute_reply": "2021-12-14T08:04:55.945306Z",
     "shell.execute_reply.started": "2021-12-14T08:04:55.941828Z"
    },
    "executionInfo": {
     "elapsed": 7,
     "status": "ok",
     "timestamp": 1639460924851,
     "user": {
      "displayName": "JAGADEESHA R G",
      "photoUrl": "https://lh3.googleusercontent.com/a-/AOh14GgwPd8QKJ3EmqLtAngBJU4STxuSbAigY5iPa3g3NA=s64",
      "userId": "15957991412628301278"
     },
     "user_tz": -330
    },
    "id": "Lbkvp-R9fBLi"
   },
   "outputs": [],
   "source": [
    "# not that data pipeline is ready, creating model and training pipeline "
   ]
  },
  {
   "cell_type": "markdown",
   "metadata": {
    "id": "iN-sbDCLfSoq"
   },
   "source": [
    "## getting VGG16 pretrained model from Pytorch"
   ]
  },
  {
   "cell_type": "code",
   "execution_count": 18,
   "metadata": {},
   "outputs": [],
   "source": [
    "import torch.nn as nn\n",
    "\n",
    "class VGG_test(nn.Module):\n",
    "    def __init__(self):\n",
    "        super(VGG_test, self).__init__()\n",
    "        self.features = nn.Sequential(\n",
    "            nn.Conv2d(3, 64, kernel_size=(3, 3), stride=(1, 1), padding=(1, 1)),\n",
    "            nn.ReLU(inplace=True),\n",
    "            nn.Conv2d(64, 64, kernel_size=(3, 3), stride=(1, 1), padding=(1, 1)),\n",
    "            nn.ReLU(inplace=True),\n",
    "            nn.MaxPool2d(kernel_size=2, stride=2, padding=0, dilation=1, ceil_mode=False),\n",
    "            nn.Conv2d(64, 128, kernel_size=(3, 3), stride=(1, 1), padding=(1, 1)),\n",
    "            nn.ReLU(inplace=True),\n",
    "            nn.Conv2d(128, 128, kernel_size=(3, 3), stride=(1, 1), padding=(1, 1)),\n",
    "            nn.ReLU(inplace=True),\n",
    "            nn.MaxPool2d(kernel_size=2, stride=2, padding=0, dilation=1, ceil_mode=False),\n",
    "            nn.Conv2d(128, 256, kernel_size=(3, 3), stride=(1, 1), padding=(1, 1)),\n",
    "            nn.ReLU(inplace=True),\n",
    "            nn.Conv2d(256, 256, kernel_size=(3, 3), stride=(1, 1), padding=(1, 1)),\n",
    "            nn.ReLU(inplace=True),\n",
    "            nn.Conv2d(256, 256, kernel_size=(3, 3), stride=(1, 1), padding=(1, 1)),\n",
    "            nn.ReLU(inplace=True),\n",
    "            nn.MaxPool2d(kernel_size=2, stride=2, padding=0, dilation=1, ceil_mode=False),\n",
    "            nn.Conv2d(256, 512, kernel_size=(3, 3), stride=(1, 1), padding=(1, 1)),\n",
    "            nn.ReLU(inplace=True),\n",
    "            nn.Conv2d(512, 512, kernel_size=(3, 3), stride=(1, 1), padding=(1, 1)),\n",
    "            nn.ReLU(inplace=True),\n",
    "            nn.Conv2d(512, 512, kernel_size=(3, 3), stride=(1, 1), padding=(1, 1)),\n",
    "            nn.ReLU(inplace=True),\n",
    "            nn.MaxPool2d(kernel_size=2, stride=2, padding=0, dilation=1, ceil_mode=False),\n",
    "            nn.Conv2d(512, 512, kernel_size=(3, 3), stride=(1, 1), padding=(1, 1)),\n",
    "            nn.ReLU(inplace=True),\n",
    "            nn.Conv2d(512, 512, kernel_size=(3, 3), stride=(1, 1), padding=(1, 1)),\n",
    "            nn.ReLU(inplace=True),\n",
    "            nn.Conv2d(512, 512, kernel_size=(3, 3), stride=(1, 1), padding=(1, 1)),\n",
    "            nn.ReLU(inplace=True),\n",
    "            nn.MaxPool2d(kernel_size=2, stride=2, padding=0, dilation=1, ceil_mode=False)\n",
    "        )\n",
    "        \n",
    "        self.avgpool = nn.AdaptiveAvgPool2d(output_size=(7, 7))\n",
    "        \n",
    "        self.classifier = nn.Sequential(\n",
    "            nn.Linear(in_features=25088, out_features=4096, bias=True),\n",
    "            nn.ReLU(inplace=True),\n",
    "            nn.Dropout(p=0.5, inplace=False),\n",
    "            nn.Linear(in_features=4096, out_features=4096, bias=True),\n",
    "            nn.ReLU(inplace=True),\n",
    "            nn.Dropout(p=0.5, inplace=False),\n",
    "            nn.Linear(in_features=4096, out_features=1000, bias=True)\n",
    "        )\n",
    "    \n",
    "    def forward(self, x):\n",
    "        x = self.features(x)\n",
    "        x = self.avgpool(x)\n",
    "        x = x.view(x.size(0), -1)\n",
    "        x = self.classifier(x)\n",
    "        return x\n",
    "        "
   ]
  },
  {
   "cell_type": "code",
   "execution_count": 19,
   "metadata": {},
   "outputs": [],
   "source": [
    "model = VGG_test()"
   ]
  },
  {
   "cell_type": "code",
   "execution_count": 20,
   "metadata": {},
   "outputs": [
    {
     "data": {
      "text/plain": [
       "VGG_test(\n",
       "  (features): Sequential(\n",
       "    (0): Conv2d(3, 64, kernel_size=(3, 3), stride=(1, 1), padding=(1, 1))\n",
       "    (1): ReLU(inplace=True)\n",
       "    (2): Conv2d(64, 64, kernel_size=(3, 3), stride=(1, 1), padding=(1, 1))\n",
       "    (3): ReLU(inplace=True)\n",
       "    (4): MaxPool2d(kernel_size=2, stride=2, padding=0, dilation=1, ceil_mode=False)\n",
       "    (5): Conv2d(64, 128, kernel_size=(3, 3), stride=(1, 1), padding=(1, 1))\n",
       "    (6): ReLU(inplace=True)\n",
       "    (7): Conv2d(128, 128, kernel_size=(3, 3), stride=(1, 1), padding=(1, 1))\n",
       "    (8): ReLU(inplace=True)\n",
       "    (9): MaxPool2d(kernel_size=2, stride=2, padding=0, dilation=1, ceil_mode=False)\n",
       "    (10): Conv2d(128, 256, kernel_size=(3, 3), stride=(1, 1), padding=(1, 1))\n",
       "    (11): ReLU(inplace=True)\n",
       "    (12): Conv2d(256, 256, kernel_size=(3, 3), stride=(1, 1), padding=(1, 1))\n",
       "    (13): ReLU(inplace=True)\n",
       "    (14): Conv2d(256, 256, kernel_size=(3, 3), stride=(1, 1), padding=(1, 1))\n",
       "    (15): ReLU(inplace=True)\n",
       "    (16): MaxPool2d(kernel_size=2, stride=2, padding=0, dilation=1, ceil_mode=False)\n",
       "    (17): Conv2d(256, 512, kernel_size=(3, 3), stride=(1, 1), padding=(1, 1))\n",
       "    (18): ReLU(inplace=True)\n",
       "    (19): Conv2d(512, 512, kernel_size=(3, 3), stride=(1, 1), padding=(1, 1))\n",
       "    (20): ReLU(inplace=True)\n",
       "    (21): Conv2d(512, 512, kernel_size=(3, 3), stride=(1, 1), padding=(1, 1))\n",
       "    (22): ReLU(inplace=True)\n",
       "    (23): MaxPool2d(kernel_size=2, stride=2, padding=0, dilation=1, ceil_mode=False)\n",
       "    (24): Conv2d(512, 512, kernel_size=(3, 3), stride=(1, 1), padding=(1, 1))\n",
       "    (25): ReLU(inplace=True)\n",
       "    (26): Conv2d(512, 512, kernel_size=(3, 3), stride=(1, 1), padding=(1, 1))\n",
       "    (27): ReLU(inplace=True)\n",
       "    (28): Conv2d(512, 512, kernel_size=(3, 3), stride=(1, 1), padding=(1, 1))\n",
       "    (29): ReLU(inplace=True)\n",
       "    (30): MaxPool2d(kernel_size=2, stride=2, padding=0, dilation=1, ceil_mode=False)\n",
       "  )\n",
       "  (avgpool): AdaptiveAvgPool2d(output_size=(7, 7))\n",
       "  (classifier): Sequential(\n",
       "    (0): Linear(in_features=25088, out_features=4096, bias=True)\n",
       "    (1): ReLU(inplace=True)\n",
       "    (2): Dropout(p=0.5, inplace=False)\n",
       "    (3): Linear(in_features=4096, out_features=4096, bias=True)\n",
       "    (4): ReLU(inplace=True)\n",
       "    (5): Dropout(p=0.5, inplace=False)\n",
       "    (6): Linear(in_features=4096, out_features=1000, bias=True)\n",
       "  )\n",
       ")"
      ]
     },
     "execution_count": 20,
     "metadata": {},
     "output_type": "execute_result"
    }
   ],
   "source": [
    "model"
   ]
  },
  {
   "cell_type": "code",
   "execution_count": 40,
   "metadata": {
    "execution": {
     "iopub.execute_input": "2021-12-14T08:04:55.948197Z",
     "iopub.status.busy": "2021-12-14T08:04:55.947851Z",
     "iopub.status.idle": "2021-12-14T08:05:00.348572Z",
     "shell.execute_reply": "2021-12-14T08:05:00.347813Z",
     "shell.execute_reply.started": "2021-12-14T08:04:55.948157Z"
    },
    "executionInfo": {
     "elapsed": 2046,
     "status": "ok",
     "timestamp": 1639462628296,
     "user": {
      "displayName": "JAGADEESHA R G",
      "photoUrl": "https://lh3.googleusercontent.com/a-/AOh14GgwPd8QKJ3EmqLtAngBJU4STxuSbAigY5iPa3g3NA=s64",
      "userId": "15957991412628301278"
     },
     "user_tz": -330
    },
    "id": "OmOm0wveRdMB",
    "scrolled": true
   },
   "outputs": [
    {
     "name": "stderr",
     "output_type": "stream",
     "text": [
      "/home/dell/Desktop/xxxx/Uni/Kirigami_project/Keypoint_detection_notebooks/.Keypoint_detection_notebooks/lib/python3.8/site-packages/torchvision/models/_utils.py:208: UserWarning: The parameter 'pretrained' is deprecated since 0.13 and may be removed in the future, please use 'weights' instead.\n",
      "  warnings.warn(\n",
      "/home/dell/Desktop/xxxx/Uni/Kirigami_project/Keypoint_detection_notebooks/.Keypoint_detection_notebooks/lib/python3.8/site-packages/torchvision/models/_utils.py:223: UserWarning: Arguments other than a weight enum or `None` for 'weights' are deprecated since 0.13 and may be removed in the future. The current behavior is equivalent to passing `weights=None`.\n",
      "  warnings.warn(msg)\n"
     ]
    }
   ],
   "source": [
    "# model = models.vgg16(pretrained=False)"
   ]
  },
  {
   "cell_type": "code",
   "execution_count": 21,
   "metadata": {
    "execution": {
     "iopub.execute_input": "2021-12-14T08:05:00.361149Z",
     "iopub.status.busy": "2021-12-14T08:05:00.360258Z",
     "iopub.status.idle": "2021-12-14T08:05:00.368548Z",
     "shell.execute_reply": "2021-12-14T08:05:00.367827Z",
     "shell.execute_reply.started": "2021-12-14T08:05:00.36109Z"
    },
    "executionInfo": {
     "elapsed": 2,
     "status": "ok",
     "timestamp": 1639462632444,
     "user": {
      "displayName": "JAGADEESHA R G",
      "photoUrl": "https://lh3.googleusercontent.com/a-/AOh14GgwPd8QKJ3EmqLtAngBJU4STxuSbAigY5iPa3g3NA=s64",
      "userId": "15957991412628301278"
     },
     "user_tz": -330
    },
    "id": "2d8yVwgHPQlB"
   },
   "outputs": [],
   "source": [
    "# making the weights non trainable\n",
    "\n",
    "for param in model.parameters():\n",
    "  param.requires_grad = False"
   ]
  },
  {
   "cell_type": "markdown",
   "metadata": {
    "id": "s1bnjYmdf86D"
   },
   "source": [
    "### next we will modify the model based on our requirement, since we need to predict 136 datapoints and each in the range of 0-1 values, we will remove the last 2 sections of model i.e, avgpool and classifier and add custom layers for training "
   ]
  },
  {
   "cell_type": "code",
   "execution_count": 22,
   "metadata": {
    "execution": {
     "iopub.execute_input": "2021-12-14T08:05:00.370224Z",
     "iopub.status.busy": "2021-12-14T08:05:00.369663Z",
     "iopub.status.idle": "2021-12-14T08:05:00.429316Z",
     "shell.execute_reply": "2021-12-14T08:05:00.428634Z",
     "shell.execute_reply.started": "2021-12-14T08:05:00.370187Z"
    },
    "executionInfo": {
     "elapsed": 606,
     "status": "ok",
     "timestamp": 1639467173588,
     "user": {
      "displayName": "JAGADEESHA R G",
      "photoUrl": "https://lh3.googleusercontent.com/a-/AOh14GgwPd8QKJ3EmqLtAngBJU4STxuSbAigY5iPa3g3NA=s64",
      "userId": "15957991412628301278"
     },
     "user_tz": -330
    },
    "id": "IwgyQsJmfh0H"
   },
   "outputs": [],
   "source": [
    "from torch.nn.modules.activation import Sigmoid\n",
    "from torch.nn.modules.pooling import AdaptiveAvgPool2d\n",
    "pool_layer = nn.Sequential(\n",
    "     nn.Conv2d(512,512, kernel_size=3, padding='same'),\n",
    "     nn.ReLU(),\n",
    "     nn.MaxPool2d(kernel_size=2, stride=2),\n",
    "     nn.Conv2d(512,50, kernel_size=3, padding='same'),\n",
    "     nn.ReLU(),\n",
    "     nn.MaxPool2d(kernel_size=2, stride=2),\n",
    "     nn.AdaptiveAvgPool2d(output_size=(8,8))\n",
    ")\n",
    "\n",
    "model.avgpool = pool_layer\n",
    "\n",
    "final_predictor = nn.Sequential(\n",
    "    nn.Linear(3200, 300),\n",
    "    nn.ReLU(),\n",
    "    nn.Dropout(0.3),\n",
    "    nn.Linear(300, 136),\n",
    "    nn.Sigmoid()\n",
    ")\n",
    "\n",
    "model.classifier = final_predictor"
   ]
  },
  {
   "cell_type": "code",
   "execution_count": 23,
   "metadata": {
    "execution": {
     "iopub.execute_input": "2021-12-14T08:05:00.430866Z",
     "iopub.status.busy": "2021-12-14T08:05:00.430616Z",
     "iopub.status.idle": "2021-12-14T08:05:00.458049Z",
     "shell.execute_reply": "2021-12-14T08:05:00.457314Z",
     "shell.execute_reply.started": "2021-12-14T08:05:00.43083Z"
    },
    "executionInfo": {
     "elapsed": 7,
     "status": "ok",
     "timestamp": 1639467176265,
     "user": {
      "displayName": "JAGADEESHA R G",
      "photoUrl": "https://lh3.googleusercontent.com/a-/AOh14GgwPd8QKJ3EmqLtAngBJU4STxuSbAigY5iPa3g3NA=s64",
      "userId": "15957991412628301278"
     },
     "user_tz": -330
    },
    "id": "LJp5LPW8mvyQ"
   },
   "outputs": [],
   "source": [
    "model = model.to(device)"
   ]
  },
  {
   "cell_type": "code",
   "execution_count": 24,
   "metadata": {
    "execution": {
     "iopub.execute_input": "2021-12-14T08:05:00.461218Z",
     "iopub.status.busy": "2021-12-14T08:05:00.460634Z",
     "iopub.status.idle": "2021-12-14T08:05:00.467047Z",
     "shell.execute_reply": "2021-12-14T08:05:00.466248Z",
     "shell.execute_reply.started": "2021-12-14T08:05:00.461177Z"
    },
    "executionInfo": {
     "elapsed": 9,
     "status": "ok",
     "timestamp": 1639467178198,
     "user": {
      "displayName": "JAGADEESHA R G",
      "photoUrl": "https://lh3.googleusercontent.com/a-/AOh14GgwPd8QKJ3EmqLtAngBJU4STxuSbAigY5iPa3g3NA=s64",
      "userId": "15957991412628301278"
     },
     "user_tz": -330
    },
    "id": "zFnJOjqlizUq",
    "outputId": "dbcf77cd-495c-4ff5-aa19-995387d699bc"
   },
   "outputs": [
    {
     "data": {
      "text/plain": [
       "VGG_test(\n",
       "  (features): Sequential(\n",
       "    (0): Conv2d(3, 64, kernel_size=(3, 3), stride=(1, 1), padding=(1, 1))\n",
       "    (1): ReLU(inplace=True)\n",
       "    (2): Conv2d(64, 64, kernel_size=(3, 3), stride=(1, 1), padding=(1, 1))\n",
       "    (3): ReLU(inplace=True)\n",
       "    (4): MaxPool2d(kernel_size=2, stride=2, padding=0, dilation=1, ceil_mode=False)\n",
       "    (5): Conv2d(64, 128, kernel_size=(3, 3), stride=(1, 1), padding=(1, 1))\n",
       "    (6): ReLU(inplace=True)\n",
       "    (7): Conv2d(128, 128, kernel_size=(3, 3), stride=(1, 1), padding=(1, 1))\n",
       "    (8): ReLU(inplace=True)\n",
       "    (9): MaxPool2d(kernel_size=2, stride=2, padding=0, dilation=1, ceil_mode=False)\n",
       "    (10): Conv2d(128, 256, kernel_size=(3, 3), stride=(1, 1), padding=(1, 1))\n",
       "    (11): ReLU(inplace=True)\n",
       "    (12): Conv2d(256, 256, kernel_size=(3, 3), stride=(1, 1), padding=(1, 1))\n",
       "    (13): ReLU(inplace=True)\n",
       "    (14): Conv2d(256, 256, kernel_size=(3, 3), stride=(1, 1), padding=(1, 1))\n",
       "    (15): ReLU(inplace=True)\n",
       "    (16): MaxPool2d(kernel_size=2, stride=2, padding=0, dilation=1, ceil_mode=False)\n",
       "    (17): Conv2d(256, 512, kernel_size=(3, 3), stride=(1, 1), padding=(1, 1))\n",
       "    (18): ReLU(inplace=True)\n",
       "    (19): Conv2d(512, 512, kernel_size=(3, 3), stride=(1, 1), padding=(1, 1))\n",
       "    (20): ReLU(inplace=True)\n",
       "    (21): Conv2d(512, 512, kernel_size=(3, 3), stride=(1, 1), padding=(1, 1))\n",
       "    (22): ReLU(inplace=True)\n",
       "    (23): MaxPool2d(kernel_size=2, stride=2, padding=0, dilation=1, ceil_mode=False)\n",
       "    (24): Conv2d(512, 512, kernel_size=(3, 3), stride=(1, 1), padding=(1, 1))\n",
       "    (25): ReLU(inplace=True)\n",
       "    (26): Conv2d(512, 512, kernel_size=(3, 3), stride=(1, 1), padding=(1, 1))\n",
       "    (27): ReLU(inplace=True)\n",
       "    (28): Conv2d(512, 512, kernel_size=(3, 3), stride=(1, 1), padding=(1, 1))\n",
       "    (29): ReLU(inplace=True)\n",
       "    (30): MaxPool2d(kernel_size=2, stride=2, padding=0, dilation=1, ceil_mode=False)\n",
       "  )\n",
       "  (avgpool): Sequential(\n",
       "    (0): Conv2d(512, 512, kernel_size=(3, 3), stride=(1, 1), padding=same)\n",
       "    (1): ReLU()\n",
       "    (2): MaxPool2d(kernel_size=2, stride=2, padding=0, dilation=1, ceil_mode=False)\n",
       "    (3): Conv2d(512, 50, kernel_size=(3, 3), stride=(1, 1), padding=same)\n",
       "    (4): ReLU()\n",
       "    (5): MaxPool2d(kernel_size=2, stride=2, padding=0, dilation=1, ceil_mode=False)\n",
       "    (6): AdaptiveAvgPool2d(output_size=(8, 8))\n",
       "  )\n",
       "  (classifier): Sequential(\n",
       "    (0): Linear(in_features=3200, out_features=300, bias=True)\n",
       "    (1): ReLU()\n",
       "    (2): Dropout(p=0.3, inplace=False)\n",
       "    (3): Linear(in_features=300, out_features=136, bias=True)\n",
       "    (4): Sigmoid()\n",
       "  )\n",
       ")"
      ]
     },
     "execution_count": 24,
     "metadata": {},
     "output_type": "execute_result"
    }
   ],
   "source": [
    "model"
   ]
  },
  {
   "cell_type": "code",
   "execution_count": 25,
   "metadata": {
    "execution": {
     "iopub.execute_input": "2021-12-14T08:05:00.469286Z",
     "iopub.status.busy": "2021-12-14T08:05:00.468383Z",
     "iopub.status.idle": "2021-12-14T08:05:06.06647Z",
     "shell.execute_reply": "2021-12-14T08:05:06.065729Z",
     "shell.execute_reply.started": "2021-12-14T08:05:00.469242Z"
    },
    "executionInfo": {
     "elapsed": 2,
     "status": "ok",
     "timestamp": 1639467179621,
     "user": {
      "displayName": "JAGADEESHA R G",
      "photoUrl": "https://lh3.googleusercontent.com/a-/AOh14GgwPd8QKJ3EmqLtAngBJU4STxuSbAigY5iPa3g3NA=s64",
      "userId": "15957991412628301278"
     },
     "user_tz": -330
    },
    "id": "e_8HWF_0fiFh",
    "outputId": "cdd5ce6e-ad18-47a7-d2f4-24c1cecdd96c"
   },
   "outputs": [
    {
     "name": "stdout",
     "output_type": "stream",
     "text": [
      "==========================================================================================\n",
      "Layer (type:depth-idx)                   Output Shape              Param #\n",
      "==========================================================================================\n",
      "├─Sequential: 1-1                        [-1, 512, 7, 7]           --\n",
      "|    └─Conv2d: 2-1                       [-1, 64, 224, 224]        (1,792)\n",
      "|    └─ReLU: 2-2                         [-1, 64, 224, 224]        --\n",
      "|    └─Conv2d: 2-3                       [-1, 64, 224, 224]        (36,928)\n",
      "|    └─ReLU: 2-4                         [-1, 64, 224, 224]        --\n",
      "|    └─MaxPool2d: 2-5                    [-1, 64, 112, 112]        --\n",
      "|    └─Conv2d: 2-6                       [-1, 128, 112, 112]       (73,856)\n",
      "|    └─ReLU: 2-7                         [-1, 128, 112, 112]       --\n",
      "|    └─Conv2d: 2-8                       [-1, 128, 112, 112]       (147,584)\n",
      "|    └─ReLU: 2-9                         [-1, 128, 112, 112]       --\n",
      "|    └─MaxPool2d: 2-10                   [-1, 128, 56, 56]         --\n",
      "|    └─Conv2d: 2-11                      [-1, 256, 56, 56]         (295,168)\n",
      "|    └─ReLU: 2-12                        [-1, 256, 56, 56]         --\n",
      "|    └─Conv2d: 2-13                      [-1, 256, 56, 56]         (590,080)\n",
      "|    └─ReLU: 2-14                        [-1, 256, 56, 56]         --\n",
      "|    └─Conv2d: 2-15                      [-1, 256, 56, 56]         (590,080)\n",
      "|    └─ReLU: 2-16                        [-1, 256, 56, 56]         --\n",
      "|    └─MaxPool2d: 2-17                   [-1, 256, 28, 28]         --\n",
      "|    └─Conv2d: 2-18                      [-1, 512, 28, 28]         (1,180,160)\n",
      "|    └─ReLU: 2-19                        [-1, 512, 28, 28]         --\n",
      "|    └─Conv2d: 2-20                      [-1, 512, 28, 28]         (2,359,808)\n",
      "|    └─ReLU: 2-21                        [-1, 512, 28, 28]         --\n",
      "|    └─Conv2d: 2-22                      [-1, 512, 28, 28]         (2,359,808)\n",
      "|    └─ReLU: 2-23                        [-1, 512, 28, 28]         --\n",
      "|    └─MaxPool2d: 2-24                   [-1, 512, 14, 14]         --\n",
      "|    └─Conv2d: 2-25                      [-1, 512, 14, 14]         (2,359,808)\n",
      "|    └─ReLU: 2-26                        [-1, 512, 14, 14]         --\n",
      "|    └─Conv2d: 2-27                      [-1, 512, 14, 14]         (2,359,808)\n",
      "|    └─ReLU: 2-28                        [-1, 512, 14, 14]         --\n",
      "|    └─Conv2d: 2-29                      [-1, 512, 14, 14]         (2,359,808)\n",
      "|    └─ReLU: 2-30                        [-1, 512, 14, 14]         --\n",
      "|    └─MaxPool2d: 2-31                   [-1, 512, 7, 7]           --\n",
      "├─Sequential: 1-2                        [-1, 50, 8, 8]            --\n",
      "|    └─Conv2d: 2-32                      [-1, 512, 7, 7]           2,359,808\n",
      "|    └─ReLU: 2-33                        [-1, 512, 7, 7]           --\n",
      "|    └─MaxPool2d: 2-34                   [-1, 512, 3, 3]           --\n",
      "|    └─Conv2d: 2-35                      [-1, 50, 3, 3]            230,450\n",
      "|    └─ReLU: 2-36                        [-1, 50, 3, 3]            --\n",
      "|    └─MaxPool2d: 2-37                   [-1, 50, 1, 1]            --\n",
      "|    └─AdaptiveAvgPool2d: 2-38           [-1, 50, 8, 8]            --\n",
      "├─Sequential: 1-3                        [-1, 136]                 --\n",
      "|    └─Linear: 2-39                      [-1, 300]                 960,300\n",
      "|    └─ReLU: 2-40                        [-1, 300]                 --\n",
      "|    └─Dropout: 2-41                     [-1, 300]                 --\n",
      "|    └─Linear: 2-42                      [-1, 136]                 40,936\n",
      "|    └─Sigmoid: 2-43                     [-1, 136]                 --\n",
      "==========================================================================================\n",
      "Total params: 18,306,182\n",
      "Trainable params: 3,591,494\n",
      "Non-trainable params: 14,714,688\n",
      "Total mult-adds (G): 15.48\n",
      "==========================================================================================\n",
      "Input size (MB): 0.57\n",
      "Forward/backward pass size (MB): 103.56\n",
      "Params size (MB): 69.83\n",
      "Estimated Total Size (MB): 173.96\n",
      "==========================================================================================\n"
     ]
    },
    {
     "data": {
      "text/plain": [
       "==========================================================================================\n",
       "Layer (type:depth-idx)                   Output Shape              Param #\n",
       "==========================================================================================\n",
       "├─Sequential: 1-1                        [-1, 512, 7, 7]           --\n",
       "|    └─Conv2d: 2-1                       [-1, 64, 224, 224]        (1,792)\n",
       "|    └─ReLU: 2-2                         [-1, 64, 224, 224]        --\n",
       "|    └─Conv2d: 2-3                       [-1, 64, 224, 224]        (36,928)\n",
       "|    └─ReLU: 2-4                         [-1, 64, 224, 224]        --\n",
       "|    └─MaxPool2d: 2-5                    [-1, 64, 112, 112]        --\n",
       "|    └─Conv2d: 2-6                       [-1, 128, 112, 112]       (73,856)\n",
       "|    └─ReLU: 2-7                         [-1, 128, 112, 112]       --\n",
       "|    └─Conv2d: 2-8                       [-1, 128, 112, 112]       (147,584)\n",
       "|    └─ReLU: 2-9                         [-1, 128, 112, 112]       --\n",
       "|    └─MaxPool2d: 2-10                   [-1, 128, 56, 56]         --\n",
       "|    └─Conv2d: 2-11                      [-1, 256, 56, 56]         (295,168)\n",
       "|    └─ReLU: 2-12                        [-1, 256, 56, 56]         --\n",
       "|    └─Conv2d: 2-13                      [-1, 256, 56, 56]         (590,080)\n",
       "|    └─ReLU: 2-14                        [-1, 256, 56, 56]         --\n",
       "|    └─Conv2d: 2-15                      [-1, 256, 56, 56]         (590,080)\n",
       "|    └─ReLU: 2-16                        [-1, 256, 56, 56]         --\n",
       "|    └─MaxPool2d: 2-17                   [-1, 256, 28, 28]         --\n",
       "|    └─Conv2d: 2-18                      [-1, 512, 28, 28]         (1,180,160)\n",
       "|    └─ReLU: 2-19                        [-1, 512, 28, 28]         --\n",
       "|    └─Conv2d: 2-20                      [-1, 512, 28, 28]         (2,359,808)\n",
       "|    └─ReLU: 2-21                        [-1, 512, 28, 28]         --\n",
       "|    └─Conv2d: 2-22                      [-1, 512, 28, 28]         (2,359,808)\n",
       "|    └─ReLU: 2-23                        [-1, 512, 28, 28]         --\n",
       "|    └─MaxPool2d: 2-24                   [-1, 512, 14, 14]         --\n",
       "|    └─Conv2d: 2-25                      [-1, 512, 14, 14]         (2,359,808)\n",
       "|    └─ReLU: 2-26                        [-1, 512, 14, 14]         --\n",
       "|    └─Conv2d: 2-27                      [-1, 512, 14, 14]         (2,359,808)\n",
       "|    └─ReLU: 2-28                        [-1, 512, 14, 14]         --\n",
       "|    └─Conv2d: 2-29                      [-1, 512, 14, 14]         (2,359,808)\n",
       "|    └─ReLU: 2-30                        [-1, 512, 14, 14]         --\n",
       "|    └─MaxPool2d: 2-31                   [-1, 512, 7, 7]           --\n",
       "├─Sequential: 1-2                        [-1, 50, 8, 8]            --\n",
       "|    └─Conv2d: 2-32                      [-1, 512, 7, 7]           2,359,808\n",
       "|    └─ReLU: 2-33                        [-1, 512, 7, 7]           --\n",
       "|    └─MaxPool2d: 2-34                   [-1, 512, 3, 3]           --\n",
       "|    └─Conv2d: 2-35                      [-1, 50, 3, 3]            230,450\n",
       "|    └─ReLU: 2-36                        [-1, 50, 3, 3]            --\n",
       "|    └─MaxPool2d: 2-37                   [-1, 50, 1, 1]            --\n",
       "|    └─AdaptiveAvgPool2d: 2-38           [-1, 50, 8, 8]            --\n",
       "├─Sequential: 1-3                        [-1, 136]                 --\n",
       "|    └─Linear: 2-39                      [-1, 300]                 960,300\n",
       "|    └─ReLU: 2-40                        [-1, 300]                 --\n",
       "|    └─Dropout: 2-41                     [-1, 300]                 --\n",
       "|    └─Linear: 2-42                      [-1, 136]                 40,936\n",
       "|    └─Sigmoid: 2-43                     [-1, 136]                 --\n",
       "==========================================================================================\n",
       "Total params: 18,306,182\n",
       "Trainable params: 3,591,494\n",
       "Non-trainable params: 14,714,688\n",
       "Total mult-adds (G): 15.48\n",
       "==========================================================================================\n",
       "Input size (MB): 0.57\n",
       "Forward/backward pass size (MB): 103.56\n",
       "Params size (MB): 69.83\n",
       "Estimated Total Size (MB): 173.96\n",
       "=========================================================================================="
      ]
     },
     "execution_count": 25,
     "metadata": {},
     "output_type": "execute_result"
    }
   ],
   "source": [
    "summary(model, torch.rand(1,3,224,224))"
   ]
  },
  {
   "cell_type": "markdown",
   "metadata": {
    "id": "1tedcjtxl6kK"
   },
   "source": [
    "## model has 3.5M parametes "
   ]
  },
  {
   "cell_type": "code",
   "execution_count": 26,
   "metadata": {
    "execution": {
     "iopub.execute_input": "2021-12-14T08:05:06.068248Z",
     "iopub.status.busy": "2021-12-14T08:05:06.067784Z",
     "iopub.status.idle": "2021-12-14T08:05:06.074789Z",
     "shell.execute_reply": "2021-12-14T08:05:06.074092Z",
     "shell.execute_reply.started": "2021-12-14T08:05:06.068203Z"
    },
    "executionInfo": {
     "elapsed": 499,
     "status": "ok",
     "timestamp": 1639467198654,
     "user": {
      "displayName": "JAGADEESHA R G",
      "photoUrl": "https://lh3.googleusercontent.com/a-/AOh14GgwPd8QKJ3EmqLtAngBJU4STxuSbAigY5iPa3g3NA=s64",
      "userId": "15957991412628301278"
     },
     "user_tz": -330
    },
    "id": "0aCiug4ym-Nf"
   },
   "outputs": [],
   "source": [
    "# getting the optimizer and loss_function \n",
    "\n",
    "def get_essentials():\n",
    "  loss_fun = nn.L1Loss()\n",
    "  optimizer = torch.optim.Adam(model.parameters(), lr=0.0001)\n",
    "  return loss_fun, optimizer"
   ]
  },
  {
   "cell_type": "code",
   "execution_count": 40,
   "metadata": {
    "execution": {
     "iopub.execute_input": "2021-12-14T08:05:06.076833Z",
     "iopub.status.busy": "2021-12-14T08:05:06.076388Z",
     "iopub.status.idle": "2021-12-14T08:05:06.308306Z",
     "shell.execute_reply": "2021-12-14T08:05:06.307258Z",
     "shell.execute_reply.started": "2021-12-14T08:05:06.076795Z"
    },
    "executionInfo": {
     "elapsed": 2,
     "status": "ok",
     "timestamp": 1639467198655,
     "user": {
      "displayName": "JAGADEESHA R G",
      "photoUrl": "https://lh3.googleusercontent.com/a-/AOh14GgwPd8QKJ3EmqLtAngBJU4STxuSbAigY5iPa3g3NA=s64",
      "userId": "15957991412628301278"
     },
     "user_tz": -330
    },
    "id": "zlzfaUSGfiH7"
   },
   "outputs": [],
   "source": [
    "# defining batch_train and accuracy functions\n",
    "\n",
    "\n",
    "def train_batch(data, model, loss_fun, optimizer):\n",
    "  model.train()\n",
    "  img, true_points = data\n",
    "  print(img.shape)\n",
    "  pred_points = model(img)\n",
    "  loss_val = loss_fun(pred_points, true_points)\n",
    "  loss_val.backward()\n",
    "  optimizer.step()\n",
    "  optimizer.zero_grad()\n",
    "  return loss_val.item()\n",
    "\n",
    "@torch.no_grad()\n",
    "def val_batch(data, model, loss_fun, optimizer):\n",
    "  model.eval()\n",
    "  img, true_points = data\n",
    "  pred_points = model(img)\n",
    "  loss_val = loss_fun(pred_points, true_points)\n",
    "  return loss_val.item()\n",
    "\n"
   ]
  },
  {
   "cell_type": "code",
   "execution_count": 41,
   "metadata": {
    "execution": {
     "iopub.execute_input": "2021-12-14T08:05:06.310375Z",
     "iopub.status.busy": "2021-12-14T08:05:06.31008Z",
     "iopub.status.idle": "2021-12-14T08:05:06.318969Z",
     "shell.execute_reply": "2021-12-14T08:05:06.318141Z",
     "shell.execute_reply.started": "2021-12-14T08:05:06.310335Z"
    },
    "executionInfo": {
     "elapsed": 4,
     "status": "ok",
     "timestamp": 1639467199310,
     "user": {
      "displayName": "JAGADEESHA R G",
      "photoUrl": "https://lh3.googleusercontent.com/a-/AOh14GgwPd8QKJ3EmqLtAngBJU4STxuSbAigY5iPa3g3NA=s64",
      "userId": "15957991412628301278"
     },
     "user_tz": -330
    },
    "id": "2KVZ13_nfiKZ"
   },
   "outputs": [],
   "source": [
    "epochs = 2\n",
    "loss_fun, optimizer = get_essentials()\n"
   ]
  },
  {
   "cell_type": "code",
   "execution_count": 42,
   "metadata": {
    "execution": {
     "iopub.execute_input": "2021-12-14T08:05:06.321915Z",
     "iopub.status.busy": "2021-12-14T08:05:06.321211Z",
     "iopub.status.idle": "2021-12-14T08:29:55.001728Z",
     "shell.execute_reply": "2021-12-14T08:29:55.000932Z",
     "shell.execute_reply.started": "2021-12-14T08:05:06.321884Z"
    },
    "executionInfo": {
     "elapsed": 1340719,
     "status": "ok",
     "timestamp": 1639468540724,
     "user": {
      "displayName": "JAGADEESHA R G",
      "photoUrl": "https://lh3.googleusercontent.com/a-/AOh14GgwPd8QKJ3EmqLtAngBJU4STxuSbAigY5iPa3g3NA=s64",
      "userId": "15957991412628301278"
     },
     "user_tz": -330
    },
    "id": "_i2yOnnqfiM9",
    "outputId": "c827a6e4-9b92-4acd-a72c-ad6f2136ebc2"
   },
   "outputs": [
    {
     "name": "stderr",
     "output_type": "stream",
     "text": [
      "\r",
      "  0%|                                                     | 0/2 [00:00<?, ?it/s]"
     ]
    },
    {
     "name": "stdout",
     "output_type": "stream",
     "text": [
      "torch.Size([25, 3, 224, 224])\n",
      "torch.Size([25, 3, 224, 224])\n",
      "torch.Size([25, 3, 224, 224])\n",
      "torch.Size([25, 3, 224, 224])\n",
      "torch.Size([25, 3, 224, 224])\n",
      "torch.Size([25, 3, 224, 224])\n",
      "torch.Size([25, 3, 224, 224])\n",
      "torch.Size([25, 3, 224, 224])\n",
      "torch.Size([25, 3, 224, 224])\n",
      "torch.Size([25, 3, 224, 224])\n",
      "torch.Size([25, 3, 224, 224])\n",
      "torch.Size([25, 3, 224, 224])\n",
      "torch.Size([25, 3, 224, 224])\n",
      "torch.Size([25, 3, 224, 224])\n",
      "torch.Size([25, 3, 224, 224])\n",
      "torch.Size([25, 3, 224, 224])\n",
      "torch.Size([25, 3, 224, 224])\n",
      "torch.Size([25, 3, 224, 224])\n",
      "torch.Size([25, 3, 224, 224])\n",
      "torch.Size([25, 3, 224, 224])\n",
      "torch.Size([25, 3, 224, 224])\n",
      "torch.Size([25, 3, 224, 224])\n",
      "torch.Size([25, 3, 224, 224])\n",
      "torch.Size([25, 3, 224, 224])\n",
      "torch.Size([25, 3, 224, 224])\n",
      "torch.Size([25, 3, 224, 224])\n",
      "torch.Size([25, 3, 224, 224])\n",
      "torch.Size([25, 3, 224, 224])\n",
      "torch.Size([25, 3, 224, 224])\n",
      "torch.Size([25, 3, 224, 224])\n",
      "torch.Size([25, 3, 224, 224])\n",
      "torch.Size([25, 3, 224, 224])\n",
      "torch.Size([25, 3, 224, 224])\n",
      "torch.Size([25, 3, 224, 224])\n",
      "torch.Size([25, 3, 224, 224])\n",
      "torch.Size([25, 3, 224, 224])\n",
      "torch.Size([25, 3, 224, 224])\n",
      "torch.Size([25, 3, 224, 224])\n",
      "torch.Size([25, 3, 224, 224])\n",
      "torch.Size([25, 3, 224, 224])\n",
      "torch.Size([25, 3, 224, 224])\n",
      "torch.Size([25, 3, 224, 224])\n",
      "torch.Size([25, 3, 224, 224])\n",
      "torch.Size([25, 3, 224, 224])\n",
      "torch.Size([25, 3, 224, 224])\n",
      "torch.Size([25, 3, 224, 224])\n",
      "torch.Size([25, 3, 224, 224])\n",
      "torch.Size([25, 3, 224, 224])\n",
      "torch.Size([25, 3, 224, 224])\n",
      "torch.Size([25, 3, 224, 224])\n",
      "torch.Size([25, 3, 224, 224])\n",
      "torch.Size([25, 3, 224, 224])\n",
      "torch.Size([25, 3, 224, 224])\n",
      "torch.Size([25, 3, 224, 224])\n",
      "torch.Size([25, 3, 224, 224])\n",
      "torch.Size([25, 3, 224, 224])\n",
      "torch.Size([25, 3, 224, 224])\n",
      "torch.Size([25, 3, 224, 224])\n",
      "torch.Size([25, 3, 224, 224])\n",
      "torch.Size([25, 3, 224, 224])\n",
      "torch.Size([25, 3, 224, 224])\n",
      "torch.Size([25, 3, 224, 224])\n",
      "torch.Size([25, 3, 224, 224])\n",
      "torch.Size([25, 3, 224, 224])\n",
      "torch.Size([25, 3, 224, 224])\n",
      "torch.Size([25, 3, 224, 224])\n",
      "torch.Size([25, 3, 224, 224])\n",
      "torch.Size([25, 3, 224, 224])\n",
      "torch.Size([25, 3, 224, 224])\n",
      "torch.Size([25, 3, 224, 224])\n",
      "torch.Size([25, 3, 224, 224])\n",
      "torch.Size([25, 3, 224, 224])\n",
      "torch.Size([25, 3, 224, 224])\n",
      "torch.Size([25, 3, 224, 224])\n",
      "torch.Size([25, 3, 224, 224])\n",
      "torch.Size([25, 3, 224, 224])\n",
      "torch.Size([25, 3, 224, 224])\n",
      "torch.Size([25, 3, 224, 224])\n",
      "torch.Size([25, 3, 224, 224])\n",
      "torch.Size([25, 3, 224, 224])\n",
      "torch.Size([25, 3, 224, 224])\n",
      "torch.Size([25, 3, 224, 224])\n",
      "torch.Size([25, 3, 224, 224])\n",
      "torch.Size([25, 3, 224, 224])\n",
      "torch.Size([25, 3, 224, 224])\n",
      "torch.Size([25, 3, 224, 224])\n",
      "torch.Size([25, 3, 224, 224])\n",
      "torch.Size([25, 3, 224, 224])\n",
      "torch.Size([25, 3, 224, 224])\n",
      "torch.Size([25, 3, 224, 224])\n",
      "torch.Size([25, 3, 224, 224])\n",
      "torch.Size([25, 3, 224, 224])\n",
      "torch.Size([25, 3, 224, 224])\n",
      "torch.Size([25, 3, 224, 224])\n",
      "torch.Size([25, 3, 224, 224])\n",
      "torch.Size([25, 3, 224, 224])\n",
      "torch.Size([25, 3, 224, 224])\n",
      "torch.Size([25, 3, 224, 224])\n",
      "torch.Size([25, 3, 224, 224])\n",
      "torch.Size([25, 3, 224, 224])\n",
      "torch.Size([25, 3, 224, 224])\n",
      "torch.Size([25, 3, 224, 224])\n",
      "torch.Size([25, 3, 224, 224])\n",
      "torch.Size([25, 3, 224, 224])\n",
      "torch.Size([25, 3, 224, 224])\n",
      "torch.Size([25, 3, 224, 224])\n",
      "torch.Size([25, 3, 224, 224])\n",
      "torch.Size([25, 3, 224, 224])\n",
      "torch.Size([25, 3, 224, 224])\n",
      "torch.Size([25, 3, 224, 224])\n",
      "torch.Size([19, 3, 224, 224])\n"
     ]
    },
    {
     "name": "stderr",
     "output_type": "stream",
     "text": [
      "\r",
      " 50%|██████████████████████▌                      | 1/2 [00:33<00:33, 33.50s/it]"
     ]
    },
    {
     "name": "stdout",
     "output_type": "stream",
     "text": [
      "torch.Size([25, 3, 224, 224])\n",
      "torch.Size([25, 3, 224, 224])\n",
      "torch.Size([25, 3, 224, 224])\n",
      "torch.Size([25, 3, 224, 224])\n",
      "torch.Size([25, 3, 224, 224])\n",
      "torch.Size([25, 3, 224, 224])\n",
      "torch.Size([25, 3, 224, 224])\n",
      "torch.Size([25, 3, 224, 224])\n",
      "torch.Size([25, 3, 224, 224])\n",
      "torch.Size([25, 3, 224, 224])\n",
      "torch.Size([25, 3, 224, 224])\n",
      "torch.Size([25, 3, 224, 224])\n",
      "torch.Size([25, 3, 224, 224])\n",
      "torch.Size([25, 3, 224, 224])\n",
      "torch.Size([25, 3, 224, 224])\n",
      "torch.Size([25, 3, 224, 224])\n",
      "torch.Size([25, 3, 224, 224])\n",
      "torch.Size([25, 3, 224, 224])\n",
      "torch.Size([25, 3, 224, 224])\n",
      "torch.Size([25, 3, 224, 224])\n",
      "torch.Size([25, 3, 224, 224])\n",
      "torch.Size([25, 3, 224, 224])\n",
      "torch.Size([25, 3, 224, 224])\n",
      "torch.Size([25, 3, 224, 224])\n",
      "torch.Size([25, 3, 224, 224])\n",
      "torch.Size([25, 3, 224, 224])\n",
      "torch.Size([25, 3, 224, 224])\n",
      "torch.Size([25, 3, 224, 224])\n",
      "torch.Size([25, 3, 224, 224])\n",
      "torch.Size([25, 3, 224, 224])\n",
      "torch.Size([25, 3, 224, 224])\n",
      "torch.Size([25, 3, 224, 224])\n",
      "torch.Size([25, 3, 224, 224])\n",
      "torch.Size([25, 3, 224, 224])\n",
      "torch.Size([25, 3, 224, 224])\n",
      "torch.Size([25, 3, 224, 224])\n",
      "torch.Size([25, 3, 224, 224])\n",
      "torch.Size([25, 3, 224, 224])\n",
      "torch.Size([25, 3, 224, 224])\n",
      "torch.Size([25, 3, 224, 224])\n",
      "torch.Size([25, 3, 224, 224])\n",
      "torch.Size([25, 3, 224, 224])\n",
      "torch.Size([25, 3, 224, 224])\n",
      "torch.Size([25, 3, 224, 224])\n",
      "torch.Size([25, 3, 224, 224])\n",
      "torch.Size([25, 3, 224, 224])\n",
      "torch.Size([25, 3, 224, 224])\n",
      "torch.Size([25, 3, 224, 224])\n",
      "torch.Size([25, 3, 224, 224])\n",
      "torch.Size([25, 3, 224, 224])\n",
      "torch.Size([25, 3, 224, 224])\n",
      "torch.Size([25, 3, 224, 224])\n",
      "torch.Size([25, 3, 224, 224])\n",
      "torch.Size([25, 3, 224, 224])\n",
      "torch.Size([25, 3, 224, 224])\n",
      "torch.Size([25, 3, 224, 224])\n",
      "torch.Size([25, 3, 224, 224])\n",
      "torch.Size([25, 3, 224, 224])\n",
      "torch.Size([25, 3, 224, 224])\n",
      "torch.Size([25, 3, 224, 224])\n",
      "torch.Size([25, 3, 224, 224])\n",
      "torch.Size([25, 3, 224, 224])\n",
      "torch.Size([25, 3, 224, 224])\n",
      "torch.Size([25, 3, 224, 224])\n",
      "torch.Size([25, 3, 224, 224])\n",
      "torch.Size([25, 3, 224, 224])\n",
      "torch.Size([25, 3, 224, 224])\n",
      "torch.Size([25, 3, 224, 224])\n",
      "torch.Size([25, 3, 224, 224])\n",
      "torch.Size([25, 3, 224, 224])\n",
      "torch.Size([25, 3, 224, 224])\n",
      "torch.Size([25, 3, 224, 224])\n",
      "torch.Size([25, 3, 224, 224])\n",
      "torch.Size([25, 3, 224, 224])\n",
      "torch.Size([25, 3, 224, 224])\n",
      "torch.Size([25, 3, 224, 224])\n",
      "torch.Size([25, 3, 224, 224])\n",
      "torch.Size([25, 3, 224, 224])\n",
      "torch.Size([25, 3, 224, 224])\n",
      "torch.Size([25, 3, 224, 224])\n",
      "torch.Size([25, 3, 224, 224])\n",
      "torch.Size([25, 3, 224, 224])\n",
      "torch.Size([25, 3, 224, 224])\n",
      "torch.Size([25, 3, 224, 224])\n",
      "torch.Size([25, 3, 224, 224])\n",
      "torch.Size([25, 3, 224, 224])\n",
      "torch.Size([25, 3, 224, 224])\n",
      "torch.Size([25, 3, 224, 224])\n",
      "torch.Size([25, 3, 224, 224])\n",
      "torch.Size([25, 3, 224, 224])\n",
      "torch.Size([25, 3, 224, 224])\n",
      "torch.Size([25, 3, 224, 224])\n",
      "torch.Size([25, 3, 224, 224])\n",
      "torch.Size([25, 3, 224, 224])\n",
      "torch.Size([25, 3, 224, 224])\n",
      "torch.Size([25, 3, 224, 224])\n",
      "torch.Size([25, 3, 224, 224])\n",
      "torch.Size([25, 3, 224, 224])\n",
      "torch.Size([25, 3, 224, 224])\n",
      "torch.Size([25, 3, 224, 224])\n",
      "torch.Size([25, 3, 224, 224])\n",
      "torch.Size([25, 3, 224, 224])\n",
      "torch.Size([25, 3, 224, 224])\n",
      "torch.Size([25, 3, 224, 224])\n",
      "torch.Size([25, 3, 224, 224])\n",
      "torch.Size([25, 3, 224, 224])\n",
      "torch.Size([25, 3, 224, 224])\n",
      "torch.Size([25, 3, 224, 224])\n",
      "torch.Size([25, 3, 224, 224])\n",
      "torch.Size([25, 3, 224, 224])\n",
      "torch.Size([19, 3, 224, 224])\n"
     ]
    },
    {
     "name": "stderr",
     "output_type": "stream",
     "text": [
      "100%|█████████████████████████████████████████████| 2/2 [01:10<00:00, 35.13s/it]"
     ]
    },
    {
     "name": "stdout",
     "output_type": "stream",
     "text": [
      "finished\n"
     ]
    },
    {
     "name": "stderr",
     "output_type": "stream",
     "text": [
      "\n"
     ]
    }
   ],
   "source": [
    "# training and validation loops \n",
    "\n",
    "\n",
    "train_epoch, val_epoch = [], []\n",
    "for epoch in tqdm(range(epochs)):\n",
    "  train_batch_losses, val_batch_losses = [], []\n",
    "  for data in train_dataloader:\n",
    "    train_batch_loss = train_batch(data, model, loss_fun, optimizer)\n",
    "    train_batch_losses.append(train_batch_loss)\n",
    "  for data in test_dataloader:\n",
    "    val_batch_loss = val_batch(data, model, loss_fun, optimizer)\n",
    "    val_batch_losses.append(val_batch_loss)\n",
    "  train_epoch.append(np.mean(train_batch_losses))\n",
    "  val_epoch.append(np.mean(val_batch_losses))\n",
    "\n",
    "print(\"finished\")\n"
   ]
  },
  {
   "cell_type": "code",
   "execution_count": 33,
   "metadata": {
    "execution": {
     "iopub.execute_input": "2021-12-14T08:29:55.003966Z",
     "iopub.status.busy": "2021-12-14T08:29:55.003427Z",
     "iopub.status.idle": "2021-12-14T08:29:55.190772Z",
     "shell.execute_reply": "2021-12-14T08:29:55.190069Z",
     "shell.execute_reply.started": "2021-12-14T08:29:55.003926Z"
    },
    "executionInfo": {
     "elapsed": 884,
     "status": "ok",
     "timestamp": 1639468545050,
     "user": {
      "displayName": "JAGADEESHA R G",
      "photoUrl": "https://lh3.googleusercontent.com/a-/AOh14GgwPd8QKJ3EmqLtAngBJU4STxuSbAigY5iPa3g3NA=s64",
      "userId": "15957991412628301278"
     },
     "user_tz": -330
    },
    "id": "o0LJo7ELfiPx",
    "outputId": "b57f0923-0f47-4ee1-cdf9-f621c6378301"
   },
   "outputs": [
    {
     "data": {
      "image/png": "[encoded data removed]",
      "text/plain": [
       "<Figure size 640x480 with 1 Axes>"
      ]
     },
     "metadata": {},
     "output_type": "display_data"
    }
   ],
   "source": [
    "plt.plot(range(epochs), train_epoch, label=\"train_loss\")\n",
    "plt.plot(range(epochs), val_epoch, label=\"test_loss\")\n",
    "plt.legend()\n",
    "plt.xlabel(\"Epochs\")\n",
    "plt.ylabel(\"Loss\")\n",
    "plt.title(\"Training Facial Keypoints model\")\n",
    "plt.show()"
   ]
  },
  {
   "cell_type": "markdown",
   "metadata": {
    "id": "fHGoRTew2cGT"
   },
   "source": [
    "### model has trained "
   ]
  },
  {
   "cell_type": "code",
   "execution_count": 34,
   "metadata": {
    "execution": {
     "iopub.execute_input": "2021-12-14T08:29:55.192415Z",
     "iopub.status.busy": "2021-12-14T08:29:55.192171Z",
     "iopub.status.idle": "2021-12-14T08:29:55.480934Z",
     "shell.execute_reply": "2021-12-14T08:29:55.480269Z",
     "shell.execute_reply.started": "2021-12-14T08:29:55.19238Z"
    },
    "executionInfo": {
     "elapsed": 1087,
     "status": "ok",
     "timestamp": 1639468800900,
     "user": {
      "displayName": "JAGADEESHA R G",
      "photoUrl": "https://lh3.googleusercontent.com/a-/AOh14GgwPd8QKJ3EmqLtAngBJU4STxuSbAigY5iPa3g3NA=s64",
      "userId": "15957991412628301278"
     },
     "user_tz": -330
    },
    "id": "1jrhy4msvXra",
    "outputId": "57fafd1b-d73d-4061-aa60-71890cd0444b"
   },
   "outputs": [
    {
     "data": {
      "image/png": "[encoded data removed]",
      "text/plain": [
       "<Figure size 640x480 with 2 Axes>"
      ]
     },
     "metadata": {},
     "output_type": "display_data"
    }
   ],
   "source": [
    "# Displaying the results\n",
    "\n",
    "index = 6\n",
    "test_img, points = test_dataset[index]\n",
    "Facial_key_points = model(test_img[None]).flatten().detach().cpu()\n",
    "plt.subplot(121)\n",
    "plt.title(\"Image\")\n",
    "img = test_dataset.load_img(index)\n",
    "img = img[:,:,::-1]                                                              \n",
    "plt.imshow(img)\n",
    "plt.subplot(122)\n",
    "plt.title(\" Image with Keypoints \")\n",
    "plt.imshow(img)\n",
    "plt.scatter(Facial_key_points[:68]*img.shape[1], Facial_key_points[68:]*img.shape[0])                          # scaling the keypoints with image dimension\n",
    "plt.show()"
   ]
  },
  {
   "cell_type": "markdown",
   "metadata": {
    "id": "S07p64X19Ml1"
   },
   "source": [
    "## models performance is very good "
   ]
  },
  {
   "cell_type": "code",
   "execution_count": null,
   "metadata": {},
   "outputs": [],
   "source": []
  }
 ],
 "metadata": {
  "kernelspec": {
   "display_name": ".Keypoint_detection_notebooks",
   "language": "python",
   "name": ".keypoint_detection_notebooks"
  },
  "language_info": {
   "codemirror_mode": {
    "name": "ipython",
    "version": 3
   },
   "file_extension": ".py",
   "mimetype": "text/x-python",
   "name": "python",
   "nbconvert_exporter": "python",
   "pygments_lexer": "ipython3",
   "version": "3.8.10"
  }
 },
 "nbformat": 4,
 "nbformat_minor": 4
}
