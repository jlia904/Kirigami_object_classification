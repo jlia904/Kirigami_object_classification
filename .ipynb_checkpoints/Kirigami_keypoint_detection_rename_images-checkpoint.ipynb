{
 "cells": [
  {
   "cell_type": "code",
   "execution_count": 5,
   "id": "8cbb8b46",
   "metadata": {},
   "outputs": [],
   "source": [
    "# importing relevant packages \n",
    "\n",
    "import torch \n",
    "from torchvision import models\n",
    "import pandas as pd\n",
    "import torch.optim as optim\n",
    "from torch.utils.data import Dataset, DataLoader\n",
    "import torch.nn as nn \n",
    "import torch.nn.functional as F\n",
    "import glob\n",
    "import os\n",
    "import cv2\n",
    "import matplotlib.pyplot as plt \n",
    "import torchvision.transforms as transforms\n",
    "from torchsummary import summary\n",
    "from sklearn.model_selection import train_test_split\n",
    "import numpy as np\n",
    "from tqdm import tqdm\n",
    "import json\n",
    "from PIL import Image\n",
    "import random\n",
    "import albumentations as A\n",
    "import glob\n",
    "from shapely.geometry import Polygon"
   ]
  },
  {
   "cell_type": "code",
   "execution_count": 6,
   "id": "b31d09c2",
   "metadata": {},
   "outputs": [
    {
     "name": "stderr",
     "output_type": "stream",
     "text": [
      "/tmp/ipykernel_25085/2198079538.py:1: DeprecationWarning: Importing display from IPython.core.display is deprecated since IPython 7.14, please import from IPython display\n",
      "  from IPython.core.display import display, HTML\n"
     ]
    },
    {
     "data": {
      "text/html": [
       "<style>div.output_scroll { height: 45em; }</style>"
      ],
      "text/plain": [
       "<IPython.core.display.HTML object>"
      ]
     },
     "metadata": {},
     "output_type": "display_data"
    }
   ],
   "source": [
    "from IPython.core.display import display, HTML\n",
    "display(HTML(\"<style>div.output_scroll { height: 45em; }</style>\"))\n",
    "pd.options.display.max_columns = None"
   ]
  },
  {
   "cell_type": "code",
   "execution_count": 34,
   "id": "29100f06",
   "metadata": {},
   "outputs": [],
   "source": [
    "folder = '/home/dell/Desktop/xxxx/Uni/Kirigami_project/Keypoint_detection_notebooks/Grasp_dataset/Temp'\n",
    "files = glob.glob(folder + '/*')\n",
    "\n",
    "number = 599\n",
    "\n",
    "for file in files:\n",
    "    os.rename(file,file[:-12] + 'image' + str(number).zfill(4) + '.jpg')\n",
    "    number = number + 1\n",
    "\n",
    "\n",
    "\n",
    "\n",
    "\n",
    "# def augment_data():\n",
    "\n",
    "#     source_folder = os.path.join(os. getcwd(), 'Grasp_dataset_2')\n",
    "#     destination_folder = os.path.join(os. getcwd(), 'Grasp_dataset_augmented')\n",
    "#     dataset_names = ['Grasp_dataset_orange', 'Grasp_dataset_pear', 'Grasp_dataset_banana', 'Grasp_dataset_plum', 'Grasp_dataset_egg', 'Grasp_dataset_strawberry', 'Grasp_dataset_chicken', 'Grasp_dataset_bayberry', 'Grasp_dataset_redgrape', 'Grasp_dataset_pistachio']\n",
    "\n",
    "#     for f in dataset_names:\n",
    "        \n",
    "#         files = glob.glob(destination_folder + '/' + f + '/*')\n",
    "        \n",
    "#         for file in files:\n",
    "#             os.remove(file)\n",
    "        \n",
    "#         df = pd.read_csv(source_folder + '/' + f + '/' + f + '.csv')\n",
    "        \n",
    "#         num_cols = df.select_dtypes(include=['float']).columns\n",
    "#         df[num_cols] = df[num_cols].applymap(process_num)\n",
    "#         df['label'] = df['label'].apply(process_label)\n",
    "        \n",
    "# #         df.to_csv(destination_folder + '/' + f + '/' + f + '.csv', index=False)\n",
    "        \n",
    "#         i = 0\n",
    "#         repeat = 0\n",
    "        \n",
    "#         header = ['p1_x', 'p1_y', 'p2_x', 'p2_y', 'p3_x', 'p3_y', 'p4_x', 'p4_y', 'p5_x', 'p5_y', 'p6_x', 'p6_y',\n",
    "#               'p7_x', 'p7_y', 'p8_x', 'p8_y', 'p9_x', 'p9_y', 'p10_x', 'p10_y', 'p11_x', 'p11_y', 'p12_x', 'p12_y', 'p13_x',\n",
    "#               'p13_y', 'p14_x', 'p14_y', 'p15_x', 'p15_y', 'p16_x', 'p16_y']\n",
    "            \n",
    "#         keypoints_df = pd.DataFrame(columns=header)\n",
    "        \n",
    "#         while i < df.shape[0]:\n",
    "        \n",
    "#             transform = A.Compose([\n",
    "#                     A.Affine(rotate=random.uniform(-1, 1), p=1),\n",
    "#                     A.Affine(translate_percent={'x': random.uniform(-0.02, 0.02), 'y': random.uniform(-0.02, 0.02)}, p=1),\n",
    "#                     A.Affine(shear={'x': random.uniform(-1, 1), 'y': random.uniform(-0.5, 0.5)}, p=1),\n",
    "#                     A.Affine(scale=(0.98, 1.01), p=1)\n",
    "#                 ], keypoint_params=A.KeypointParams(format='xy'))\n",
    "            \n",
    "#             image_to_be_transformed = cv2.imread(os.path.join(source_folder + '/' + f, df.iloc[i]['image_name']))\n",
    "            \n",
    "#             processed_image_to_be_transformed = transform_image(image_to_be_transformed)\n",
    "#             processed_image_to_be_transformed = processed_image_to_be_transformed.to(device)\n",
    "\n",
    "#             keypoints = model(processed_image_to_be_transformed[None]).flatten().detach().cpu().numpy()\n",
    "            \n",
    "#             x_points = keypoints[0::2]\n",
    "#             y_points = keypoints[1::2]\n",
    "#             x_points = x_points*image_to_be_transformed.shape[1]\n",
    "#             y_points = y_points*image_to_be_transformed.shape[0]\n",
    "\n",
    "#             transformed = transform(image=image_to_be_transformed, keypoints=list(zip(x_points, y_points)))\n",
    "#             transformed_image = transformed['image']\n",
    "#             transformed_keypoints = transformed['keypoints']\n",
    "            \n",
    "#             if repeat >= 20:\n",
    "#                 print('skipping')\n",
    "#                 repeat = 0\n",
    "#                 i = i + 1\n",
    "#                 continue\n",
    "    \n",
    "#             if len(transformed_keypoints) != 16:\n",
    "# #                 print(df.iloc[i]['image_name'])\n",
    "#                 repeat = repeat + 1\n",
    "#                 continue\n",
    "            \n",
    "#             flatten_coordinates = np.array(transformed_keypoints).flatten()\n",
    "#             flatten_coordinates[::2] = [x / transformed_image.shape[1] for x in flatten_coordinates[::2]]\n",
    "#             flatten_coordinates[1::2] = [x / transformed_image.shape[0] for x in flatten_coordinates[1::2]]\n",
    "#             keypoints_df.loc[len(keypoints_df)] = pd.Series(flatten_coordinates, index=header)\n",
    "# #             print(flatten_coordinates)\n",
    "# #             print(keypoints_df)\n",
    "            \n",
    "#             transformed_image[..., [0, 2]] = transformed_image[..., [2, 0]]\n",
    "#             img = Image.fromarray(np.uint8(transformed_image))\n",
    "#             img.save(destination_folder + '/' + f + '/' + df.iloc[i]['image_name'])\n",
    "            \n",
    "# #             plot_keypoints(transformed_image, flatten_coordinates)\n",
    "            \n",
    "#             repeat = 0\n",
    "#             i = i + 1\n",
    "        \n",
    "#         complete_df = pd.concat([df, keypoints_df], axis=1)\n",
    "#         complete_df.to_csv(destination_folder + '/' + f + '/' + f + '.csv', index=False)\n"
   ]
  },
  {
   "cell_type": "code",
   "execution_count": null,
   "id": "5530acc7",
   "metadata": {},
   "outputs": [],
   "source": []
  },
  {
   "cell_type": "code",
   "execution_count": null,
   "id": "e235c848",
   "metadata": {},
   "outputs": [],
   "source": []
  }
 ],
 "metadata": {
  "kernelspec": {
   "display_name": ".Keypoint_detection_notebooks",
   "language": "python",
   "name": ".keypoint_detection_notebooks"
  },
  "language_info": {
   "codemirror_mode": {
    "name": "ipython",
    "version": 3
   },
   "file_extension": ".py",
   "mimetype": "text/x-python",
   "name": "python",
   "nbconvert_exporter": "python",
   "pygments_lexer": "ipython3",
   "version": "3.8.10"
  }
 },
 "nbformat": 4,
 "nbformat_minor": 5
}
