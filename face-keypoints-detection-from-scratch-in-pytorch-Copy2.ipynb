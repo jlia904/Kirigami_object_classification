{
 "cells": [
  {
   "cell_type": "markdown",
   "metadata": {
    "id": "T9iHsqEkPROM"
   },
   "source": [
    "## This notebook is for Custom implementation of Facial Keypoints Detection using Pytorch from Scratch, using VGG16 model. "
   ]
  },
  {
   "cell_type": "code",
   "execution_count": 2,
   "metadata": {},
   "outputs": [
    {
     "name": "stdout",
     "output_type": "stream",
     "text": [
      "Package                        Version     \r\n",
      "------------------------------ ------------\r\n",
      "actionlib                      1.14.0      \r\n",
      "angles                         1.9.13      \r\n",
      "appdirs                        1.4.4       \r\n",
      "asgiref                        3.6.0       \r\n",
      "asttokens                      2.2.1       \r\n",
      "async-timeout                  4.0.2       \r\n",
      "attr                           0.3.1       \r\n",
      "attrs                          22.2.0      \r\n",
      "azure-core                     1.26.2      \r\n",
      "azure-storage-blob             12.14.1     \r\n",
      "backcall                       0.2.0       \r\n",
      "bleach                         5.0.1       \r\n",
      "bondpy                         1.8.6       \r\n",
      "boto                           2.49.0      \r\n",
      "boto3                          1.16.63     \r\n",
      "botocore                       1.19.63     \r\n",
      "boxing                         0.1.4       \r\n",
      "cachetools                     5.3.0       \r\n",
      "camera-calibration             1.17.0      \r\n",
      "camera-calibration-parsers     1.12.0      \r\n",
      "catkin                         0.8.10      \r\n",
      "certifi                        2022.12.7   \r\n",
      "cffi                           1.15.1      \r\n",
      "charset-normalizer             2.0.12      \r\n",
      "click                          8.1.3       \r\n",
      "colorama                       0.4.6       \r\n",
      "comm                           0.1.2       \r\n",
      "contourpy                      1.0.7       \r\n",
      "controller-manager             0.19.6      \r\n",
      "controller-manager-msgs        0.19.6      \r\n",
      "coreapi                        2.3.3       \r\n",
      "coreschema                     0.0.4       \r\n",
      "cryptography                   39.0.0      \r\n",
      "cv-bridge                      1.16.2      \r\n",
      "cycler                         0.11.0      \r\n",
      "debugpy                        1.6.6       \r\n",
      "decorator                      5.1.1       \r\n",
      "defusedxml                     0.7.1       \r\n",
      "diagnostic-analysis            1.11.0      \r\n",
      "diagnostic-common-diagnostics  1.11.0      \r\n",
      "diagnostic-updater             1.11.0      \r\n",
      "Django                         3.2.16      \r\n",
      "django-annoying                0.10.6      \r\n",
      "django-cors-headers            3.6.0       \r\n",
      "django-debug-toolbar           3.2.1       \r\n",
      "django-extensions              3.1.0       \r\n",
      "django-filter                  2.4.0       \r\n",
      "django-model-utils             4.1.1       \r\n",
      "django-ranged-fileresponse     0.1.2       \r\n",
      "django-rest-swagger            2.2.0       \r\n",
      "django-rq                      2.5.1       \r\n",
      "django-storages                1.12.3      \r\n",
      "django-user-agents             0.4.0       \r\n",
      "djangorestframework            3.13.1      \r\n",
      "drf-dynamic-fields             0.3.0       \r\n",
      "drf-flex-fields                0.9.5       \r\n",
      "drf-generators                 0.3.0       \r\n",
      "drf-yasg                       1.20.0      \r\n",
      "dynamic-reconfigure            1.7.3       \r\n",
      "entrypoints                    0.4         \r\n",
      "executing                      1.2.0       \r\n",
      "expiringdict                   1.2.2       \r\n",
      "fonttools                      4.38.0      \r\n",
      "gazebo-plugins                 2.9.2       \r\n",
      "gazebo-ros                     2.9.2       \r\n",
      "gencpp                         0.7.0       \r\n",
      "geneus                         3.0.0       \r\n",
      "genlisp                        0.4.18      \r\n",
      "genmsg                         0.6.0       \r\n",
      "gennodejs                      2.0.2       \r\n",
      "genpy                          0.6.15      \r\n",
      "google-api-core                2.10.0      \r\n",
      "google-auth                    2.11.0      \r\n",
      "google-cloud-appengine-logging 1.1.0       \r\n",
      "google-cloud-audit-log         0.2.0       \r\n",
      "google-cloud-core              2.3.2       \r\n",
      "google-cloud-logging           2.7.2       \r\n",
      "google-cloud-storage           2.5.0       \r\n",
      "google-crc32c                  1.5.0       \r\n",
      "google-resumable-media         2.3.3       \r\n",
      "googleapis-common-protos       1.56.4      \r\n",
      "grpc-google-iam-v1             0.12.3      \r\n",
      "grpcio                         1.51.1      \r\n",
      "htmlmin                        0.1.12      \r\n",
      "idna                           3.4         \r\n",
      "image-geometry                 1.16.2      \r\n",
      "inflection                     0.5.1       \r\n",
      "interactive-markers            1.12.0      \r\n",
      "ipykernel                      6.20.2      \r\n",
      "ipython                        8.8.0       \r\n",
      "isodate                        0.6.1       \r\n",
      "itypes                         1.2.0       \r\n",
      "jedi                           0.18.2      \r\n",
      "Jinja2                         3.1.2       \r\n",
      "jmespath                       0.10.0      \r\n",
      "joblib                         1.2.0       \r\n",
      "joint-state-publisher          1.15.1      \r\n",
      "joint-state-publisher-gui      1.15.1      \r\n",
      "jsonschema                     3.2.0       \r\n",
      "jupyter-client                 7.4.9       \r\n",
      "jupyter-core                   5.1.5       \r\n",
      "kiwisolver                     1.4.4       \r\n",
      "label-studio                   1.7.1       \r\n",
      "label-studio-converter         0.0.48rc0   \r\n",
      "label-studio-tools             0.0.1       \r\n",
      "laser-geometry                 1.6.7       \r\n",
      "launchdarkly-server-sdk        7.5.0       \r\n",
      "lockfile                       0.12.2      \r\n",
      "lxml                           4.9.2       \r\n",
      "MarkupSafe                     2.1.2       \r\n",
      "matplotlib                     3.6.3       \r\n",
      "matplotlib-inline              0.1.6       \r\n",
      "message-filters                1.15.15     \r\n",
      "msrest                         0.7.1       \r\n",
      "nest-asyncio                   1.5.6       \r\n",
      "nltk                           3.6.7       \r\n",
      "numpy                          1.24.1      \r\n",
      "oauthlib                       3.2.2       \r\n",
      "openapi-codec                  1.3.2       \r\n",
      "opencv-python                  4.7.0.68    \r\n",
      "ordered-set                    4.0.2       \r\n",
      "packaging                      23.0        \r\n",
      "pandas                         1.5.3       \r\n",
      "parso                          0.8.3       \r\n",
      "pexpect                        4.8.0       \r\n",
      "pickleshare                    0.7.5       \r\n",
      "Pillow                         9.3.0       \r\n",
      "pip                            20.0.2      \r\n",
      "pkg-resources                  0.0.0       \r\n",
      "platformdirs                   2.6.2       \r\n",
      "prompt-toolkit                 3.0.36      \r\n",
      "proto-plus                     1.22.2      \r\n",
      "protobuf                       4.21.12     \r\n",
      "psutil                         5.9.4       \r\n",
      "psycopg2-binary                2.9.1       \r\n",
      "ptyprocess                     0.7.0       \r\n",
      "pure-eval                      0.2.2       \r\n",
      "pyasn1                         0.4.8       \r\n",
      "pyasn1-modules                 0.2.8       \r\n",
      "pycparser                      2.21        \r\n",
      "pydantic                       1.8.2       \r\n",
      "Pygments                       2.14.0      \r\n",
      "pyparsing                      3.0.9       \r\n",
      "pyRFC3339                      1.1         \r\n",
      "pyrsistent                     0.19.3      \r\n",
      "python-dateutil                2.8.1       \r\n",
      "python-json-logger             2.0.4       \r\n",
      "python-qt-binding              0.4.4       \r\n",
      "pytz                           2019.3      \r\n",
      "PyYAML                         6.0         \r\n",
      "pyzmq                          25.0.0      \r\n",
      "qt-dotgraph                    0.4.2       \r\n",
      "qt-gui                         0.4.2       \r\n",
      "qt-gui-cpp                     0.4.2       \r\n",
      "qt-gui-py-common               0.4.2       \r\n",
      "redis                          4.4.2       \r\n",
      "regex                          2022.10.31  \r\n",
      "requests                       2.27.1      \r\n",
      "requests-oauthlib              1.3.1       \r\n",
      "resource-retriever             1.12.7      \r\n",
      "rosbag                         1.15.15     \r\n",
      "rosboost-cfg                   1.15.8      \r\n",
      "rosclean                       1.15.8      \r\n",
      "roscreate                      1.15.8      \r\n",
      "rosgraph                       1.15.15     \r\n",
      "roslaunch                      1.15.15     \r\n",
      "roslib                         1.15.8      \r\n",
      "roslint                        0.12.0      \r\n",
      "roslz4                         1.15.15     \r\n",
      "rosmake                        1.15.8      \r\n",
      "rosmaster                      1.15.15     \r\n",
      "rosmsg                         1.15.15     \r\n",
      "rosnode                        1.15.15     \r\n",
      "rosparam                       1.15.15     \r\n",
      "rospy                          1.15.15     \r\n",
      "rosservice                     1.15.15     \r\n",
      "rostest                        1.15.15     \r\n",
      "rostopic                       1.15.15     \r\n",
      "rosunit                        1.15.8      \r\n",
      "roswtf                         1.15.15     \r\n",
      "rq                             1.10.1      \r\n",
      "rqt-action                     0.4.9       \r\n",
      "rqt-bag                        0.5.1       \r\n",
      "rqt-bag-plugins                0.5.1       \r\n",
      "rqt-console                    0.4.11      \r\n",
      "rqt-dep                        0.4.12      \r\n",
      "rqt-graph                      0.4.14      \r\n",
      "rqt-gui                        0.5.3       \r\n",
      "rqt-gui-py                     0.5.3       \r\n",
      "rqt-image-view                 0.4.16      \r\n",
      "rqt-launch                     0.4.9       \r\n",
      "rqt-logger-level               0.4.11      \r\n",
      "rqt-moveit                     0.5.10      \r\n",
      "rqt-msg                        0.4.10      \r\n",
      "rqt-nav-view                   0.5.7       \r\n",
      "rqt-plot                       0.4.13      \r\n",
      "rqt-pose-view                  0.5.11      \r\n",
      "rqt-publisher                  0.4.10      \r\n",
      "rqt-py-common                  0.5.3       \r\n",
      "rqt-py-console                 0.4.10      \r\n",
      "rqt-reconfigure                0.5.5       \r\n",
      "rqt-robot-dashboard            0.5.8       \r\n",
      "rqt-robot-monitor              0.5.14      \r\n",
      "rqt-robot-steering             0.5.12      \r\n",
      "rqt-runtime-monitor            0.5.9       \r\n",
      "rqt-rviz                       0.7.0       \r\n",
      "rqt-service-caller             0.4.10      \r\n",
      "rqt-shell                      0.4.11      \r\n",
      "rqt-srv                        0.4.9       \r\n",
      "rqt-tf-tree                    0.6.3       \r\n",
      "rqt-top                        0.4.10      \r\n",
      "rqt-topic                      0.4.13      \r\n",
      "rqt-web                        0.4.10      \r\n",
      "rsa                            4.9         \r\n",
      "ruamel.yaml                    0.17.21     \r\n",
      "ruamel.yaml.clib               0.2.7       \r\n",
      "rules                          2.2         \r\n",
      "rviz                           1.14.19     \r\n",
      "s3transfer                     0.3.7       \r\n",
      "scikit-learn                   1.2.1       \r\n",
      "scipy                          1.10.0      \r\n",
      "semver                         2.13.0      \r\n",
      "sensor-msgs                    1.13.1      \r\n",
      "sentry-sdk                     1.14.0      \r\n",
      "setuptools                     44.0.0      \r\n",
      "simplejson                     3.18.1      \r\n",
      "six                            1.16.0      \r\n",
      "smach                          2.5.0       \r\n",
      "smach-ros                      2.5.0       \r\n",
      "smclib                         1.8.6       \r\n",
      "sqlparse                       0.4.3       \r\n",
      "stack-data                     0.6.2       \r\n",
      "tf                             1.13.2      \r\n",
      "tf-conversions                 1.13.2      \r\n",
      "tf2-geometry-msgs              0.7.6       \r\n",
      "tf2-kdl                        0.7.6       \r\n",
      "tf2-py                         0.7.6       \r\n",
      "tf2-ros                        0.7.6       \r\n",
      "threadpoolctl                  3.1.0       \r\n",
      "topic-tools                    1.15.15     \r\n",
      "torch                          1.13.1+cu116\r\n",
      "torch-summary                  1.4.5       \r\n",
      "torchaudio                     0.13.1+cu116\r\n",
      "torchvision                    0.14.1+cu116\r\n",
      "tornado                        6.2         \r\n",
      "tqdm                           4.64.1      \r\n",
      "traitlets                      5.8.1       \r\n",
      "typing-extensions              4.4.0       \r\n",
      "ua-parser                      0.16.1      \r\n",
      "ujson                          5.7.0       \r\n",
      "uritemplate                    4.1.1       \r\n",
      "urllib3                        1.26.14     \r\n",
      "user-agents                    2.2.0       \r\n",
      "wcwidth                        0.2.6       \r\n",
      "webencodings                   0.5.1       \r\n",
      "wheel                          0.38.4      \r\n",
      "xacro                          1.14.14     \r\n",
      "xmljson                        0.2.0       \r\n"
     ]
    }
   ],
   "source": [
    "!pip list"
   ]
  },
  {
   "cell_type": "code",
   "execution_count": 3,
   "metadata": {
    "execution": {
     "iopub.execute_input": "2021-12-14T08:04:05.405266Z",
     "iopub.status.busy": "2021-12-14T08:04:05.405045Z",
     "iopub.status.idle": "2021-12-14T08:04:05.411977Z",
     "shell.execute_reply": "2021-12-14T08:04:05.410898Z",
     "shell.execute_reply.started": "2021-12-14T08:04:05.40524Z"
    },
    "executionInfo": {
     "elapsed": 5,
     "status": "ok",
     "timestamp": 1639465601105,
     "user": {
      "displayName": "JAGADEESHA R G",
      "photoUrl": "https://lh3.googleusercontent.com/a-/AOh14GgwPd8QKJ3EmqLtAngBJU4STxuSbAigY5iPa3g3NA=s64",
      "userId": "15957991412628301278"
     },
     "user_tz": -330
    },
    "id": "fPT8x0NEPQct"
   },
   "outputs": [
    {
     "name": "stderr",
     "output_type": "stream",
     "text": [
      "/home/dell/Desktop/xxxx/Uni/Kirigami_project/Keypoint_detection_notebooks/.Keypoint_detection_notebooks/lib/python3.8/site-packages/tqdm/auto.py:22: TqdmWarning: IProgress not found. Please update jupyter and ipywidgets. See https://ipywidgets.readthedocs.io/en/stable/user_install.html\n",
      "  from .autonotebook import tqdm as notebook_tqdm\n"
     ]
    }
   ],
   "source": [
    "# importing relevant packages \n",
    "\n",
    "import torch \n",
    "from torchvision import models\n",
    "import pandas as pd\n",
    "import torch.optim as optim\n",
    "from torch.utils.data import Dataset, DataLoader\n",
    "import torch.nn as nn \n",
    "import glob\n",
    "import os\n",
    "import cv2\n",
    "import matplotlib.pyplot as plt \n",
    "import torchvision.transforms as transforms\n",
    "from torchsummary import summary\n",
    "from sklearn.model_selection import train_test_split\n",
    "import numpy as np\n",
    "from tqdm import tqdm"
   ]
  },
  {
   "cell_type": "code",
   "execution_count": 4,
   "metadata": {
    "execution": {
     "iopub.execute_input": "2021-12-14T08:04:13.295771Z",
     "iopub.status.busy": "2021-12-14T08:04:13.295433Z",
     "iopub.status.idle": "2021-12-14T08:04:13.353862Z",
     "shell.execute_reply": "2021-12-14T08:04:13.352735Z",
     "shell.execute_reply.started": "2021-12-14T08:04:13.295737Z"
    },
    "executionInfo": {
     "elapsed": 3,
     "status": "ok",
     "timestamp": 1639460003761,
     "user": {
      "displayName": "JAGADEESHA R G",
      "photoUrl": "https://lh3.googleusercontent.com/a-/AOh14GgwPd8QKJ3EmqLtAngBJU4STxuSbAigY5iPa3g3NA=s64",
      "userId": "15957991412628301278"
     },
     "user_tz": -330
    },
    "id": "oEWZ_sAmbeT-"
   },
   "outputs": [],
   "source": [
    "device = 'cuda' if torch.cuda.is_available() else 'cpu'"
   ]
  },
  {
   "cell_type": "code",
   "execution_count": 5,
   "metadata": {
    "execution": {
     "iopub.execute_input": "2021-12-14T08:04:21.486491Z",
     "iopub.status.busy": "2021-12-14T08:04:21.485831Z",
     "iopub.status.idle": "2021-12-14T08:04:34.773633Z",
     "shell.execute_reply": "2021-12-14T08:04:34.76865Z",
     "shell.execute_reply.started": "2021-12-14T08:04:21.486428Z"
    },
    "executionInfo": {
     "elapsed": 4,
     "status": "ok",
     "timestamp": 1639457305271,
     "user": {
      "displayName": "JAGADEESHA R G",
      "photoUrl": "https://lh3.googleusercontent.com/a-/AOh14GgwPd8QKJ3EmqLtAngBJU4STxuSbAigY5iPa3g3NA=s64",
      "userId": "15957991412628301278"
     },
     "user_tz": -330
    },
    "id": "QVz4k5XaPQfd"
   },
   "outputs": [
    {
     "name": "stdout",
     "output_type": "stream",
     "text": [
      "fatal: destination path 'P1_Facial_Keypoints' already exists and is not an empty directory.\r\n"
     ]
    }
   ],
   "source": [
    "# downloading the data \n",
    "\n",
    "!git clone https://github.com/udacity/P1_Facial_Keypoints.git\n",
    "!cd P1_Facial_Keypoints\n",
    "root_dir = 'P1_Facial_Keypoints/data/training/'\n",
    "all_img_paths = glob.glob(os.path.join(root_dir, '*.jpg'))\n",
    "data = pd.read_csv('P1_Facial_Keypoints/data/training_frames_keypoints.csv')"
   ]
  },
  {
   "cell_type": "code",
   "execution_count": 6,
   "metadata": {},
   "outputs": [
    {
     "data": {
      "text/plain": [
       "pandas.core.frame.DataFrame"
      ]
     },
     "execution_count": 6,
     "metadata": {},
     "output_type": "execute_result"
    }
   ],
   "source": [
    "type(data)"
   ]
  },
  {
   "cell_type": "code",
   "execution_count": 5,
   "metadata": {
    "execution": {
     "iopub.execute_input": "2021-12-14T08:04:34.778579Z",
     "iopub.status.busy": "2021-12-14T08:04:34.778222Z",
     "iopub.status.idle": "2021-12-14T08:04:34.854549Z",
     "shell.execute_reply": "2021-12-14T08:04:34.852978Z",
     "shell.execute_reply.started": "2021-12-14T08:04:34.77852Z"
    },
    "executionInfo": {
     "elapsed": 563,
     "status": "ok",
     "timestamp": 1639457360930,
     "user": {
      "displayName": "JAGADEESHA R G",
      "photoUrl": "https://lh3.googleusercontent.com/a-/AOh14GgwPd8QKJ3EmqLtAngBJU4STxuSbAigY5iPa3g3NA=s64",
      "userId": "15957991412628301278"
     },
     "user_tz": -330
    },
    "id": "AlhOExzqPQiW",
    "outputId": "a919545e-24ce-4c80-9cd5-7d0ea96f58e1"
   },
   "outputs": [
    {
     "data": {
      "text/html": [
       "<div>\n",
       "<style scoped>\n",
       "    .dataframe tbody tr th:only-of-type {\n",
       "        vertical-align: middle;\n",
       "    }\n",
       "\n",
       "    .dataframe tbody tr th {\n",
       "        vertical-align: top;\n",
       "    }\n",
       "\n",
       "    .dataframe thead th {\n",
       "        text-align: right;\n",
       "    }\n",
       "</style>\n",
       "<table border=\"1\" class=\"dataframe\">\n",
       "  <thead>\n",
       "    <tr style=\"text-align: right;\">\n",
       "      <th></th>\n",
       "      <th>Unnamed: 0</th>\n",
       "      <th>0</th>\n",
       "      <th>1</th>\n",
       "      <th>2</th>\n",
       "      <th>3</th>\n",
       "      <th>4</th>\n",
       "      <th>5</th>\n",
       "      <th>6</th>\n",
       "      <th>7</th>\n",
       "      <th>8</th>\n",
       "      <th>...</th>\n",
       "      <th>126</th>\n",
       "      <th>127</th>\n",
       "      <th>128</th>\n",
       "      <th>129</th>\n",
       "      <th>130</th>\n",
       "      <th>131</th>\n",
       "      <th>132</th>\n",
       "      <th>133</th>\n",
       "      <th>134</th>\n",
       "      <th>135</th>\n",
       "    </tr>\n",
       "  </thead>\n",
       "  <tbody>\n",
       "    <tr>\n",
       "      <th>0</th>\n",
       "      <td>Luis_Fonsi_21.jpg</td>\n",
       "      <td>45.0</td>\n",
       "      <td>98.0</td>\n",
       "      <td>47.0</td>\n",
       "      <td>106.0</td>\n",
       "      <td>49.0</td>\n",
       "      <td>110.0</td>\n",
       "      <td>53.0</td>\n",
       "      <td>119.0</td>\n",
       "      <td>56.0</td>\n",
       "      <td>...</td>\n",
       "      <td>83.0</td>\n",
       "      <td>119.0</td>\n",
       "      <td>90.0</td>\n",
       "      <td>117.0</td>\n",
       "      <td>83.0</td>\n",
       "      <td>119.0</td>\n",
       "      <td>81.0</td>\n",
       "      <td>122.0</td>\n",
       "      <td>77.0</td>\n",
       "      <td>122.0</td>\n",
       "    </tr>\n",
       "    <tr>\n",
       "      <th>1</th>\n",
       "      <td>Lincoln_Chafee_52.jpg</td>\n",
       "      <td>41.0</td>\n",
       "      <td>83.0</td>\n",
       "      <td>43.0</td>\n",
       "      <td>91.0</td>\n",
       "      <td>45.0</td>\n",
       "      <td>100.0</td>\n",
       "      <td>47.0</td>\n",
       "      <td>108.0</td>\n",
       "      <td>51.0</td>\n",
       "      <td>...</td>\n",
       "      <td>85.0</td>\n",
       "      <td>122.0</td>\n",
       "      <td>94.0</td>\n",
       "      <td>120.0</td>\n",
       "      <td>85.0</td>\n",
       "      <td>122.0</td>\n",
       "      <td>83.0</td>\n",
       "      <td>122.0</td>\n",
       "      <td>79.0</td>\n",
       "      <td>122.0</td>\n",
       "    </tr>\n",
       "    <tr>\n",
       "      <th>2</th>\n",
       "      <td>Valerie_Harper_30.jpg</td>\n",
       "      <td>56.0</td>\n",
       "      <td>69.0</td>\n",
       "      <td>56.0</td>\n",
       "      <td>77.0</td>\n",
       "      <td>56.0</td>\n",
       "      <td>86.0</td>\n",
       "      <td>56.0</td>\n",
       "      <td>94.0</td>\n",
       "      <td>58.0</td>\n",
       "      <td>...</td>\n",
       "      <td>79.0</td>\n",
       "      <td>105.0</td>\n",
       "      <td>86.0</td>\n",
       "      <td>108.0</td>\n",
       "      <td>77.0</td>\n",
       "      <td>105.0</td>\n",
       "      <td>75.0</td>\n",
       "      <td>105.0</td>\n",
       "      <td>73.0</td>\n",
       "      <td>105.0</td>\n",
       "    </tr>\n",
       "  </tbody>\n",
       "</table>\n",
       "<p>3 rows × 137 columns</p>\n",
       "</div>"
      ],
      "text/plain": [
       "              Unnamed: 0     0     1     2      3     4      5     6      7  \\\n",
       "0      Luis_Fonsi_21.jpg  45.0  98.0  47.0  106.0  49.0  110.0  53.0  119.0   \n",
       "1  Lincoln_Chafee_52.jpg  41.0  83.0  43.0   91.0  45.0  100.0  47.0  108.0   \n",
       "2  Valerie_Harper_30.jpg  56.0  69.0  56.0   77.0  56.0   86.0  56.0   94.0   \n",
       "\n",
       "      8  ...   126    127   128    129   130    131   132    133   134    135  \n",
       "0  56.0  ...  83.0  119.0  90.0  117.0  83.0  119.0  81.0  122.0  77.0  122.0  \n",
       "1  51.0  ...  85.0  122.0  94.0  120.0  85.0  122.0  83.0  122.0  79.0  122.0  \n",
       "2  58.0  ...  79.0  105.0  86.0  108.0  77.0  105.0  75.0  105.0  73.0  105.0  \n",
       "\n",
       "[3 rows x 137 columns]"
      ]
     },
     "execution_count": 5,
     "metadata": {},
     "output_type": "execute_result"
    }
   ],
   "source": [
    "data.head(3)"
   ]
  },
  {
   "cell_type": "code",
   "execution_count": 6,
   "metadata": {
    "execution": {
     "iopub.execute_input": "2021-12-14T08:04:43.23833Z",
     "iopub.status.busy": "2021-12-14T08:04:43.237866Z",
     "iopub.status.idle": "2021-12-14T08:04:43.243849Z",
     "shell.execute_reply": "2021-12-14T08:04:43.242954Z",
     "shell.execute_reply.started": "2021-12-14T08:04:43.238291Z"
    },
    "executionInfo": {
     "elapsed": 817,
     "status": "ok",
     "timestamp": 1639457374694,
     "user": {
      "displayName": "JAGADEESHA R G",
      "photoUrl": "https://lh3.googleusercontent.com/a-/AOh14GgwPd8QKJ3EmqLtAngBJU4STxuSbAigY5iPa3g3NA=s64",
      "userId": "15957991412628301278"
     },
     "user_tz": -330
    },
    "id": "vJCFvZxrRdAN",
    "outputId": "0c7c80fe-516e-4b08-a147-7b302c98acec"
   },
   "outputs": [
    {
     "data": {
      "text/plain": [
       "(3462, 137)"
      ]
     },
     "execution_count": 6,
     "metadata": {},
     "output_type": "execute_result"
    }
   ],
   "source": [
    "data.shape"
   ]
  },
  {
   "cell_type": "code",
   "execution_count": 7,
   "metadata": {
    "execution": {
     "iopub.execute_input": "2021-12-14T08:04:43.823615Z",
     "iopub.status.busy": "2021-12-14T08:04:43.823124Z",
     "iopub.status.idle": "2021-12-14T08:04:43.828585Z",
     "shell.execute_reply": "2021-12-14T08:04:43.827878Z",
     "shell.execute_reply.started": "2021-12-14T08:04:43.823577Z"
    },
    "executionInfo": {
     "elapsed": 8,
     "status": "ok",
     "timestamp": 1639458159818,
     "user": {
      "displayName": "JAGADEESHA R G",
      "photoUrl": "https://lh3.googleusercontent.com/a-/AOh14GgwPd8QKJ3EmqLtAngBJU4STxuSbAigY5iPa3g3NA=s64",
      "userId": "15957991412628301278"
     },
     "user_tz": -330
    },
    "id": "GUkWHnHZUXvZ"
   },
   "outputs": [],
   "source": [
    "doc = data.iloc[0]"
   ]
  },
  {
   "cell_type": "code",
   "execution_count": 8,
   "metadata": {},
   "outputs": [
    {
     "data": {
      "text/plain": [
       "Unnamed: 0    Luis_Fonsi_21.jpg\n",
       "0                          45.0\n",
       "1                          98.0\n",
       "2                          47.0\n",
       "3                         106.0\n",
       "                    ...        \n",
       "131                       119.0\n",
       "132                        81.0\n",
       "133                       122.0\n",
       "134                        77.0\n",
       "135                       122.0\n",
       "Name: 0, Length: 137, dtype: object"
      ]
     },
     "execution_count": 8,
     "metadata": {},
     "output_type": "execute_result"
    }
   ],
   "source": [
    "data.iloc[0]"
   ]
  },
  {
   "cell_type": "code",
   "execution_count": 9,
   "metadata": {
    "execution": {
     "iopub.execute_input": "2021-12-14T08:04:47.998229Z",
     "iopub.status.busy": "2021-12-14T08:04:47.99775Z",
     "iopub.status.idle": "2021-12-14T08:04:48.341718Z",
     "shell.execute_reply": "2021-12-14T08:04:48.340928Z",
     "shell.execute_reply.started": "2021-12-14T08:04:47.998189Z"
    },
    "executionInfo": {
     "elapsed": 12,
     "status": "ok",
     "timestamp": 1639459253179,
     "user": {
      "displayName": "JAGADEESHA R G",
      "photoUrl": "https://lh3.googleusercontent.com/a-/AOh14GgwPd8QKJ3EmqLtAngBJU4STxuSbAigY5iPa3g3NA=s64",
      "userId": "15957991412628301278"
     },
     "user_tz": -330
    },
    "id": "H_c5AdWBV0BS",
    "outputId": "aeaa31f3-6ec8-4625-92b0-04030f3ac5e7"
   },
   "outputs": [
    {
     "data": {
      "image/png": "[encoded data removed]",
      "text/plain": [
       "<Figure size 640x480 with 2 Axes>"
      ]
     },
     "metadata": {},
     "output_type": "display_data"
    }
   ],
   "source": [
    "# before getting into actual work, printing the sample of expected result. \n",
    "\n",
    "img_arr = cv2.imread(os.path.join(root_dir, 'Luis_Fonsi_21.jpg'))\n",
    "img_arr = img_arr[:,:,::-1]                                                       # converting BGR to RGB\n",
    "x_points = data.iloc[0][1:][::2]\n",
    "y_points = data.iloc[0][2:][::2]\n",
    "plt.subplot(121)\n",
    "plt.imshow(img_arr)\n",
    "plt.title(\" Actual Image \")\n",
    "plt.subplot(122)\n",
    "plt.imshow(img_arr)\n",
    "plt.scatter(list(x_points), list(y_points))\n",
    "plt.title(\" Actual Image with keyponts\")\n",
    "plt.show()"
   ]
  },
  {
   "cell_type": "code",
   "execution_count": 10,
   "metadata": {},
   "outputs": [
    {
     "data": {
      "text/plain": [
       "(192, 176, 3)"
      ]
     },
     "execution_count": 10,
     "metadata": {},
     "output_type": "execute_result"
    }
   ],
   "source": [
    "cv2.imread(os.path.join(root_dir, 'Luis_Fonsi_21.jpg')).shape\n",
    "# cv2.imread(os.path.join(root_dir, 'Abdullah_Gul_11.jpg')).shape"
   ]
  },
  {
   "cell_type": "markdown",
   "metadata": {
    "id": "j5WxuRzqRkvc"
   },
   "source": [
    "### in this dataset, first column correpond to image name. Starting from second column, even columns correspond to X-axis of the facial points and odd columns correpsond to y-axis of the points"
   ]
  },
  {
   "cell_type": "markdown",
   "metadata": {
    "id": "G9YqTRFNSJ_t"
   },
   "source": [
    "### total 68 facial points to be detected for each image "
   ]
  },
  {
   "cell_type": "code",
   "execution_count": 11,
   "metadata": {
    "execution": {
     "iopub.execute_input": "2021-12-14T08:04:52.057891Z",
     "iopub.status.busy": "2021-12-14T08:04:52.057012Z",
     "iopub.status.idle": "2021-12-14T08:04:52.069558Z",
     "shell.execute_reply": "2021-12-14T08:04:52.068684Z",
     "shell.execute_reply.started": "2021-12-14T08:04:52.057834Z"
    },
    "executionInfo": {
     "elapsed": 5,
     "status": "ok",
     "timestamp": 1639465457955,
     "user": {
      "displayName": "JAGADEESHA R G",
      "photoUrl": "https://lh3.googleusercontent.com/a-/AOh14GgwPd8QKJ3EmqLtAngBJU4STxuSbAigY5iPa3g3NA=s64",
      "userId": "15957991412628301278"
     },
     "user_tz": -330
    },
    "id": "A13YBLxcRdDN"
   },
   "outputs": [],
   "source": [
    "# preparing the dataset and datalaoder \n",
    "\n",
    "class FaceDataset(Dataset):\n",
    "  def __init__(self, df):\n",
    "    super().__init__()\n",
    "    self.normalize = transforms.Normalize(mean=[0.485, 0.456, 0.406],\n",
    "                                              std=[0.229, 0.224, 0.225])\n",
    "    self.df = df\n",
    "\n",
    "  def __getitem__(self, ix):\n",
    "    doc = self.df.iloc[ix]\n",
    "    image_name = doc[0]\n",
    "    image_path = os.path.join(root_dir,image_name)  \n",
    "    img_arr = cv2.imread(image_path)\n",
    "    x_axis_points = doc[1:][::2]\n",
    "    y_axis_points = doc[2:][::2]\n",
    "    x_axis_points = list(x_axis_points/img_arr.shape[1])                                    # scaling the facial points with respective image_dim \n",
    "    y_axis_points = list(y_axis_points/img_arr.shape[0])                                    # so that we can use relative positions w.r.t image\n",
    "    \n",
    "    points = x_axis_points + y_axis_points  \n",
    "\n",
    "    img_arr = img_arr/255.0                                                                 # scaling the image \n",
    "    img = self.preprocess_img(img_arr)\n",
    "    \n",
    "    return img.to(device), torch.tensor(points).to(device)\n",
    "\n",
    "  def __len__(self):\n",
    "    return self.df.shape[0]\n",
    "\n",
    "    \n",
    "  def preprocess_img(self, img):\n",
    "    img = cv2.resize(img, (224,224)) \n",
    "    img = torch.tensor(img).permute(2,0,1) \n",
    "    img = self.normalize(img).float()\n",
    "    return img\n",
    "     \n",
    "  def load_img(self, ix):\n",
    "    doc = self.df.iloc[ix]\n",
    "    img_name = doc[0]\n",
    "    img = cv2.imread(os.path.join(root_dir, img_name))\n",
    "    return img\n"
   ]
  },
  {
   "cell_type": "code",
   "execution_count": 12,
   "metadata": {
    "execution": {
     "iopub.execute_input": "2021-12-14T08:04:52.260254Z",
     "iopub.status.busy": "2021-12-14T08:04:52.260038Z",
     "iopub.status.idle": "2021-12-14T08:04:52.270486Z",
     "shell.execute_reply": "2021-12-14T08:04:52.269675Z",
     "shell.execute_reply.started": "2021-12-14T08:04:52.260229Z"
    },
    "executionInfo": {
     "elapsed": 743,
     "status": "ok",
     "timestamp": 1639463922134,
     "user": {
      "displayName": "JAGADEESHA R G",
      "photoUrl": "https://lh3.googleusercontent.com/a-/AOh14GgwPd8QKJ3EmqLtAngBJU4STxuSbAigY5iPa3g3NA=s64",
      "userId": "15957991412628301278"
     },
     "user_tz": -330
    },
    "id": "DNzApaLXqcUs"
   },
   "outputs": [],
   "source": [
    "train_df, test_df = train_test_split(data, test_size=0.2)"
   ]
  },
  {
   "cell_type": "code",
   "execution_count": 13,
   "metadata": {
    "execution": {
     "iopub.execute_input": "2021-12-14T08:04:52.46136Z",
     "iopub.status.busy": "2021-12-14T08:04:52.461114Z",
     "iopub.status.idle": "2021-12-14T08:04:52.467213Z",
     "shell.execute_reply": "2021-12-14T08:04:52.466186Z",
     "shell.execute_reply.started": "2021-12-14T08:04:52.461333Z"
    },
    "executionInfo": {
     "elapsed": 6,
     "status": "ok",
     "timestamp": 1639463943340,
     "user": {
      "displayName": "JAGADEESHA R G",
      "photoUrl": "https://lh3.googleusercontent.com/a-/AOh14GgwPd8QKJ3EmqLtAngBJU4STxuSbAigY5iPa3g3NA=s64",
      "userId": "15957991412628301278"
     },
     "user_tz": -330
    },
    "id": "zaJgVh8Oqi5G",
    "outputId": "4394a2e6-9c4f-482d-e934-d689176dc6fd"
   },
   "outputs": [
    {
     "name": "stdout",
     "output_type": "stream",
     "text": [
      "(2769, 137)\n",
      "(693, 137)\n"
     ]
    }
   ],
   "source": [
    "print(train_df.shape)\n",
    "print(test_df.shape)"
   ]
  },
  {
   "cell_type": "code",
   "execution_count": 14,
   "metadata": {
    "execution": {
     "iopub.execute_input": "2021-12-14T08:04:52.629312Z",
     "iopub.status.busy": "2021-12-14T08:04:52.629052Z",
     "iopub.status.idle": "2021-12-14T08:04:52.634408Z",
     "shell.execute_reply": "2021-12-14T08:04:52.633673Z",
     "shell.execute_reply.started": "2021-12-14T08:04:52.629282Z"
    },
    "executionInfo": {
     "elapsed": 482,
     "status": "ok",
     "timestamp": 1639465465484,
     "user": {
      "displayName": "JAGADEESHA R G",
      "photoUrl": "https://lh3.googleusercontent.com/a-/AOh14GgwPd8QKJ3EmqLtAngBJU4STxuSbAigY5iPa3g3NA=s64",
      "userId": "15957991412628301278"
     },
     "user_tz": -330
    },
    "id": "IBKOdtYBRdGM"
   },
   "outputs": [],
   "source": [
    "train_dataset = FaceDataset(train_df)\n",
    "test_dataset = FaceDataset(test_df)"
   ]
  },
  {
   "cell_type": "code",
   "execution_count": 15,
   "metadata": {
    "execution": {
     "iopub.execute_input": "2021-12-14T08:04:52.817815Z",
     "iopub.status.busy": "2021-12-14T08:04:52.816952Z",
     "iopub.status.idle": "2021-12-14T08:04:55.763326Z",
     "shell.execute_reply": "2021-12-14T08:04:55.762331Z",
     "shell.execute_reply.started": "2021-12-14T08:04:52.81776Z"
    },
    "executionInfo": {
     "elapsed": 773,
     "status": "ok",
     "timestamp": 1639465469473,
     "user": {
      "displayName": "JAGADEESHA R G",
      "photoUrl": "https://lh3.googleusercontent.com/a-/AOh14GgwPd8QKJ3EmqLtAngBJU4STxuSbAigY5iPa3g3NA=s64",
      "userId": "15957991412628301278"
     },
     "user_tz": -330
    },
    "id": "UVEf9FwXkS-A",
    "outputId": "c30f67e1-6ab2-40eb-dbb2-aa4702db0735",
    "scrolled": true
   },
   "outputs": [
    {
     "data": {
      "text/plain": [
       "(tensor([[[-1.5357, -1.3481, -1.1645,  ...,  0.6117,  0.3639,  0.0741],\n",
       "          [-1.5485, -1.3354, -1.1259,  ...,  0.5880,  0.3252,  0.0225],\n",
       "          [-1.5025, -1.3259, -1.1517,  ...,  0.5935,  0.3073, -0.0145],\n",
       "          ...,\n",
       "          [-0.6079, -0.5789, -0.5467,  ..., -0.6253, -0.6281, -0.6281],\n",
       "          [-0.6408, -0.6025, -0.5603,  ..., -0.6253, -0.6281, -0.6281],\n",
       "          [-0.6794, -0.6283, -0.5711,  ..., -0.6253, -0.6281, -0.6281]],\n",
       " \n",
       "         [[-1.2304, -1.0997, -0.9821,  ..., -0.1596, -0.4702, -0.7752],\n",
       "          [-1.2699, -1.1261, -0.9952,  ..., -0.1443, -0.4901, -0.8279],\n",
       "          [-1.2521, -1.1500, -1.0595,  ..., -0.1256, -0.4967, -0.8555],\n",
       "          ...,\n",
       "          [-0.7021, -0.6724, -0.6395,  ..., -0.6498, -0.6527, -0.6527],\n",
       "          [-0.7270, -0.6922, -0.6534,  ..., -0.6498, -0.6527, -0.6527],\n",
       "          [-0.7402, -0.7053, -0.6645,  ..., -0.6498, -0.6527, -0.6527]],\n",
       " \n",
       "         [[-0.0615,  0.0252,  0.0957,  ..., -0.0437, -0.3330, -0.6367],\n",
       "          [-0.0222,  0.1168,  0.2378,  ..., -0.0437, -0.3594, -0.6891],\n",
       "          [ 0.0931,  0.1932,  0.2777,  ..., -0.0285, -0.3681, -0.7166],\n",
       "          ...,\n",
       "          [-0.5814, -0.5518, -0.5190,  ..., -0.5467, -0.5495, -0.5495],\n",
       "          [-0.6105, -0.5736, -0.5329,  ..., -0.5467, -0.5495, -0.5495],\n",
       "          [-0.6367, -0.5933, -0.5439,  ..., -0.5467, -0.5495, -0.5495]]],\n",
       "        device='cuda:0'),\n",
       " tensor([0.2483, 0.2349, 0.2483, 0.2483, 0.2483, 0.2819, 0.3221, 0.3557, 0.4430,\n",
       "         0.5235, 0.5772, 0.6309, 0.6644, 0.6980, 0.7181, 0.7315, 0.7651, 0.3221,\n",
       "         0.3557, 0.4027, 0.4430, 0.4564, 0.5973, 0.6107, 0.6443, 0.6980, 0.7181,\n",
       "         0.5101, 0.5101, 0.4899, 0.4899, 0.4430, 0.4564, 0.4765, 0.5101, 0.5235,\n",
       "         0.3691, 0.3893, 0.4228, 0.4430, 0.4228, 0.3893, 0.5772, 0.6107, 0.6443,\n",
       "         0.6644, 0.6309, 0.5973, 0.3691, 0.4027, 0.4564, 0.4765, 0.4899, 0.5235,\n",
       "         0.5570, 0.5235, 0.4899, 0.4564, 0.4430, 0.4027, 0.3893, 0.4430, 0.4765,\n",
       "         0.4899, 0.5436, 0.4899, 0.4765, 0.4430, 0.4278, 0.4813, 0.5348, 0.5936,\n",
       "         0.6471, 0.7005, 0.7273, 0.7594, 0.7861, 0.7861, 0.7754, 0.7487, 0.7059,\n",
       "         0.6524, 0.6096, 0.5561, 0.5027, 0.3850, 0.3743, 0.3743, 0.3743, 0.3904,\n",
       "         0.4171, 0.4171, 0.4171, 0.4332, 0.4439, 0.4599, 0.4973, 0.5401, 0.5829,\n",
       "         0.5775, 0.5936, 0.6096, 0.5936, 0.5936, 0.4278, 0.4278, 0.4278, 0.4439,\n",
       "         0.4545, 0.4439, 0.4706, 0.4599, 0.4599, 0.4706, 0.4866, 0.4866, 0.6471,\n",
       "         0.6364, 0.6364, 0.6471, 0.6364, 0.6471, 0.6791, 0.6791, 0.6898, 0.6898,\n",
       "         0.6738, 0.6631, 0.6471, 0.6471, 0.6631, 0.6631, 0.6631, 0.6631, 0.6631,\n",
       "         0.6471], device='cuda:0', dtype=torch.float64))"
      ]
     },
     "execution_count": 15,
     "metadata": {},
     "output_type": "execute_result"
    }
   ],
   "source": [
    "train_dataset[0]"
   ]
  },
  {
   "cell_type": "code",
   "execution_count": 16,
   "metadata": {
    "execution": {
     "iopub.execute_input": "2021-12-14T08:04:55.766047Z",
     "iopub.status.busy": "2021-12-14T08:04:55.765766Z",
     "iopub.status.idle": "2021-12-14T08:04:55.773133Z",
     "shell.execute_reply": "2021-12-14T08:04:55.772322Z",
     "shell.execute_reply.started": "2021-12-14T08:04:55.766009Z"
    },
    "executionInfo": {
     "elapsed": 5,
     "status": "ok",
     "timestamp": 1639465470694,
     "user": {
      "displayName": "JAGADEESHA R G",
      "photoUrl": "https://lh3.googleusercontent.com/a-/AOh14GgwPd8QKJ3EmqLtAngBJU4STxuSbAigY5iPa3g3NA=s64",
      "userId": "15957991412628301278"
     },
     "user_tz": -330
    },
    "id": "akFAL3Tpka3A"
   },
   "outputs": [],
   "source": [
    "train_dataloader = DataLoader(train_dataset, batch_size=25, shuffle=True)\n",
    "test_dataloader = DataLoader(test_dataset, batch_size=25, shuffle=True)"
   ]
  },
  {
   "cell_type": "code",
   "execution_count": 18,
   "metadata": {},
   "outputs": [
    {
     "ename": "AttributeError",
     "evalue": "'DataLoader' object has no attribute 'shape'",
     "output_type": "error",
     "traceback": [
      "\u001b[0;31m---------------------------------------------------------------------------\u001b[0m",
      "\u001b[0;31mAttributeError\u001b[0m                            Traceback (most recent call last)",
      "Cell \u001b[0;32mIn[18], line 1\u001b[0m\n\u001b[0;32m----> 1\u001b[0m \u001b[38;5;28mprint\u001b[39m(\u001b[43mtrain_dataloader\u001b[49m\u001b[38;5;241;43m.\u001b[39;49m\u001b[43mshape\u001b[49m)\n",
      "\u001b[0;31mAttributeError\u001b[0m: 'DataLoader' object has no attribute 'shape'"
     ]
    }
   ],
   "source": [
    "print(train_dataloader)"
   ]
  },
  {
   "cell_type": "code",
   "execution_count": 38,
   "metadata": {
    "execution": {
     "iopub.execute_input": "2021-12-14T08:04:55.775688Z",
     "iopub.status.busy": "2021-12-14T08:04:55.774942Z",
     "iopub.status.idle": "2021-12-14T08:04:55.938046Z",
     "shell.execute_reply": "2021-12-14T08:04:55.936521Z",
     "shell.execute_reply.started": "2021-12-14T08:04:55.775646Z"
    },
    "executionInfo": {
     "elapsed": 6,
     "status": "ok",
     "timestamp": 1639465472906,
     "user": {
      "displayName": "JAGADEESHA R G",
      "photoUrl": "https://lh3.googleusercontent.com/a-/AOh14GgwPd8QKJ3EmqLtAngBJU4STxuSbAigY5iPa3g3NA=s64",
      "userId": "15957991412628301278"
     },
     "user_tz": -330
    },
    "id": "lQP5lQNGka50",
    "outputId": "9974e42b-2447-4bba-e103-021a4d582399"
   },
   "outputs": [
    {
     "name": "stdout",
     "output_type": "stream",
     "text": [
      "torch.Size([25, 3, 224, 224])\n",
      "torch.Size([25, 136])\n"
     ]
    }
   ],
   "source": [
    "for img, points in train_dataloader:\n",
    "  print(img.shape)\n",
    "  print(points.shape)\n",
    "  break\n"
   ]
  },
  {
   "cell_type": "code",
   "execution_count": 39,
   "metadata": {
    "execution": {
     "iopub.execute_input": "2021-12-14T08:04:55.94186Z",
     "iopub.status.busy": "2021-12-14T08:04:55.941319Z",
     "iopub.status.idle": "2021-12-14T08:04:55.946368Z",
     "shell.execute_reply": "2021-12-14T08:04:55.945306Z",
     "shell.execute_reply.started": "2021-12-14T08:04:55.941828Z"
    },
    "executionInfo": {
     "elapsed": 7,
     "status": "ok",
     "timestamp": 1639460924851,
     "user": {
      "displayName": "JAGADEESHA R G",
      "photoUrl": "https://lh3.googleusercontent.com/a-/AOh14GgwPd8QKJ3EmqLtAngBJU4STxuSbAigY5iPa3g3NA=s64",
      "userId": "15957991412628301278"
     },
     "user_tz": -330
    },
    "id": "Lbkvp-R9fBLi"
   },
   "outputs": [],
   "source": [
    "# not that data pipeline is ready, creating model and training pipeline "
   ]
  },
  {
   "cell_type": "markdown",
   "metadata": {
    "id": "iN-sbDCLfSoq"
   },
   "source": [
    "## getting VGG16 pretrained model from Pytorch"
   ]
  },
  {
   "cell_type": "code",
   "execution_count": 40,
   "metadata": {
    "execution": {
     "iopub.execute_input": "2021-12-14T08:04:55.948197Z",
     "iopub.status.busy": "2021-12-14T08:04:55.947851Z",
     "iopub.status.idle": "2021-12-14T08:05:00.348572Z",
     "shell.execute_reply": "2021-12-14T08:05:00.347813Z",
     "shell.execute_reply.started": "2021-12-14T08:04:55.948157Z"
    },
    "executionInfo": {
     "elapsed": 2046,
     "status": "ok",
     "timestamp": 1639462628296,
     "user": {
      "displayName": "JAGADEESHA R G",
      "photoUrl": "https://lh3.googleusercontent.com/a-/AOh14GgwPd8QKJ3EmqLtAngBJU4STxuSbAigY5iPa3g3NA=s64",
      "userId": "15957991412628301278"
     },
     "user_tz": -330
    },
    "id": "OmOm0wveRdMB"
   },
   "outputs": [
    {
     "name": "stderr",
     "output_type": "stream",
     "text": [
      "/home/dell/Desktop/xxxx/Uni/Kirigami_project/Keypoint_detection_notebooks/.Keypoint_detection_notebooks/lib/python3.8/site-packages/torchvision/models/_utils.py:208: UserWarning: The parameter 'pretrained' is deprecated since 0.13 and may be removed in the future, please use 'weights' instead.\n",
      "  warnings.warn(\n",
      "/home/dell/Desktop/xxxx/Uni/Kirigami_project/Keypoint_detection_notebooks/.Keypoint_detection_notebooks/lib/python3.8/site-packages/torchvision/models/_utils.py:223: UserWarning: Arguments other than a weight enum or `None` for 'weights' are deprecated since 0.13 and may be removed in the future. The current behavior is equivalent to passing `weights=None`.\n",
      "  warnings.warn(msg)\n"
     ]
    }
   ],
   "source": [
    "model = models.vgg16(pretrained=False)"
   ]
  },
  {
   "cell_type": "code",
   "execution_count": 41,
   "metadata": {
    "execution": {
     "iopub.execute_input": "2021-12-14T08:05:00.350271Z",
     "iopub.status.busy": "2021-12-14T08:05:00.350004Z",
     "iopub.status.idle": "2021-12-14T08:05:00.359167Z",
     "shell.execute_reply": "2021-12-14T08:05:00.358508Z",
     "shell.execute_reply.started": "2021-12-14T08:05:00.350237Z"
    },
    "executionInfo": {
     "elapsed": 860,
     "status": "ok",
     "timestamp": 1639462953932,
     "user": {
      "displayName": "JAGADEESHA R G",
      "photoUrl": "https://lh3.googleusercontent.com/a-/AOh14GgwPd8QKJ3EmqLtAngBJU4STxuSbAigY5iPa3g3NA=s64",
      "userId": "15957991412628301278"
     },
     "user_tz": -330
    },
    "id": "rrdqGrSDfsdQ",
    "outputId": "1037867b-d3dc-48dd-c38c-322553e779f0"
   },
   "outputs": [
    {
     "data": {
      "text/plain": [
       "VGG(\n",
       "  (features): Sequential(\n",
       "    (0): Conv2d(3, 64, kernel_size=(3, 3), stride=(1, 1), padding=(1, 1))\n",
       "    (1): ReLU(inplace=True)\n",
       "    (2): Conv2d(64, 64, kernel_size=(3, 3), stride=(1, 1), padding=(1, 1))\n",
       "    (3): ReLU(inplace=True)\n",
       "    (4): MaxPool2d(kernel_size=2, stride=2, padding=0, dilation=1, ceil_mode=False)\n",
       "    (5): Conv2d(64, 128, kernel_size=(3, 3), stride=(1, 1), padding=(1, 1))\n",
       "    (6): ReLU(inplace=True)\n",
       "    (7): Conv2d(128, 128, kernel_size=(3, 3), stride=(1, 1), padding=(1, 1))\n",
       "    (8): ReLU(inplace=True)\n",
       "    (9): MaxPool2d(kernel_size=2, stride=2, padding=0, dilation=1, ceil_mode=False)\n",
       "    (10): Conv2d(128, 256, kernel_size=(3, 3), stride=(1, 1), padding=(1, 1))\n",
       "    (11): ReLU(inplace=True)\n",
       "    (12): Conv2d(256, 256, kernel_size=(3, 3), stride=(1, 1), padding=(1, 1))\n",
       "    (13): ReLU(inplace=True)\n",
       "    (14): Conv2d(256, 256, kernel_size=(3, 3), stride=(1, 1), padding=(1, 1))\n",
       "    (15): ReLU(inplace=True)\n",
       "    (16): MaxPool2d(kernel_size=2, stride=2, padding=0, dilation=1, ceil_mode=False)\n",
       "    (17): Conv2d(256, 512, kernel_size=(3, 3), stride=(1, 1), padding=(1, 1))\n",
       "    (18): ReLU(inplace=True)\n",
       "    (19): Conv2d(512, 512, kernel_size=(3, 3), stride=(1, 1), padding=(1, 1))\n",
       "    (20): ReLU(inplace=True)\n",
       "    (21): Conv2d(512, 512, kernel_size=(3, 3), stride=(1, 1), padding=(1, 1))\n",
       "    (22): ReLU(inplace=True)\n",
       "    (23): MaxPool2d(kernel_size=2, stride=2, padding=0, dilation=1, ceil_mode=False)\n",
       "    (24): Conv2d(512, 512, kernel_size=(3, 3), stride=(1, 1), padding=(1, 1))\n",
       "    (25): ReLU(inplace=True)\n",
       "    (26): Conv2d(512, 512, kernel_size=(3, 3), stride=(1, 1), padding=(1, 1))\n",
       "    (27): ReLU(inplace=True)\n",
       "    (28): Conv2d(512, 512, kernel_size=(3, 3), stride=(1, 1), padding=(1, 1))\n",
       "    (29): ReLU(inplace=True)\n",
       "    (30): MaxPool2d(kernel_size=2, stride=2, padding=0, dilation=1, ceil_mode=False)\n",
       "  )\n",
       "  (avgpool): AdaptiveAvgPool2d(output_size=(7, 7))\n",
       "  (classifier): Sequential(\n",
       "    (0): Linear(in_features=25088, out_features=4096, bias=True)\n",
       "    (1): ReLU(inplace=True)\n",
       "    (2): Dropout(p=0.5, inplace=False)\n",
       "    (3): Linear(in_features=4096, out_features=4096, bias=True)\n",
       "    (4): ReLU(inplace=True)\n",
       "    (5): Dropout(p=0.5, inplace=False)\n",
       "    (6): Linear(in_features=4096, out_features=1000, bias=True)\n",
       "  )\n",
       ")"
      ]
     },
     "execution_count": 41,
     "metadata": {},
     "output_type": "execute_result"
    }
   ],
   "source": [
    "model"
   ]
  },
  {
   "cell_type": "code",
   "execution_count": 47,
   "metadata": {},
   "outputs": [],
   "source": [
    "import torch.nn as nn\n",
    "\n",
    "class VGG_test(nn.Module):\n",
    "    def __init__(self):\n",
    "        super(VGG_test, self).__init__()\n",
    "        self.features = nn.Sequential(\n",
    "            nn.Conv2d(3, 64, kernel_size=(3, 3), stride=(1, 1), padding=(1, 1)),\n",
    "            nn.ReLU(inplace=True),\n",
    "            nn.Conv2d(64, 64, kernel_size=(3, 3), stride=(1, 1), padding=(1, 1)),\n",
    "            nn.ReLU(inplace=True),\n",
    "            nn.MaxPool2d(kernel_size=2, stride=2, padding=0, dilation=1, ceil_mode=False),\n",
    "            nn.Conv2d(64, 128, kernel_size=(3, 3), stride=(1, 1), padding=(1, 1)),\n",
    "            nn.ReLU(inplace=True),\n",
    "            nn.Conv2d(128, 128, kernel_size=(3, 3), stride=(1, 1), padding=(1, 1)),\n",
    "            nn.ReLU(inplace=True),\n",
    "            nn.MaxPool2d(kernel_size=2, stride=2, padding=0, dilation=1, ceil_mode=False),\n",
    "            nn.Conv2d(128, 256, kernel_size=(3, 3), stride=(1, 1), padding=(1, 1)),\n",
    "            nn.ReLU(inplace=True),\n",
    "            nn.Conv2d(256, 256, kernel_size=(3, 3), stride=(1, 1), padding=(1, 1)),\n",
    "            nn.ReLU(inplace=True),\n",
    "            nn.Conv2d(256, 256, kernel_size=(3, 3), stride=(1, 1), padding=(1, 1)),\n",
    "            nn.ReLU(inplace=True),\n",
    "            nn.MaxPool2d(kernel_size=2, stride=2, padding=0, dilation=1, ceil_mode=False),\n",
    "            nn.Conv2d(256, 512, kernel_size=(3, 3), stride=(1, 1), padding=(1, 1)),\n",
    "            nn.ReLU(inplace=True),\n",
    "            nn.Conv2d(512, 512, kernel_size=(3, 3), stride=(1, 1), padding=(1, 1)),\n",
    "            nn.ReLU(inplace=True),\n",
    "            nn.Conv2d(512, 512, kernel_size=(3, 3), stride=(1, 1), padding=(1, 1)),\n",
    "            nn.ReLU(inplace=True),\n",
    "            nn.MaxPool2d(kernel_size=2, stride=2, padding=0, dilation=1, ceil_mode=False),\n",
    "            nn.Conv2d(512, 512, kernel_size=(3, 3), stride=(1, 1), padding=(1, 1)),\n",
    "            nn.ReLU(inplace=True),\n",
    "            nn.Conv2d(512, 512, kernel_size=(3, 3), stride=(1, 1), padding=(1, 1)),\n",
    "            nn.ReLU(inplace=True),\n",
    "            nn.Conv2d(512, 512, kernel_size=(3, 3), stride=(1, 1), padding=(1, 1)),\n",
    "            nn.ReLU(inplace=True),\n",
    "            nn.MaxPool2d(kernel_size=2, stride=2, padding=0, dilation=1, ceil_mode=False)\n",
    "        )\n",
    "        \n",
    "        self.avgpool = nn.AdaptiveAvgPool2d(output_size=(7, 7))\n",
    "        \n",
    "        self.classifier = nn.Sequential(\n",
    "            nn.Linear(in_features=25088, out_features=4096, bias=True),\n",
    "            nn.ReLU(inplace=True),\n",
    "            nn.Dropout(p=0.5, inplace=False),\n",
    "            nn.Linear(in_features=4096, out_features=4096, bias=True),\n",
    "            nn.ReLU(inplace=True),\n",
    "            nn.Dropout(p=0.5, inplace=False),\n",
    "            nn.Linear(in_features=4096, out_features=1000, bias=True)\n",
    "        )\n",
    "    \n",
    "    def forward(self, x):\n",
    "        x = self.features(x)\n",
    "        x = self.avgpool(x)\n",
    "        x = x.view(x.size(0), -1)\n",
    "        x = self.classifier(x)\n",
    "        return x\n",
    "        "
   ]
  },
  {
   "cell_type": "code",
   "execution_count": 49,
   "metadata": {},
   "outputs": [
    {
     "name": "stdout",
     "output_type": "stream",
     "text": [
      "VGG_test(\n",
      "  (features): Sequential(\n",
      "    (0): Conv2d(3, 64, kernel_size=(3, 3), stride=(1, 1), padding=(1, 1))\n",
      "    (1): ReLU(inplace=True)\n",
      "    (2): Conv2d(64, 64, kernel_size=(3, 3), stride=(1, 1), padding=(1, 1))\n",
      "    (3): ReLU(inplace=True)\n",
      "    (4): MaxPool2d(kernel_size=2, stride=2, padding=0, dilation=1, ceil_mode=False)\n",
      "    (5): Conv2d(64, 128, kernel_size=(3, 3), stride=(1, 1), padding=(1, 1))\n",
      "    (6): ReLU(inplace=True)\n",
      "    (7): Conv2d(128, 128, kernel_size=(3, 3), stride=(1, 1), padding=(1, 1))\n",
      "    (8): ReLU(inplace=True)\n",
      "    (9): MaxPool2d(kernel_size=2, stride=2, padding=0, dilation=1, ceil_mode=False)\n",
      "    (10): Conv2d(128, 256, kernel_size=(3, 3), stride=(1, 1), padding=(1, 1))\n",
      "    (11): ReLU(inplace=True)\n",
      "    (12): Conv2d(256, 256, kernel_size=(3, 3), stride=(1, 1), padding=(1, 1))\n",
      "    (13): ReLU(inplace=True)\n",
      "    (14): Conv2d(256, 256, kernel_size=(3, 3), stride=(1, 1), padding=(1, 1))\n",
      "    (15): ReLU(inplace=True)\n",
      "    (16): MaxPool2d(kernel_size=2, stride=2, padding=0, dilation=1, ceil_mode=False)\n",
      "    (17): Conv2d(256, 512, kernel_size=(3, 3), stride=(1, 1), padding=(1, 1))\n",
      "    (18): ReLU(inplace=True)\n",
      "    (19): Conv2d(512, 512, kernel_size=(3, 3), stride=(1, 1), padding=(1, 1))\n",
      "    (20): ReLU(inplace=True)\n",
      "    (21): Conv2d(512, 512, kernel_size=(3, 3), stride=(1, 1), padding=(1, 1))\n",
      "    (22): ReLU(inplace=True)\n",
      "    (23): MaxPool2d(kernel_size=2, stride=2, padding=0, dilation=1, ceil_mode=False)\n",
      "    (24): Conv2d(512, 512, kernel_size=(3, 3), stride=(1, 1), padding=(1, 1))\n",
      "    (25): ReLU(inplace=True)\n",
      "    (26): Conv2d(512, 512, kernel_size=(3, 3), stride=(1, 1), padding=(1, 1))\n",
      "    (27): ReLU(inplace=True)\n",
      "    (28): Conv2d(512, 512, kernel_size=(3, 3), stride=(1, 1), padding=(1, 1))\n",
      "    (29): ReLU(inplace=True)\n",
      "    (30): MaxPool2d(kernel_size=2, stride=2, padding=0, dilation=1, ceil_mode=False)\n",
      "  )\n",
      "  (avgpool): AdaptiveAvgPool2d(output_size=(7, 7))\n",
      "  (classifier): Sequential(\n",
      "    (0): Linear(in_features=25088, out_features=4096, bias=True)\n",
      "    (1): ReLU(inplace=True)\n",
      "    (2): Dropout(p=0.5, inplace=False)\n",
      "    (3): Linear(in_features=4096, out_features=4096, bias=True)\n",
      "    (4): ReLU(inplace=True)\n",
      "    (5): Dropout(p=0.5, inplace=False)\n",
      "    (6): Linear(in_features=4096, out_features=1000, bias=True)\n",
      "  )\n",
      ")\n"
     ]
    }
   ],
   "source": [
    "test_model = VGG_test()\n",
    "\n",
    "print(test_model)"
   ]
  },
  {
   "cell_type": "code",
   "execution_count": 55,
   "metadata": {
    "execution": {
     "iopub.execute_input": "2021-12-14T08:05:00.361149Z",
     "iopub.status.busy": "2021-12-14T08:05:00.360258Z",
     "iopub.status.idle": "2021-12-14T08:05:00.368548Z",
     "shell.execute_reply": "2021-12-14T08:05:00.367827Z",
     "shell.execute_reply.started": "2021-12-14T08:05:00.36109Z"
    },
    "executionInfo": {
     "elapsed": 2,
     "status": "ok",
     "timestamp": 1639462632444,
     "user": {
      "displayName": "JAGADEESHA R G",
      "photoUrl": "https://lh3.googleusercontent.com/a-/AOh14GgwPd8QKJ3EmqLtAngBJU4STxuSbAigY5iPa3g3NA=s64",
      "userId": "15957991412628301278"
     },
     "user_tz": -330
    },
    "id": "2d8yVwgHPQlB"
   },
   "outputs": [],
   "source": [
    "# making the weights non trainable\n",
    "\n",
    "for param in model.parameters():\n",
    "  param.requires_grad = False"
   ]
  },
  {
   "cell_type": "markdown",
   "metadata": {
    "id": "s1bnjYmdf86D"
   },
   "source": [
    "### next we will modify the model based on our requirement, since we need to predict 136 datapoints and each in the range of 0-1 values, we will remove the last 2 sections of model i.e, avgpool and classifier and add custom layers for training "
   ]
  },
  {
   "cell_type": "code",
   "execution_count": 56,
   "metadata": {
    "execution": {
     "iopub.execute_input": "2021-12-14T08:05:00.370224Z",
     "iopub.status.busy": "2021-12-14T08:05:00.369663Z",
     "iopub.status.idle": "2021-12-14T08:05:00.429316Z",
     "shell.execute_reply": "2021-12-14T08:05:00.428634Z",
     "shell.execute_reply.started": "2021-12-14T08:05:00.370187Z"
    },
    "executionInfo": {
     "elapsed": 606,
     "status": "ok",
     "timestamp": 1639467173588,
     "user": {
      "displayName": "JAGADEESHA R G",
      "photoUrl": "https://lh3.googleusercontent.com/a-/AOh14GgwPd8QKJ3EmqLtAngBJU4STxuSbAigY5iPa3g3NA=s64",
      "userId": "15957991412628301278"
     },
     "user_tz": -330
    },
    "id": "IwgyQsJmfh0H"
   },
   "outputs": [],
   "source": [
    "from torch.nn.modules.activation import Sigmoid\n",
    "from torch.nn.modules.pooling import AdaptiveAvgPool2d\n",
    "pool_layer = nn.Sequential(\n",
    "     nn.Conv2d(512,512, kernel_size=3, padding='same'),\n",
    "     nn.ReLU(),\n",
    "     nn.MaxPool2d(kernel_size=2, stride=2),\n",
    "     nn.Conv2d(512,50, kernel_size=3, padding='same'),\n",
    "     nn.ReLU(),\n",
    "     nn.MaxPool2d(kernel_size=2, stride=2),\n",
    "     nn.AdaptiveAvgPool2d(output_size=(8,8))\n",
    ")\n",
    "\n",
    "model.avgpool = pool_layer\n",
    "\n",
    "final_predictor = nn.Sequential(\n",
    "    nn.Linear(3200, 300),\n",
    "    nn.ReLU(),\n",
    "    nn.Dropout(0.3),\n",
    "    nn.Linear(300, 136),\n",
    "    nn.Sigmoid()\n",
    ")\n",
    "\n",
    "model.classifier = final_predictor"
   ]
  },
  {
   "cell_type": "code",
   "execution_count": 57,
   "metadata": {
    "execution": {
     "iopub.execute_input": "2021-12-14T08:05:00.430866Z",
     "iopub.status.busy": "2021-12-14T08:05:00.430616Z",
     "iopub.status.idle": "2021-12-14T08:05:00.458049Z",
     "shell.execute_reply": "2021-12-14T08:05:00.457314Z",
     "shell.execute_reply.started": "2021-12-14T08:05:00.43083Z"
    },
    "executionInfo": {
     "elapsed": 7,
     "status": "ok",
     "timestamp": 1639467176265,
     "user": {
      "displayName": "JAGADEESHA R G",
      "photoUrl": "https://lh3.googleusercontent.com/a-/AOh14GgwPd8QKJ3EmqLtAngBJU4STxuSbAigY5iPa3g3NA=s64",
      "userId": "15957991412628301278"
     },
     "user_tz": -330
    },
    "id": "LJp5LPW8mvyQ"
   },
   "outputs": [],
   "source": [
    "model = model.to(device)"
   ]
  },
  {
   "cell_type": "code",
   "execution_count": 58,
   "metadata": {
    "execution": {
     "iopub.execute_input": "2021-12-14T08:05:00.461218Z",
     "iopub.status.busy": "2021-12-14T08:05:00.460634Z",
     "iopub.status.idle": "2021-12-14T08:05:00.467047Z",
     "shell.execute_reply": "2021-12-14T08:05:00.466248Z",
     "shell.execute_reply.started": "2021-12-14T08:05:00.461177Z"
    },
    "executionInfo": {
     "elapsed": 9,
     "status": "ok",
     "timestamp": 1639467178198,
     "user": {
      "displayName": "JAGADEESHA R G",
      "photoUrl": "https://lh3.googleusercontent.com/a-/AOh14GgwPd8QKJ3EmqLtAngBJU4STxuSbAigY5iPa3g3NA=s64",
      "userId": "15957991412628301278"
     },
     "user_tz": -330
    },
    "id": "zFnJOjqlizUq",
    "outputId": "dbcf77cd-495c-4ff5-aa19-995387d699bc"
   },
   "outputs": [
    {
     "data": {
      "text/plain": [
       "VGG(\n",
       "  (features): Sequential(\n",
       "    (0): Conv2d(3, 64, kernel_size=(3, 3), stride=(1, 1), padding=(1, 1))\n",
       "    (1): ReLU(inplace=True)\n",
       "    (2): Conv2d(64, 64, kernel_size=(3, 3), stride=(1, 1), padding=(1, 1))\n",
       "    (3): ReLU(inplace=True)\n",
       "    (4): MaxPool2d(kernel_size=2, stride=2, padding=0, dilation=1, ceil_mode=False)\n",
       "    (5): Conv2d(64, 128, kernel_size=(3, 3), stride=(1, 1), padding=(1, 1))\n",
       "    (6): ReLU(inplace=True)\n",
       "    (7): Conv2d(128, 128, kernel_size=(3, 3), stride=(1, 1), padding=(1, 1))\n",
       "    (8): ReLU(inplace=True)\n",
       "    (9): MaxPool2d(kernel_size=2, stride=2, padding=0, dilation=1, ceil_mode=False)\n",
       "    (10): Conv2d(128, 256, kernel_size=(3, 3), stride=(1, 1), padding=(1, 1))\n",
       "    (11): ReLU(inplace=True)\n",
       "    (12): Conv2d(256, 256, kernel_size=(3, 3), stride=(1, 1), padding=(1, 1))\n",
       "    (13): ReLU(inplace=True)\n",
       "    (14): Conv2d(256, 256, kernel_size=(3, 3), stride=(1, 1), padding=(1, 1))\n",
       "    (15): ReLU(inplace=True)\n",
       "    (16): MaxPool2d(kernel_size=2, stride=2, padding=0, dilation=1, ceil_mode=False)\n",
       "    (17): Conv2d(256, 512, kernel_size=(3, 3), stride=(1, 1), padding=(1, 1))\n",
       "    (18): ReLU(inplace=True)\n",
       "    (19): Conv2d(512, 512, kernel_size=(3, 3), stride=(1, 1), padding=(1, 1))\n",
       "    (20): ReLU(inplace=True)\n",
       "    (21): Conv2d(512, 512, kernel_size=(3, 3), stride=(1, 1), padding=(1, 1))\n",
       "    (22): ReLU(inplace=True)\n",
       "    (23): MaxPool2d(kernel_size=2, stride=2, padding=0, dilation=1, ceil_mode=False)\n",
       "    (24): Conv2d(512, 512, kernel_size=(3, 3), stride=(1, 1), padding=(1, 1))\n",
       "    (25): ReLU(inplace=True)\n",
       "    (26): Conv2d(512, 512, kernel_size=(3, 3), stride=(1, 1), padding=(1, 1))\n",
       "    (27): ReLU(inplace=True)\n",
       "    (28): Conv2d(512, 512, kernel_size=(3, 3), stride=(1, 1), padding=(1, 1))\n",
       "    (29): ReLU(inplace=True)\n",
       "    (30): MaxPool2d(kernel_size=2, stride=2, padding=0, dilation=1, ceil_mode=False)\n",
       "  )\n",
       "  (avgpool): Sequential(\n",
       "    (0): Conv2d(512, 512, kernel_size=(3, 3), stride=(1, 1), padding=same)\n",
       "    (1): ReLU()\n",
       "    (2): MaxPool2d(kernel_size=2, stride=2, padding=0, dilation=1, ceil_mode=False)\n",
       "    (3): Conv2d(512, 50, kernel_size=(3, 3), stride=(1, 1), padding=same)\n",
       "    (4): ReLU()\n",
       "    (5): MaxPool2d(kernel_size=2, stride=2, padding=0, dilation=1, ceil_mode=False)\n",
       "    (6): AdaptiveAvgPool2d(output_size=(8, 8))\n",
       "  )\n",
       "  (classifier): Sequential(\n",
       "    (0): Linear(in_features=3200, out_features=300, bias=True)\n",
       "    (1): ReLU()\n",
       "    (2): Dropout(p=0.3, inplace=False)\n",
       "    (3): Linear(in_features=300, out_features=136, bias=True)\n",
       "    (4): Sigmoid()\n",
       "  )\n",
       ")"
      ]
     },
     "execution_count": 58,
     "metadata": {},
     "output_type": "execute_result"
    }
   ],
   "source": [
    "model"
   ]
  },
  {
   "cell_type": "code",
   "execution_count": 59,
   "metadata": {
    "execution": {
     "iopub.execute_input": "2021-12-14T08:05:00.469286Z",
     "iopub.status.busy": "2021-12-14T08:05:00.468383Z",
     "iopub.status.idle": "2021-12-14T08:05:06.06647Z",
     "shell.execute_reply": "2021-12-14T08:05:06.065729Z",
     "shell.execute_reply.started": "2021-12-14T08:05:00.469242Z"
    },
    "executionInfo": {
     "elapsed": 2,
     "status": "ok",
     "timestamp": 1639467179621,
     "user": {
      "displayName": "JAGADEESHA R G",
      "photoUrl": "https://lh3.googleusercontent.com/a-/AOh14GgwPd8QKJ3EmqLtAngBJU4STxuSbAigY5iPa3g3NA=s64",
      "userId": "15957991412628301278"
     },
     "user_tz": -330
    },
    "id": "e_8HWF_0fiFh",
    "outputId": "cdd5ce6e-ad18-47a7-d2f4-24c1cecdd96c"
   },
   "outputs": [
    {
     "name": "stdout",
     "output_type": "stream",
     "text": [
      "==========================================================================================\n",
      "Layer (type:depth-idx)                   Output Shape              Param #\n",
      "==========================================================================================\n",
      "├─Sequential: 1-1                        [-1, 512, 7, 7]           --\n",
      "|    └─Conv2d: 2-1                       [-1, 64, 224, 224]        (1,792)\n",
      "|    └─ReLU: 2-2                         [-1, 64, 224, 224]        --\n",
      "|    └─Conv2d: 2-3                       [-1, 64, 224, 224]        (36,928)\n",
      "|    └─ReLU: 2-4                         [-1, 64, 224, 224]        --\n",
      "|    └─MaxPool2d: 2-5                    [-1, 64, 112, 112]        --\n",
      "|    └─Conv2d: 2-6                       [-1, 128, 112, 112]       (73,856)\n",
      "|    └─ReLU: 2-7                         [-1, 128, 112, 112]       --\n",
      "|    └─Conv2d: 2-8                       [-1, 128, 112, 112]       (147,584)\n",
      "|    └─ReLU: 2-9                         [-1, 128, 112, 112]       --\n",
      "|    └─MaxPool2d: 2-10                   [-1, 128, 56, 56]         --\n",
      "|    └─Conv2d: 2-11                      [-1, 256, 56, 56]         (295,168)\n",
      "|    └─ReLU: 2-12                        [-1, 256, 56, 56]         --\n",
      "|    └─Conv2d: 2-13                      [-1, 256, 56, 56]         (590,080)\n",
      "|    └─ReLU: 2-14                        [-1, 256, 56, 56]         --\n",
      "|    └─Conv2d: 2-15                      [-1, 256, 56, 56]         (590,080)\n",
      "|    └─ReLU: 2-16                        [-1, 256, 56, 56]         --\n",
      "|    └─MaxPool2d: 2-17                   [-1, 256, 28, 28]         --\n",
      "|    └─Conv2d: 2-18                      [-1, 512, 28, 28]         (1,180,160)\n",
      "|    └─ReLU: 2-19                        [-1, 512, 28, 28]         --\n",
      "|    └─Conv2d: 2-20                      [-1, 512, 28, 28]         (2,359,808)\n",
      "|    └─ReLU: 2-21                        [-1, 512, 28, 28]         --\n",
      "|    └─Conv2d: 2-22                      [-1, 512, 28, 28]         (2,359,808)\n",
      "|    └─ReLU: 2-23                        [-1, 512, 28, 28]         --\n",
      "|    └─MaxPool2d: 2-24                   [-1, 512, 14, 14]         --\n",
      "|    └─Conv2d: 2-25                      [-1, 512, 14, 14]         (2,359,808)\n",
      "|    └─ReLU: 2-26                        [-1, 512, 14, 14]         --\n",
      "|    └─Conv2d: 2-27                      [-1, 512, 14, 14]         (2,359,808)\n",
      "|    └─ReLU: 2-28                        [-1, 512, 14, 14]         --\n",
      "|    └─Conv2d: 2-29                      [-1, 512, 14, 14]         (2,359,808)\n",
      "|    └─ReLU: 2-30                        [-1, 512, 14, 14]         --\n",
      "|    └─MaxPool2d: 2-31                   [-1, 512, 7, 7]           --\n",
      "├─Sequential: 1-2                        [-1, 50, 8, 8]            --\n",
      "|    └─Conv2d: 2-32                      [-1, 512, 7, 7]           2,359,808\n",
      "|    └─ReLU: 2-33                        [-1, 512, 7, 7]           --\n",
      "|    └─MaxPool2d: 2-34                   [-1, 512, 3, 3]           --\n",
      "|    └─Conv2d: 2-35                      [-1, 50, 3, 3]            230,450\n",
      "|    └─ReLU: 2-36                        [-1, 50, 3, 3]            --\n",
      "|    └─MaxPool2d: 2-37                   [-1, 50, 1, 1]            --\n",
      "|    └─AdaptiveAvgPool2d: 2-38           [-1, 50, 8, 8]            --\n",
      "├─Sequential: 1-3                        [-1, 136]                 --\n",
      "|    └─Linear: 2-39                      [-1, 300]                 960,300\n",
      "|    └─ReLU: 2-40                        [-1, 300]                 --\n",
      "|    └─Dropout: 2-41                     [-1, 300]                 --\n",
      "|    └─Linear: 2-42                      [-1, 136]                 40,936\n",
      "|    └─Sigmoid: 2-43                     [-1, 136]                 --\n",
      "==========================================================================================\n",
      "Total params: 18,306,182\n",
      "Trainable params: 3,591,494\n",
      "Non-trainable params: 14,714,688\n",
      "Total mult-adds (G): 15.48\n",
      "==========================================================================================\n",
      "Input size (MB): 0.57\n",
      "Forward/backward pass size (MB): 103.56\n",
      "Params size (MB): 69.83\n",
      "Estimated Total Size (MB): 173.96\n",
      "==========================================================================================\n"
     ]
    },
    {
     "data": {
      "text/plain": [
       "==========================================================================================\n",
       "Layer (type:depth-idx)                   Output Shape              Param #\n",
       "==========================================================================================\n",
       "├─Sequential: 1-1                        [-1, 512, 7, 7]           --\n",
       "|    └─Conv2d: 2-1                       [-1, 64, 224, 224]        (1,792)\n",
       "|    └─ReLU: 2-2                         [-1, 64, 224, 224]        --\n",
       "|    └─Conv2d: 2-3                       [-1, 64, 224, 224]        (36,928)\n",
       "|    └─ReLU: 2-4                         [-1, 64, 224, 224]        --\n",
       "|    └─MaxPool2d: 2-5                    [-1, 64, 112, 112]        --\n",
       "|    └─Conv2d: 2-6                       [-1, 128, 112, 112]       (73,856)\n",
       "|    └─ReLU: 2-7                         [-1, 128, 112, 112]       --\n",
       "|    └─Conv2d: 2-8                       [-1, 128, 112, 112]       (147,584)\n",
       "|    └─ReLU: 2-9                         [-1, 128, 112, 112]       --\n",
       "|    └─MaxPool2d: 2-10                   [-1, 128, 56, 56]         --\n",
       "|    └─Conv2d: 2-11                      [-1, 256, 56, 56]         (295,168)\n",
       "|    └─ReLU: 2-12                        [-1, 256, 56, 56]         --\n",
       "|    └─Conv2d: 2-13                      [-1, 256, 56, 56]         (590,080)\n",
       "|    └─ReLU: 2-14                        [-1, 256, 56, 56]         --\n",
       "|    └─Conv2d: 2-15                      [-1, 256, 56, 56]         (590,080)\n",
       "|    └─ReLU: 2-16                        [-1, 256, 56, 56]         --\n",
       "|    └─MaxPool2d: 2-17                   [-1, 256, 28, 28]         --\n",
       "|    └─Conv2d: 2-18                      [-1, 512, 28, 28]         (1,180,160)\n",
       "|    └─ReLU: 2-19                        [-1, 512, 28, 28]         --\n",
       "|    └─Conv2d: 2-20                      [-1, 512, 28, 28]         (2,359,808)\n",
       "|    └─ReLU: 2-21                        [-1, 512, 28, 28]         --\n",
       "|    └─Conv2d: 2-22                      [-1, 512, 28, 28]         (2,359,808)\n",
       "|    └─ReLU: 2-23                        [-1, 512, 28, 28]         --\n",
       "|    └─MaxPool2d: 2-24                   [-1, 512, 14, 14]         --\n",
       "|    └─Conv2d: 2-25                      [-1, 512, 14, 14]         (2,359,808)\n",
       "|    └─ReLU: 2-26                        [-1, 512, 14, 14]         --\n",
       "|    └─Conv2d: 2-27                      [-1, 512, 14, 14]         (2,359,808)\n",
       "|    └─ReLU: 2-28                        [-1, 512, 14, 14]         --\n",
       "|    └─Conv2d: 2-29                      [-1, 512, 14, 14]         (2,359,808)\n",
       "|    └─ReLU: 2-30                        [-1, 512, 14, 14]         --\n",
       "|    └─MaxPool2d: 2-31                   [-1, 512, 7, 7]           --\n",
       "├─Sequential: 1-2                        [-1, 50, 8, 8]            --\n",
       "|    └─Conv2d: 2-32                      [-1, 512, 7, 7]           2,359,808\n",
       "|    └─ReLU: 2-33                        [-1, 512, 7, 7]           --\n",
       "|    └─MaxPool2d: 2-34                   [-1, 512, 3, 3]           --\n",
       "|    └─Conv2d: 2-35                      [-1, 50, 3, 3]            230,450\n",
       "|    └─ReLU: 2-36                        [-1, 50, 3, 3]            --\n",
       "|    └─MaxPool2d: 2-37                   [-1, 50, 1, 1]            --\n",
       "|    └─AdaptiveAvgPool2d: 2-38           [-1, 50, 8, 8]            --\n",
       "├─Sequential: 1-3                        [-1, 136]                 --\n",
       "|    └─Linear: 2-39                      [-1, 300]                 960,300\n",
       "|    └─ReLU: 2-40                        [-1, 300]                 --\n",
       "|    └─Dropout: 2-41                     [-1, 300]                 --\n",
       "|    └─Linear: 2-42                      [-1, 136]                 40,936\n",
       "|    └─Sigmoid: 2-43                     [-1, 136]                 --\n",
       "==========================================================================================\n",
       "Total params: 18,306,182\n",
       "Trainable params: 3,591,494\n",
       "Non-trainable params: 14,714,688\n",
       "Total mult-adds (G): 15.48\n",
       "==========================================================================================\n",
       "Input size (MB): 0.57\n",
       "Forward/backward pass size (MB): 103.56\n",
       "Params size (MB): 69.83\n",
       "Estimated Total Size (MB): 173.96\n",
       "=========================================================================================="
      ]
     },
     "execution_count": 59,
     "metadata": {},
     "output_type": "execute_result"
    }
   ],
   "source": [
    "summary(model, torch.rand(1,3,224,224))"
   ]
  },
  {
   "cell_type": "markdown",
   "metadata": {
    "id": "1tedcjtxl6kK"
   },
   "source": [
    "## model has 3.5M parametes "
   ]
  },
  {
   "cell_type": "code",
   "execution_count": 60,
   "metadata": {
    "execution": {
     "iopub.execute_input": "2021-12-14T08:05:06.068248Z",
     "iopub.status.busy": "2021-12-14T08:05:06.067784Z",
     "iopub.status.idle": "2021-12-14T08:05:06.074789Z",
     "shell.execute_reply": "2021-12-14T08:05:06.074092Z",
     "shell.execute_reply.started": "2021-12-14T08:05:06.068203Z"
    },
    "executionInfo": {
     "elapsed": 499,
     "status": "ok",
     "timestamp": 1639467198654,
     "user": {
      "displayName": "JAGADEESHA R G",
      "photoUrl": "https://lh3.googleusercontent.com/a-/AOh14GgwPd8QKJ3EmqLtAngBJU4STxuSbAigY5iPa3g3NA=s64",
      "userId": "15957991412628301278"
     },
     "user_tz": -330
    },
    "id": "0aCiug4ym-Nf"
   },
   "outputs": [],
   "source": [
    "# getting the optimizer and loss_function \n",
    "\n",
    "def get_essentials():\n",
    "  loss_fun = nn.L1Loss()\n",
    "  optimizer = torch.optim.Adam(model.parameters(), lr=0.0001)\n",
    "  return loss_fun, optimizer"
   ]
  },
  {
   "cell_type": "code",
   "execution_count": 61,
   "metadata": {
    "execution": {
     "iopub.execute_input": "2021-12-14T08:05:06.076833Z",
     "iopub.status.busy": "2021-12-14T08:05:06.076388Z",
     "iopub.status.idle": "2021-12-14T08:05:06.308306Z",
     "shell.execute_reply": "2021-12-14T08:05:06.307258Z",
     "shell.execute_reply.started": "2021-12-14T08:05:06.076795Z"
    },
    "executionInfo": {
     "elapsed": 2,
     "status": "ok",
     "timestamp": 1639467198655,
     "user": {
      "displayName": "JAGADEESHA R G",
      "photoUrl": "https://lh3.googleusercontent.com/a-/AOh14GgwPd8QKJ3EmqLtAngBJU4STxuSbAigY5iPa3g3NA=s64",
      "userId": "15957991412628301278"
     },
     "user_tz": -330
    },
    "id": "zlzfaUSGfiH7"
   },
   "outputs": [],
   "source": [
    "# defining batch_train and accuracy functions\n",
    "\n",
    "\n",
    "def train_batch(data, model, loss_fun, optimizer):\n",
    "  model.train()\n",
    "  img, true_points = data\n",
    "  pred_points = model(img)\n",
    "  loss_val = loss_fun(pred_points, true_points)\n",
    "  loss_val.backward()\n",
    "  optimizer.step()\n",
    "  optimizer.zero_grad()\n",
    "  return loss_val.item()\n",
    "\n",
    "@torch.no_grad()\n",
    "def val_batch(data, model, loss_fun, optimizer):\n",
    "  model.eval()\n",
    "  img, true_points = data\n",
    "  pred_points = model(img)\n",
    "  loss_val = loss_fun(pred_points, true_points)\n",
    "  return loss_val.item()\n",
    "\n"
   ]
  },
  {
   "cell_type": "code",
   "execution_count": 62,
   "metadata": {
    "execution": {
     "iopub.execute_input": "2021-12-14T08:05:06.310375Z",
     "iopub.status.busy": "2021-12-14T08:05:06.31008Z",
     "iopub.status.idle": "2021-12-14T08:05:06.318969Z",
     "shell.execute_reply": "2021-12-14T08:05:06.318141Z",
     "shell.execute_reply.started": "2021-12-14T08:05:06.310335Z"
    },
    "executionInfo": {
     "elapsed": 4,
     "status": "ok",
     "timestamp": 1639467199310,
     "user": {
      "displayName": "JAGADEESHA R G",
      "photoUrl": "https://lh3.googleusercontent.com/a-/AOh14GgwPd8QKJ3EmqLtAngBJU4STxuSbAigY5iPa3g3NA=s64",
      "userId": "15957991412628301278"
     },
     "user_tz": -330
    },
    "id": "2KVZ13_nfiKZ"
   },
   "outputs": [],
   "source": [
    "epochs = 2\n",
    "loss_fun, optimizer = get_essentials()\n"
   ]
  },
  {
   "cell_type": "code",
   "execution_count": 63,
   "metadata": {
    "execution": {
     "iopub.execute_input": "2021-12-14T08:05:06.321915Z",
     "iopub.status.busy": "2021-12-14T08:05:06.321211Z",
     "iopub.status.idle": "2021-12-14T08:29:55.001728Z",
     "shell.execute_reply": "2021-12-14T08:29:55.000932Z",
     "shell.execute_reply.started": "2021-12-14T08:05:06.321884Z"
    },
    "executionInfo": {
     "elapsed": 1340719,
     "status": "ok",
     "timestamp": 1639468540724,
     "user": {
      "displayName": "JAGADEESHA R G",
      "photoUrl": "https://lh3.googleusercontent.com/a-/AOh14GgwPd8QKJ3EmqLtAngBJU4STxuSbAigY5iPa3g3NA=s64",
      "userId": "15957991412628301278"
     },
     "user_tz": -330
    },
    "id": "_i2yOnnqfiM9",
    "outputId": "c827a6e4-9b92-4acd-a72c-ad6f2136ebc2"
   },
   "outputs": [
    {
     "name": "stderr",
     "output_type": "stream",
     "text": [
      "100%|█████████████████████████████████████████████| 2/2 [01:10<00:00, 35.04s/it]\n"
     ]
    }
   ],
   "source": [
    "# training and validation loops \n",
    "\n",
    "\n",
    "train_epoch, val_epoch = [], []\n",
    "for epoch in tqdm(range(epochs)):\n",
    "  train_batch_losses, val_batch_losses = [], []\n",
    "  for data in train_dataloader:\n",
    "    train_batch_loss = train_batch(data, model, loss_fun, optimizer)\n",
    "    train_batch_losses.append(train_batch_loss)\n",
    "  for data in test_dataloader:\n",
    "    val_batch_loss = val_batch(data, model, loss_fun, optimizer)\n",
    "    val_batch_losses.append(val_batch_loss)\n",
    "  train_epoch.append(np.mean(train_batch_losses))\n",
    "  val_epoch.append(np.mean(val_batch_losses))\n",
    "  \n"
   ]
  },
  {
   "cell_type": "code",
   "execution_count": 64,
   "metadata": {
    "execution": {
     "iopub.execute_input": "2021-12-14T08:29:55.003966Z",
     "iopub.status.busy": "2021-12-14T08:29:55.003427Z",
     "iopub.status.idle": "2021-12-14T08:29:55.190772Z",
     "shell.execute_reply": "2021-12-14T08:29:55.190069Z",
     "shell.execute_reply.started": "2021-12-14T08:29:55.003926Z"
    },
    "executionInfo": {
     "elapsed": 884,
     "status": "ok",
     "timestamp": 1639468545050,
     "user": {
      "displayName": "JAGADEESHA R G",
      "photoUrl": "https://lh3.googleusercontent.com/a-/AOh14GgwPd8QKJ3EmqLtAngBJU4STxuSbAigY5iPa3g3NA=s64",
      "userId": "15957991412628301278"
     },
     "user_tz": -330
    },
    "id": "o0LJo7ELfiPx",
    "outputId": "b57f0923-0f47-4ee1-cdf9-f621c6378301"
   },
   "outputs": [
    {
     "data": {
      "image/png": "[encoded data removed]",
      "text/plain": [
       "<Figure size 640x480 with 1 Axes>"
      ]
     },
     "metadata": {},
     "output_type": "display_data"
    }
   ],
   "source": [
    "plt.plot(range(epochs), train_epoch, label=\"train_loss\")\n",
    "plt.plot(range(epochs), val_epoch, label=\"test_loss\")\n",
    "plt.legend()\n",
    "plt.xlabel(\"Epochs\")\n",
    "plt.ylabel(\"Loss\")\n",
    "plt.title(\"Training Facial Keypoints model\")\n",
    "plt.show()"
   ]
  },
  {
   "cell_type": "markdown",
   "metadata": {
    "id": "fHGoRTew2cGT"
   },
   "source": [
    "### model has trained "
   ]
  },
  {
   "cell_type": "code",
   "execution_count": 68,
   "metadata": {
    "execution": {
     "iopub.execute_input": "2021-12-14T08:29:55.192415Z",
     "iopub.status.busy": "2021-12-14T08:29:55.192171Z",
     "iopub.status.idle": "2021-12-14T08:29:55.480934Z",
     "shell.execute_reply": "2021-12-14T08:29:55.480269Z",
     "shell.execute_reply.started": "2021-12-14T08:29:55.19238Z"
    },
    "executionInfo": {
     "elapsed": 1087,
     "status": "ok",
     "timestamp": 1639468800900,
     "user": {
      "displayName": "JAGADEESHA R G",
      "photoUrl": "https://lh3.googleusercontent.com/a-/AOh14GgwPd8QKJ3EmqLtAngBJU4STxuSbAigY5iPa3g3NA=s64",
      "userId": "15957991412628301278"
     },
     "user_tz": -330
    },
    "id": "1jrhy4msvXra",
    "outputId": "57fafd1b-d73d-4061-aa60-71890cd0444b"
   },
   "outputs": [
    {
     "data": {
      "image/png": "[encoded data removed]",
      "text/plain": [
       "<Figure size 640x480 with 2 Axes>"
      ]
     },
     "metadata": {},
     "output_type": "display_data"
    }
   ],
   "source": [
    "# Displaying the results\n",
    "\n",
    "index = 6\n",
    "test_img, points = test_dataset[index]\n",
    "Facial_key_points = model(test_img[None]).flatten().detach().cpu()\n",
    "plt.subplot(121)\n",
    "plt.title(\"Image\")\n",
    "img = test_dataset.load_img(index)\n",
    "img = img[:,:,::-1]                                                              \n",
    "plt.imshow(img)\n",
    "plt.subplot(122)\n",
    "plt.title(\" Image with Keypoints \")\n",
    "plt.imshow(img)\n",
    "plt.scatter(Facial_key_points[:68]*img.shape[1], Facial_key_points[68:]*img.shape[0])                          # scaling the keypoints with image dimension\n",
    "plt.show()"
   ]
  },
  {
   "cell_type": "markdown",
   "metadata": {
    "id": "S07p64X19Ml1"
   },
   "source": [
    "## models performance is very good "
   ]
  },
  {
   "cell_type": "code",
   "execution_count": null,
   "metadata": {},
   "outputs": [],
   "source": []
  }
 ],
 "metadata": {
  "kernelspec": {
   "display_name": ".Keypoint_detection_notebooks",
   "language": "python",
   "name": ".keypoint_detection_notebooks"
  },
  "language_info": {
   "codemirror_mode": {
    "name": "ipython",
    "version": 3
   },
   "file_extension": ".py",
   "mimetype": "text/x-python",
   "name": "python",
   "nbconvert_exporter": "python",
   "pygments_lexer": "ipython3",
   "version": "3.8.10"
  }
 },
 "nbformat": 4,
 "nbformat_minor": 4
}
