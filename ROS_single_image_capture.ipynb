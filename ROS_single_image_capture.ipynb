{
 "cells": [
  {
   "cell_type": "code",
   "execution_count": null,
   "id": "f3c15c06",
   "metadata": {
    "scrolled": true
   },
   "outputs": [],
   "source": [
    "import rospy\n",
    "from sensor_msgs.msg import Image\n",
    "from cv_bridge import CvBridge\n",
    "import cv2\n",
    "import os\n",
    "import numpy as np\n",
    "import matplotlib.pyplot as plt\n",
    "from std_msgs.msg import Float64\n",
    "from dynamixel_sdk import *"
   ]
  },
  {
   "cell_type": "code",
   "execution_count": null,
   "id": "2697bc73",
   "metadata": {},
   "outputs": [],
   "source": [
    "class Nodo(object):\n",
    "    def __init__(self):\n",
    "        # Params\n",
    "        self.image = None\n",
    "        self.br = CvBridge()\n",
    "        # Node cycle rate (in Hz).\n",
    "        self.loop_rate = rospy.Rate(0.5)\n",
    "\n",
    "        # Publishers\n",
    "        self.pub = rospy.Publisher('number_command', Float64, queue_size=10)\n",
    "\n",
    "        # Subscribers\n",
    "        rospy.Subscriber(\"/image_capture\",Image,self.callback)\n",
    "\n",
    "    def callback(self, msg):\n",
    "#         rospy.loginfo('Image received...')\n",
    "        self.image = self.br.imgmsg_to_cv2(msg)\n",
    "        plt.imshow(self.image)\n",
    "        plt.show()\n",
    "\n",
    "    def start(self):\n",
    "        rospy.loginfo(\"Timing images\")\n",
    "#         rospy.spin()\n",
    "        while not rospy.is_shutdown():\n",
    "            rospy.loginfo('Looping...')\n",
    "            \n",
    "            if input() == '1':\n",
    "                rospy.loginfo('publishing number')\n",
    "                self.pub.publish(5201314)\n",
    "\n",
    "            self.loop_rate.sleep()\n",
    "\n",
    "if __name__ == '__main__':\n",
    "    rospy.init_node(\"command_publisher\", anonymous=True)\n",
    "    my_node = Nodo()\n",
    "    my_node.start()"
   ]
  }
 ],
 "metadata": {
  "kernelspec": {
   "display_name": ".Keypoint_detection_notebooks",
   "language": "python",
   "name": ".keypoint_detection_notebooks"
  },
  "language_info": {
   "codemirror_mode": {
    "name": "ipython",
    "version": 3
   },
   "file_extension": ".py",
   "mimetype": "text/x-python",
   "name": "python",
   "nbconvert_exporter": "python",
   "pygments_lexer": "ipython3",
   "version": "3.8.10"
  }
 },
 "nbformat": 4,
 "nbformat_minor": 5
}
