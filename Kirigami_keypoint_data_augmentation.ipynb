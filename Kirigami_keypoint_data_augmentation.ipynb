{
 "cells": [
  {
   "cell_type": "code",
   "execution_count": null,
   "id": "8cbb8b46",
   "metadata": {},
   "outputs": [],
   "source": [
    "# importing relevant packages \n",
    "\n",
    "import torch \n",
    "from torchvision import models\n",
    "import pandas as pd\n",
    "import torch.optim as optim\n",
    "from torch.utils.data import Dataset, DataLoader\n",
    "import torch.nn as nn \n",
    "import glob\n",
    "import os\n",
    "import cv2\n",
    "import matplotlib.pyplot as plt \n",
    "import torchvision.transforms as transforms\n",
    "from torchsummary import summary\n",
    "from sklearn.model_selection import train_test_split\n",
    "import numpy as np\n",
    "from tqdm import tqdm\n",
    "import json"
   ]
  },
  {
   "cell_type": "code",
   "execution_count": null,
   "id": "205c2408",
   "metadata": {},
   "outputs": [],
   "source": [
    "device = 'cuda' if torch.cuda.is_available() else 'cpu'"
   ]
  },
  {
   "cell_type": "code",
   "execution_count": null,
   "id": "1f209ce7",
   "metadata": {
    "scrolled": true
   },
   "outputs": [],
   "source": [
    "# for i in range(17):\n",
    "#     print('\\'p'+str(i)+'_x\\', ', end ='')\n",
    "#     print('\\'p'+str(i)+'_y\\', ', end ='')\n",
    "\n",
    "# for i in range(17):\n",
    "#     print('p'+str(i)+'_x_arr = []')\n",
    "#     print('p'+str(i)+'_y_arr = []')"
   ]
  },
  {
   "cell_type": "code",
   "execution_count": null,
   "id": "9de9df40",
   "metadata": {
    "scrolled": true
   },
   "outputs": [],
   "source": [
    "header = ['image_name', 'p1_x', 'p1_y', 'p2_x', 'p2_y', 'p3_x', 'p3_y', 'p4_x', 'p4_y', 'p5_x', 'p5_y', 'p6_x', 'p6_y', 'p7_x', 'p7_y', 'p8_x', 'p8_y', 'p9_x', 'p9_y', 'p10_x', 'p10_y', 'p11_x', 'p11_y', 'p12_x', 'p12_y', 'p13_x', 'p13_y', 'p14_x', 'p14_y', 'p15_x', 'p15_y', 'p16_x', 'p16_y']\n",
    "image_data = []\n",
    "image_name_arr = []\n",
    "p1_x_arr = []\n",
    "p1_y_arr = []\n",
    "p2_x_arr = []\n",
    "p2_y_arr = []\n",
    "p3_x_arr = []\n",
    "p3_y_arr = []\n",
    "p4_x_arr = []\n",
    "p4_y_arr = []\n",
    "p5_x_arr = []\n",
    "p5_y_arr = []\n",
    "p6_x_arr = []\n",
    "p6_y_arr = []\n",
    "p7_x_arr = []\n",
    "p7_y_arr = []\n",
    "p8_x_arr = []\n",
    "p8_y_arr = []\n",
    "p9_x_arr = []\n",
    "p9_y_arr = []\n",
    "p10_x_arr = []\n",
    "p10_y_arr = []\n",
    "p11_x_arr = []\n",
    "p11_y_arr = []\n",
    "p12_x_arr = []\n",
    "p12_y_arr = []\n",
    "p13_x_arr = []\n",
    "p13_y_arr = []\n",
    "p14_x_arr = []\n",
    "p14_y_arr = []\n",
    "p15_x_arr = []\n",
    "p15_y_arr = []\n",
    "p16_x_arr = []\n",
    "p16_y_arr = []\n",
    "\n",
    "\n",
    "with open('./Kirigami_dataset_7/Kirigami_dataset_7.json', 'r') as f:\n",
    "    images = json.load(f)\n",
    "    \n",
    "    for image in images:\n",
    "        print(image['data']['img'][-13:])\n",
    "        image_name_arr.append(image['data']['img'][-13:])  # image_name\n",
    "        p1_x_arr.append(image['annotations'][0]['result'][0]['value']['x'] / 100)\n",
    "        p1_y_arr.append(image['annotations'][0]['result'][0]['value']['y'] / 100)\n",
    "        p2_x_arr.append(image['annotations'][0]['result'][1]['value']['x'] / 100)\n",
    "        p2_y_arr.append(image['annotations'][0]['result'][1]['value']['y'] / 100)\n",
    "        p3_x_arr.append(image['annotations'][0]['result'][2]['value']['x'] / 100)\n",
    "        p3_y_arr.append(image['annotations'][0]['result'][2]['value']['y'] / 100)\n",
    "        p4_x_arr.append(image['annotations'][0]['result'][3]['value']['x'] / 100)\n",
    "        p4_y_arr.append(image['annotations'][0]['result'][3]['value']['y'] / 100)\n",
    "        p5_x_arr.append(image['annotations'][0]['result'][4]['value']['x'] / 100)\n",
    "        p5_y_arr.append(image['annotations'][0]['result'][4]['value']['y'] / 100)\n",
    "        p6_x_arr.append(image['annotations'][0]['result'][5]['value']['x'] / 100)\n",
    "        p6_y_arr.append(image['annotations'][0]['result'][5]['value']['y'] / 100)\n",
    "        p7_x_arr.append(image['annotations'][0]['result'][6]['value']['x'] / 100)\n",
    "        p7_y_arr.append(image['annotations'][0]['result'][6]['value']['y'] / 100)\n",
    "        p8_x_arr.append(image['annotations'][0]['result'][7]['value']['x'] / 100)\n",
    "        p8_y_arr.append(image['annotations'][0]['result'][7]['value']['y'] / 100)\n",
    "        p9_x_arr.append(image['annotations'][0]['result'][8]['value']['x'] / 100)\n",
    "        p9_y_arr.append(image['annotations'][0]['result'][8]['value']['y'] / 100)\n",
    "        p10_x_arr.append(image['annotations'][0]['result'][9]['value']['x'] / 100)\n",
    "        p10_y_arr.append(image['annotations'][0]['result'][9]['value']['y'] / 100)\n",
    "        p11_x_arr.append(image['annotations'][0]['result'][10]['value']['x'] / 100)\n",
    "        p11_y_arr.append(image['annotations'][0]['result'][10]['value']['y'] / 100)\n",
    "        p12_x_arr.append(image['annotations'][0]['result'][11]['value']['x'] / 100)\n",
    "        p12_y_arr.append(image['annotations'][0]['result'][11]['value']['y'] / 100)\n",
    "        p13_x_arr.append(image['annotations'][0]['result'][12]['value']['x'] / 100)\n",
    "        p13_y_arr.append(image['annotations'][0]['result'][12]['value']['y'] / 100)\n",
    "        p14_x_arr.append(image['annotations'][0]['result'][13]['value']['x'] / 100)\n",
    "        p14_y_arr.append(image['annotations'][0]['result'][13]['value']['y'] / 100)\n",
    "        p15_x_arr.append(image['annotations'][0]['result'][14]['value']['x'] / 100)\n",
    "        p15_y_arr.append(image['annotations'][0]['result'][14]['value']['y'] / 100)\n",
    "        p16_x_arr.append(image['annotations'][0]['result'][15]['value']['x'] / 100)\n",
    "        p16_y_arr.append(image['annotations'][0]['result'][15]['value']['y'] / 100)     \n",
    "        \n",
    "\n",
    "image_data = pd.concat([pd.Series(image_name_arr), pd.Series(p1_x_arr), pd.Series(p1_y_arr), pd.Series(p2_x_arr), pd.Series(p2_y_arr), pd.Series(p3_x_arr), pd.Series(p3_y_arr), pd.Series(p4_x_arr), pd.Series(p4_y_arr), pd.Series(p5_x_arr), pd.Series(p5_y_arr), pd.Series(p6_x_arr), pd.Series(p6_y_arr), pd.Series(p7_x_arr), pd.Series(p7_y_arr), pd.Series(p8_x_arr), pd.Series(p8_y_arr), pd.Series(p9_x_arr), pd.Series(p9_y_arr), pd.Series(p10_x_arr), pd.Series(p10_y_arr), pd.Series(p11_x_arr), pd.Series(p11_y_arr), pd.Series(p12_x_arr), pd.Series(p12_y_arr), pd.Series(p13_x_arr), pd.Series(p13_y_arr), pd.Series(p14_x_arr), pd.Series(p14_y_arr), pd.Series(p15_x_arr), pd.Series(p15_y_arr), pd.Series(p16_x_arr), pd.Series(p16_y_arr)], axis=1, keys=header)\n",
    "print(image_data.shape)\n",
    "print(image_data.head(3))\n",
    "print(image_data.iloc[10])\n"
   ]
  },
  {
   "cell_type": "code",
   "execution_count": null,
   "id": "91201f85",
   "metadata": {},
   "outputs": [],
   "source": [
    "# image_data.to_csv('./Kirigami_dataset_3/Kirigami_dataset_3.csv', index=False)\n",
    "image_data.to_csv('./Kirigami_dataset_7/Kirigami_dataset_7.csv', index=False)"
   ]
  },
  {
   "cell_type": "code",
   "execution_count": null,
   "id": "52d98581",
   "metadata": {
    "scrolled": true
   },
   "outputs": [],
   "source": [
    "import random\n",
    "import albumentations as A"
   ]
  },
  {
   "cell_type": "code",
   "execution_count": null,
   "id": "17a57444",
   "metadata": {},
   "outputs": [],
   "source": [
    "# Define a function to visualize keypoints on an image\n",
    "\n",
    "KEYPOINT_COLOR = (0, 255, 0) # Green\n",
    "\n",
    "def vis_keypoints(image, keypoints, color=KEYPOINT_COLOR, diameter=15):\n",
    "    image = image.copy()\n",
    "\n",
    "    for (x, y) in keypoints:\n",
    "        cv2.circle(image, (int(x), int(y)), diameter, (0, 255, 0), -1)\n",
    "        \n",
    "    plt.figure(figsize=(8, 8))\n",
    "    plt.axis('off')\n",
    "    plt.imshow(image)"
   ]
  },
  {
   "cell_type": "code",
   "execution_count": null,
   "id": "e8efdd61",
   "metadata": {},
   "outputs": [],
   "source": [
    "current_dir = os. getcwd()\n",
    "images_dir = os.path.join(current_dir, 'Kirigami_dataset_7')\n",
    "\n",
    "test_image = cv2.imread(os.path.join(images_dir, image_data.iloc[11]['image_name']))\n",
    "x_points = image_data.iloc[11][1:][::2]*test_image.shape[1]\n",
    "y_points = image_data.iloc[11][2:][::2]*test_image.shape[0]\n",
    "\n",
    "\n"
   ]
  },
  {
   "cell_type": "code",
   "execution_count": null,
   "id": "5359795a",
   "metadata": {
    "scrolled": true
   },
   "outputs": [],
   "source": [
    "plt.imshow(test_image)\n",
    "list(zip(x_points,y_points))\n",
    "plt.scatter(x_points, y_points)"
   ]
  },
  {
   "cell_type": "code",
   "execution_count": null,
   "id": "e7b3d2ed",
   "metadata": {
    "scrolled": false
   },
   "outputs": [],
   "source": [
    "test_keypoints = list(zip(x_points,y_points))"
   ]
  },
  {
   "cell_type": "code",
   "execution_count": null,
   "id": "7760dd9b",
   "metadata": {},
   "outputs": [],
   "source": [
    "test_keypoints"
   ]
  },
  {
   "cell_type": "code",
   "execution_count": null,
   "id": "458abadc",
   "metadata": {},
   "outputs": [],
   "source": [
    "vis_keypoints(test_image, test_keypoints, color=KEYPOINT_COLOR, diameter=15)"
   ]
  },
  {
   "cell_type": "code",
   "execution_count": null,
   "id": "fdfcbd2a",
   "metadata": {},
   "outputs": [],
   "source": []
  },
  {
   "cell_type": "code",
   "execution_count": null,
   "id": "7d130b21",
   "metadata": {},
   "outputs": [],
   "source": []
  },
  {
   "cell_type": "code",
   "execution_count": null,
   "id": "c44adf2d",
   "metadata": {},
   "outputs": [],
   "source": []
  },
  {
   "cell_type": "code",
   "execution_count": null,
   "id": "3675ac70",
   "metadata": {},
   "outputs": [],
   "source": []
  },
  {
   "cell_type": "code",
   "execution_count": null,
   "id": "2ca46531",
   "metadata": {},
   "outputs": [],
   "source": []
  },
  {
   "cell_type": "code",
   "execution_count": null,
   "id": "c919d409",
   "metadata": {},
   "outputs": [],
   "source": []
  },
  {
   "cell_type": "code",
   "execution_count": null,
   "id": "58ca29ee",
   "metadata": {},
   "outputs": [],
   "source": []
  },
  {
   "cell_type": "code",
   "execution_count": null,
   "id": "02ad5f7d",
   "metadata": {},
   "outputs": [],
   "source": [
    "transform = A.Compose([\n",
    "    A.Affine(scale=2,p=1)\n",
    "#     A.RandomCrop(width=1330, height=1130),\n",
    "#     A.RandomBrightnessContrast(p=1),\n",
    "], keypoint_params=A.KeypointParams(format='xy'))"
   ]
  },
  {
   "cell_type": "code",
   "execution_count": null,
   "id": "e732113d",
   "metadata": {},
   "outputs": [],
   "source": [
    "transformed = transform(image=test_image, keypoints=test_keypoints)\n",
    "transformed_image = transformed['image']\n",
    "transformed_keypoints = transformed['keypoints']"
   ]
  },
  {
   "cell_type": "code",
   "execution_count": null,
   "id": "240e6fa9",
   "metadata": {},
   "outputs": [],
   "source": [
    "vis_keypoints(transformed_image, transformed_keypoints, color=KEYPOINT_COLOR, diameter=15)"
   ]
  },
  {
   "cell_type": "code",
   "execution_count": null,
   "id": "31941dac",
   "metadata": {},
   "outputs": [],
   "source": [
    "transformed_keypoints"
   ]
  },
  {
   "cell_type": "code",
   "execution_count": null,
   "id": "db81ed4a",
   "metadata": {},
   "outputs": [],
   "source": [
    "current_dir = os. getcwd()\n",
    "images_dir = os.path.join(current_dir, 'Kirigami_dataset_1')"
   ]
  },
  {
   "cell_type": "code",
   "execution_count": null,
   "id": "da77edd9",
   "metadata": {},
   "outputs": [],
   "source": [
    "image_data.iloc[0]['image_name']"
   ]
  },
  {
   "cell_type": "code",
   "execution_count": null,
   "id": "bde35fb3",
   "metadata": {
    "scrolled": true
   },
   "outputs": [],
   "source": [
    "img_arr = cv2.imread(os.path.join(images_dir, image_data.iloc[0]['image_name']))"
   ]
  },
  {
   "cell_type": "code",
   "execution_count": null,
   "id": "a16cdbaa",
   "metadata": {},
   "outputs": [],
   "source": [
    "img_arr.shape"
   ]
  },
  {
   "cell_type": "code",
   "execution_count": null,
   "id": "86e1c305",
   "metadata": {},
   "outputs": [],
   "source": [
    "# img = cv2.resize(img_arr, (224,224))\n",
    "# img_tensor = transforms.ToTensor()(img)\n",
    "# print(img_tensor.shape)\n",
    "# img_mean = img_tensor.mean(dim = (1,2))\n",
    "# img_std = img_tensor.std(dim = (1,2))"
   ]
  },
  {
   "cell_type": "code",
   "execution_count": null,
   "id": "158f31cb",
   "metadata": {
    "scrolled": true
   },
   "outputs": [],
   "source": [
    "plt.imshow(img_arr)\n",
    "x_points = image_data.iloc[0][1:][::2]\n",
    "y_points = image_data.iloc[0][2:][::2]\n",
    "x_width = img_arr.shape[1]\n",
    "y_height = img_arr.shape[0]\n",
    "\n",
    "plt.scatter(x_points*x_width, y_points*y_height)"
   ]
  },
  {
   "cell_type": "code",
   "execution_count": null,
   "id": "bc7a2ffa",
   "metadata": {},
   "outputs": [],
   "source": [
    "class ImageDataset(Dataset):\n",
    "    def __init__(self, df, img_dir):\n",
    "        self.df = df\n",
    "        self.img_dir = img_dir\n",
    "        \n",
    "    def __getitem__(self, idx):\n",
    "        img_path = os.path.join(self.img_dir, self.df.iloc[idx, 0])\n",
    "        image = cv2.imread(img_path)\n",
    "        label = self.df.iloc[idx, 1:]\n",
    "        image = self.transform_image(image)\n",
    "        return image.to(device), torch.tensor(label).to(device)\n",
    "    \n",
    "    def __len__(self):\n",
    "        return self.df.shape[0]\n",
    "    \n",
    "    def transform_image(self, img):\n",
    "        img = cv2.resize(img, (224,224))\n",
    "        img_tensor = transforms.ToTensor()(img)\n",
    "        img_mean = img_tensor.mean(dim = (1,2))\n",
    "        img_std = img_tensor.std(dim = (1,2))\n",
    "        \n",
    "        img_normalised = transforms.Normalize(img_mean, img_std)(img_tensor)\n",
    "        return img_normalised\n",
    "    \n",
    "    def load_img(self, idx):\n",
    "        img_path = os.path.join(self.img_dir, self.df.iloc[idx, 0])\n",
    "        img = cv2.imread(img_path)\n",
    "        return img\n",
    "    "
   ]
  },
  {
   "cell_type": "code",
   "execution_count": null,
   "id": "533fc854",
   "metadata": {},
   "outputs": [],
   "source": [
    "current_dir = os. getcwd()\n",
    "images_dir = os.path.join(current_dir, 'Kirigami_dataset_1')\n",
    "print(images_dir)"
   ]
  },
  {
   "cell_type": "code",
   "execution_count": null,
   "id": "28b6d6e5",
   "metadata": {},
   "outputs": [],
   "source": [
    "train_df, test_df = train_test_split(image_data, test_size=0.04)"
   ]
  },
  {
   "cell_type": "code",
   "execution_count": null,
   "id": "06b12f0c",
   "metadata": {},
   "outputs": [],
   "source": [
    "print(train_df.shape)\n",
    "print(test_df.shape)"
   ]
  },
  {
   "cell_type": "code",
   "execution_count": null,
   "id": "f434fa17",
   "metadata": {},
   "outputs": [],
   "source": [
    "train_dataset = ImageDataset(train_df, images_dir)\n",
    "test_dataset = ImageDataset(test_df, images_dir)"
   ]
  },
  {
   "cell_type": "code",
   "execution_count": null,
   "id": "5d3006c3",
   "metadata": {
    "scrolled": true
   },
   "outputs": [],
   "source": [
    "img = test_dataset.load_img(0)\n",
    "plt.imshow(img)"
   ]
  },
  {
   "cell_type": "code",
   "execution_count": null,
   "id": "98ce2ba5",
   "metadata": {},
   "outputs": [],
   "source": [
    "img_tensor, labels = train_dataset[0]"
   ]
  },
  {
   "cell_type": "code",
   "execution_count": null,
   "id": "a5a0a960",
   "metadata": {},
   "outputs": [],
   "source": [
    "labels"
   ]
  },
  {
   "cell_type": "code",
   "execution_count": null,
   "id": "0d2dba9f",
   "metadata": {
    "scrolled": true
   },
   "outputs": [],
   "source": [
    "img_tensor"
   ]
  },
  {
   "cell_type": "code",
   "execution_count": null,
   "id": "eb7ce37a",
   "metadata": {
    "scrolled": true
   },
   "outputs": [],
   "source": [
    "img_np = img_tensor.cpu().numpy()\n",
    "img_np"
   ]
  },
  {
   "cell_type": "code",
   "execution_count": null,
   "id": "f7b2ac7b",
   "metadata": {
    "scrolled": true
   },
   "outputs": [],
   "source": [
    "print(img_np.shape)\n",
    "img_np_reverted = np.transpose(img_np, (1,2,0))\n",
    "print(img_np_reverted.shape)\n",
    "plt.imshow(img_np_reverted, clim=(-1, 1))"
   ]
  },
  {
   "cell_type": "code",
   "execution_count": null,
   "id": "c02387cd",
   "metadata": {},
   "outputs": [],
   "source": [
    "train_dataloader = DataLoader(train_dataset, batch_size=8, shuffle=True)\n",
    "test_dataloader = DataLoader(test_dataset, batch_size=2, shuffle=True)"
   ]
  },
  {
   "cell_type": "code",
   "execution_count": null,
   "id": "b29521e0",
   "metadata": {},
   "outputs": [],
   "source": [
    "for img, points in train_dataloader:\n",
    "  print(img.shape)\n",
    "  print(points.shape)\n",
    "  break"
   ]
  }
 ],
 "metadata": {
  "kernelspec": {
   "display_name": ".Keypoint_detection_notebooks",
   "language": "python",
   "name": ".keypoint_detection_notebooks"
  },
  "language_info": {
   "codemirror_mode": {
    "name": "ipython",
    "version": 3
   },
   "file_extension": ".py",
   "mimetype": "text/x-python",
   "name": "python",
   "nbconvert_exporter": "python",
   "pygments_lexer": "ipython3",
   "version": "3.8.10"
  }
 },
 "nbformat": 4,
 "nbformat_minor": 5
}
