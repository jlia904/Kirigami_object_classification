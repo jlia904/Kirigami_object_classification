{
 "cells": [
  {
   "cell_type": "code",
   "execution_count": 1,
   "id": "8cbb8b46",
   "metadata": {},
   "outputs": [
    {
     "name": "stderr",
     "output_type": "stream",
     "text": [
      "/home/dell/Desktop/xxxx/Uni/Kirigami_project/Keypoint_detection_notebooks/.Keypoint_detection_notebooks/lib/python3.8/site-packages/requests/__init__.py:102: RequestsDependencyWarning: urllib3 (1.26.14) or chardet (5.1.0)/charset_normalizer (2.0.12) doesn't match a supported version!\n",
      "  warnings.warn(\"urllib3 ({}) or chardet ({})/charset_normalizer ({}) doesn't match a supported \"\n"
     ]
    }
   ],
   "source": [
    "# importing relevant packages \n",
    "\n",
    "import torch \n",
    "from torchvision import models\n",
    "import pandas as pd\n",
    "import torch.optim as optim\n",
    "from torch.utils.data import Dataset, DataLoader\n",
    "import torch.nn as nn \n",
    "import glob\n",
    "import os\n",
    "import cv2\n",
    "import matplotlib.pyplot as plt \n",
    "import torchvision.transforms as transforms\n",
    "from torchsummary import summary\n",
    "from sklearn.model_selection import train_test_split\n",
    "import numpy as np\n",
    "from tqdm import tqdm\n",
    "import json"
   ]
  },
  {
   "cell_type": "code",
   "execution_count": 2,
   "id": "205c2408",
   "metadata": {},
   "outputs": [],
   "source": [
    "device = 'cuda' if torch.cuda.is_available() else 'cpu'"
   ]
  },
  {
   "cell_type": "code",
   "execution_count": 3,
   "id": "1f209ce7",
   "metadata": {
    "scrolled": true
   },
   "outputs": [],
   "source": [
    "# for i in range(17):\n",
    "#     print('\\'p'+str(i)+'_x\\', ', end ='')\n",
    "#     print('\\'p'+str(i)+'_y\\', ', end ='')\n",
    "\n",
    "# for i in range(17):\n",
    "#     print('p'+str(i)+'_x_arr = []')\n",
    "#     print('p'+str(i)+'_y_arr = []')"
   ]
  },
  {
   "cell_type": "code",
   "execution_count": 4,
   "id": "9de9df40",
   "metadata": {
    "scrolled": true
   },
   "outputs": [
    {
     "name": "stdout",
     "output_type": "stream",
     "text": [
      "image0360.jpg\n",
      "image0361.jpg\n",
      "image0362.jpg\n",
      "image0363.jpg\n",
      "image0364.jpg\n",
      "image0365.jpg\n",
      "image0366.jpg\n",
      "image0367.jpg\n",
      "image0368.jpg\n",
      "image0369.jpg\n",
      "image0370.jpg\n",
      "image0371.jpg\n",
      "image0372.jpg\n",
      "image0373.jpg\n",
      "image0374.jpg\n",
      "image0375.jpg\n",
      "image0376.jpg\n",
      "image0377.jpg\n",
      "image0378.jpg\n",
      "image0379.jpg\n",
      "image0380.jpg\n",
      "image0381.jpg\n",
      "image0382.jpg\n",
      "image0383.jpg\n",
      "image0384.jpg\n",
      "image0385.jpg\n",
      "image0386.jpg\n",
      "image0387.jpg\n",
      "image0388.jpg\n",
      "image0389.jpg\n",
      "image0390.jpg\n",
      "image0391.jpg\n",
      "image0392.jpg\n",
      "image0393.jpg\n",
      "image0394.jpg\n",
      "image0395.jpg\n",
      "image0396.jpg\n",
      "image0397.jpg\n",
      "image0398.jpg\n",
      "image0399.jpg\n",
      "image0400.jpg\n",
      "image0401.jpg\n",
      "image0402.jpg\n",
      "image0403.jpg\n",
      "image0404.jpg\n",
      "image0405.jpg\n",
      "image0406.jpg\n",
      "image0407.jpg\n",
      "image0408.jpg\n",
      "image0409.jpg\n",
      "image0410.jpg\n",
      "image0411.jpg\n",
      "image0412.jpg\n",
      "image0413.jpg\n",
      "image0414.jpg\n",
      "image0415.jpg\n",
      "image0416.jpg\n",
      "image0417.jpg\n",
      "image0418.jpg\n",
      "image0419.jpg\n",
      "image0420.jpg\n",
      "image0421.jpg\n",
      "image0422.jpg\n",
      "image0423.jpg\n",
      "image0424.jpg\n",
      "image0425.jpg\n",
      "image0426.jpg\n",
      "image0427.jpg\n",
      "image0428.jpg\n",
      "image0429.jpg\n",
      "image0430.jpg\n",
      "image0431.jpg\n",
      "image0432.jpg\n",
      "image0433.jpg\n",
      "image0434.jpg\n",
      "image0435.jpg\n",
      "image0436.jpg\n",
      "image0437.jpg\n",
      "image0438.jpg\n",
      "image0439.jpg\n",
      "image0440.jpg\n",
      "image0441.jpg\n",
      "image0442.jpg\n",
      "image0443.jpg\n",
      "image0444.jpg\n",
      "image0445.jpg\n",
      "image0446.jpg\n",
      "image0447.jpg\n",
      "image0448.jpg\n",
      "image0449.jpg\n",
      "image0450.jpg\n",
      "image0451.jpg\n",
      "image0452.jpg\n",
      "image0453.jpg\n",
      "image0454.jpg\n",
      "image0455.jpg\n",
      "image0456.jpg\n",
      "image0457.jpg\n",
      "image0458.jpg\n",
      "image0459.jpg\n",
      "image0460.jpg\n",
      "image0461.jpg\n",
      "image0462.jpg\n",
      "image0463.jpg\n",
      "image0464.jpg\n",
      "image0465.jpg\n",
      "image0466.jpg\n",
      "image0467.jpg\n",
      "image0468.jpg\n",
      "image0469.jpg\n",
      "image0470.jpg\n",
      "image0471.jpg\n",
      "image0472.jpg\n",
      "image0473.jpg\n",
      "image0474.jpg\n",
      "image0475.jpg\n",
      "image0476.jpg\n",
      "image0477.jpg\n",
      "image0478.jpg\n",
      "image0479.jpg\n",
      "(120, 33)\n",
      "      image_name      p1_x      p1_y      p2_x      p2_y      p3_x      p3_y  \\\n",
      "0  image0360.jpg  0.074544  0.323467  0.475813  0.085624  0.873910  0.276956   \n",
      "1  image0361.jpg  0.096943  0.334990  0.475019  0.118290  0.856823  0.298211   \n",
      "2  image0362.jpg  0.118568  0.346918  0.478747  0.154076  0.838926  0.310139   \n",
      "\n",
      "       p4_x      p4_y      p5_x  ...     p12_x     p12_y     p13_x     p13_y  \\\n",
      "0  0.884219  0.712474  0.497224  ...  0.563045  0.815011  0.590801  0.662791   \n",
      "1  0.869500  0.684891  0.495153  ...  0.546607  0.799205  0.563013  0.654076   \n",
      "2  0.844892  0.681909  0.495153  ...  0.536167  0.793241  0.544370  0.655070   \n",
      "\n",
      "      p14_x     p14_y     p15_x     p15_y     p16_x     p16_y  \n",
      "0  0.602696  0.523256  0.585250  0.380550  0.549564  0.224101  \n",
      "1  0.571961  0.518887  0.557793  0.382704  0.530947  0.233598  \n",
      "2  0.548844  0.523857  0.536913  0.387674  0.520507  0.244533  \n",
      "\n",
      "[3 rows x 33 columns]\n",
      "image_name    image0370.jpg\n",
      "p1_x               0.169277\n",
      "p1_y               0.378728\n",
      "p2_x               0.465324\n",
      "p2_y               0.212724\n",
      "p3_x               0.760626\n",
      "p3_y               0.352883\n",
      "p4_x               0.777032\n",
      "p4_y                0.66998\n",
      "p5_x               0.504101\n",
      "p5_y               0.893638\n",
      "p6_x               0.175242\n",
      "p6_y               0.761431\n",
      "p7_x               0.457122\n",
      "p7_y               0.274354\n",
      "p8_x                0.46085\n",
      "p8_y               0.411531\n",
      "p9_x                0.46085\n",
      "p9_y               0.537773\n",
      "p10_x              0.469799\n",
      "p10_y              0.661034\n",
      "p11_x               0.48695\n",
      "p11_y              0.792247\n",
      "p12_x              0.506339\n",
      "p12_y              0.812127\n",
      "p13_x               0.49739\n",
      "p13_y               0.67495\n",
      "p14_x              0.494407\n",
      "p14_y              0.553678\n",
      "p15_x              0.480984\n",
      "p15_y              0.427435\n",
      "p16_x              0.474273\n",
      "p16_y              0.290258\n",
      "Name: 10, dtype: object\n"
     ]
    }
   ],
   "source": [
    "header = ['image_name', 'p1_x', 'p1_y', 'p2_x', 'p2_y', 'p3_x', 'p3_y', 'p4_x', 'p4_y', 'p5_x', 'p5_y', 'p6_x', 'p6_y', 'p7_x', 'p7_y', 'p8_x', 'p8_y', 'p9_x', 'p9_y', 'p10_x', 'p10_y', 'p11_x', 'p11_y', 'p12_x', 'p12_y', 'p13_x', 'p13_y', 'p14_x', 'p14_y', 'p15_x', 'p15_y', 'p16_x', 'p16_y']\n",
    "image_data = []\n",
    "image_name_arr = []\n",
    "p1_x_arr = []\n",
    "p1_y_arr = []\n",
    "p2_x_arr = []\n",
    "p2_y_arr = []\n",
    "p3_x_arr = []\n",
    "p3_y_arr = []\n",
    "p4_x_arr = []\n",
    "p4_y_arr = []\n",
    "p5_x_arr = []\n",
    "p5_y_arr = []\n",
    "p6_x_arr = []\n",
    "p6_y_arr = []\n",
    "p7_x_arr = []\n",
    "p7_y_arr = []\n",
    "p8_x_arr = []\n",
    "p8_y_arr = []\n",
    "p9_x_arr = []\n",
    "p9_y_arr = []\n",
    "p10_x_arr = []\n",
    "p10_y_arr = []\n",
    "p11_x_arr = []\n",
    "p11_y_arr = []\n",
    "p12_x_arr = []\n",
    "p12_y_arr = []\n",
    "p13_x_arr = []\n",
    "p13_y_arr = []\n",
    "p14_x_arr = []\n",
    "p14_y_arr = []\n",
    "p15_x_arr = []\n",
    "p15_y_arr = []\n",
    "p16_x_arr = []\n",
    "p16_y_arr = []\n",
    "\n",
    "\n",
    "with open('./Kirigami_dataset_5/Kirigami_dataset_5.json', 'r') as f:\n",
    "    images = json.load(f)\n",
    "    \n",
    "    for image in images:\n",
    "        print(image['data']['img'][-13:])\n",
    "        image_name_arr.append(image['data']['img'][-13:])  # image_name\n",
    "        p1_x_arr.append(image['annotations'][0]['result'][0]['value']['x'] / 100)\n",
    "        p1_y_arr.append(image['annotations'][0]['result'][0]['value']['y'] / 100)\n",
    "        p2_x_arr.append(image['annotations'][0]['result'][1]['value']['x'] / 100)\n",
    "        p2_y_arr.append(image['annotations'][0]['result'][1]['value']['y'] / 100)\n",
    "        p3_x_arr.append(image['annotations'][0]['result'][2]['value']['x'] / 100)\n",
    "        p3_y_arr.append(image['annotations'][0]['result'][2]['value']['y'] / 100)\n",
    "        p4_x_arr.append(image['annotations'][0]['result'][3]['value']['x'] / 100)\n",
    "        p4_y_arr.append(image['annotations'][0]['result'][3]['value']['y'] / 100)\n",
    "        p5_x_arr.append(image['annotations'][0]['result'][4]['value']['x'] / 100)\n",
    "        p5_y_arr.append(image['annotations'][0]['result'][4]['value']['y'] / 100)\n",
    "        p6_x_arr.append(image['annotations'][0]['result'][5]['value']['x'] / 100)\n",
    "        p6_y_arr.append(image['annotations'][0]['result'][5]['value']['y'] / 100)\n",
    "        p7_x_arr.append(image['annotations'][0]['result'][6]['value']['x'] / 100)\n",
    "        p7_y_arr.append(image['annotations'][0]['result'][6]['value']['y'] / 100)\n",
    "        p8_x_arr.append(image['annotations'][0]['result'][7]['value']['x'] / 100)\n",
    "        p8_y_arr.append(image['annotations'][0]['result'][7]['value']['y'] / 100)\n",
    "        p9_x_arr.append(image['annotations'][0]['result'][8]['value']['x'] / 100)\n",
    "        p9_y_arr.append(image['annotations'][0]['result'][8]['value']['y'] / 100)\n",
    "        p10_x_arr.append(image['annotations'][0]['result'][9]['value']['x'] / 100)\n",
    "        p10_y_arr.append(image['annotations'][0]['result'][9]['value']['y'] / 100)\n",
    "        p11_x_arr.append(image['annotations'][0]['result'][10]['value']['x'] / 100)\n",
    "        p11_y_arr.append(image['annotations'][0]['result'][10]['value']['y'] / 100)\n",
    "        p12_x_arr.append(image['annotations'][0]['result'][11]['value']['x'] / 100)\n",
    "        p12_y_arr.append(image['annotations'][0]['result'][11]['value']['y'] / 100)\n",
    "        p13_x_arr.append(image['annotations'][0]['result'][12]['value']['x'] / 100)\n",
    "        p13_y_arr.append(image['annotations'][0]['result'][12]['value']['y'] / 100)\n",
    "        p14_x_arr.append(image['annotations'][0]['result'][13]['value']['x'] / 100)\n",
    "        p14_y_arr.append(image['annotations'][0]['result'][13]['value']['y'] / 100)\n",
    "        p15_x_arr.append(image['annotations'][0]['result'][14]['value']['x'] / 100)\n",
    "        p15_y_arr.append(image['annotations'][0]['result'][14]['value']['y'] / 100)\n",
    "        p16_x_arr.append(image['annotations'][0]['result'][15]['value']['x'] / 100)\n",
    "        p16_y_arr.append(image['annotations'][0]['result'][15]['value']['y'] / 100)     \n",
    "        \n",
    "\n",
    "image_data = pd.concat([pd.Series(image_name_arr), pd.Series(p1_x_arr), pd.Series(p1_y_arr), pd.Series(p2_x_arr), pd.Series(p2_y_arr), pd.Series(p3_x_arr), pd.Series(p3_y_arr), pd.Series(p4_x_arr), pd.Series(p4_y_arr), pd.Series(p5_x_arr), pd.Series(p5_y_arr), pd.Series(p6_x_arr), pd.Series(p6_y_arr), pd.Series(p7_x_arr), pd.Series(p7_y_arr), pd.Series(p8_x_arr), pd.Series(p8_y_arr), pd.Series(p9_x_arr), pd.Series(p9_y_arr), pd.Series(p10_x_arr), pd.Series(p10_y_arr), pd.Series(p11_x_arr), pd.Series(p11_y_arr), pd.Series(p12_x_arr), pd.Series(p12_y_arr), pd.Series(p13_x_arr), pd.Series(p13_y_arr), pd.Series(p14_x_arr), pd.Series(p14_y_arr), pd.Series(p15_x_arr), pd.Series(p15_y_arr), pd.Series(p16_x_arr), pd.Series(p16_y_arr)], axis=1, keys=header)\n",
    "print(image_data.shape)\n",
    "print(image_data.head(3))\n",
    "print(image_data.iloc[10])\n"
   ]
  },
  {
   "cell_type": "code",
   "execution_count": 5,
   "id": "91201f85",
   "metadata": {},
   "outputs": [],
   "source": [
    "# image_data.to_csv('./Kirigami_dataset_3/Kirigami_dataset_3.csv', index=False)\n",
    "image_data.to_csv('./Kirigami_dataset_5/Kirigami_dataset_5.csv', index=False)"
   ]
  },
  {
   "cell_type": "code",
   "execution_count": null,
   "id": "52d98581",
   "metadata": {
    "scrolled": true
   },
   "outputs": [],
   "source": [
    "import random\n",
    "import albumentations as A"
   ]
  },
  {
   "cell_type": "code",
   "execution_count": null,
   "id": "17a57444",
   "metadata": {},
   "outputs": [],
   "source": [
    "# Define a function to visualize keypoints on an image\n",
    "\n",
    "KEYPOINT_COLOR = (0, 255, 0) # Green\n",
    "\n",
    "def vis_keypoints(image, keypoints, color=KEYPOINT_COLOR, diameter=15):\n",
    "    image = image.copy()\n",
    "\n",
    "    for (x, y) in keypoints:\n",
    "        cv2.circle(image, (int(x), int(y)), diameter, (0, 255, 0), -1)\n",
    "        \n",
    "    plt.figure(figsize=(8, 8))\n",
    "    plt.axis('off')\n",
    "    plt.imshow(image)"
   ]
  },
  {
   "cell_type": "code",
   "execution_count": null,
   "id": "e8efdd61",
   "metadata": {},
   "outputs": [],
   "source": [
    "current_dir = os. getcwd()\n",
    "images_dir = os.path.join(current_dir, 'Kirigami_dataset_4')\n",
    "\n",
    "test_image = cv2.imread(os.path.join(images_dir, image_data.iloc[11]['image_name']))\n",
    "x_points = image_data.iloc[11][1:][::2]*test_image.shape[1]\n",
    "y_points = image_data.iloc[11][2:][::2]*test_image.shape[0]\n",
    "\n",
    "\n"
   ]
  },
  {
   "cell_type": "code",
   "execution_count": null,
   "id": "5359795a",
   "metadata": {
    "scrolled": true
   },
   "outputs": [],
   "source": [
    "plt.imshow(test_image)\n",
    "list(zip(x_points,y_points))\n",
    "plt.scatter(x_points, y_points)"
   ]
  },
  {
   "cell_type": "code",
   "execution_count": null,
   "id": "e7b3d2ed",
   "metadata": {
    "scrolled": false
   },
   "outputs": [],
   "source": [
    "test_keypoints = list(zip(x_points,y_points))"
   ]
  },
  {
   "cell_type": "code",
   "execution_count": null,
   "id": "7760dd9b",
   "metadata": {},
   "outputs": [],
   "source": [
    "test_keypoints"
   ]
  },
  {
   "cell_type": "code",
   "execution_count": null,
   "id": "458abadc",
   "metadata": {},
   "outputs": [],
   "source": [
    "vis_keypoints(test_image, test_keypoints, color=KEYPOINT_COLOR, diameter=15)"
   ]
  },
  {
   "cell_type": "code",
   "execution_count": null,
   "id": "fdfcbd2a",
   "metadata": {},
   "outputs": [],
   "source": []
  },
  {
   "cell_type": "code",
   "execution_count": null,
   "id": "7d130b21",
   "metadata": {},
   "outputs": [],
   "source": []
  },
  {
   "cell_type": "code",
   "execution_count": null,
   "id": "c44adf2d",
   "metadata": {},
   "outputs": [],
   "source": []
  },
  {
   "cell_type": "code",
   "execution_count": null,
   "id": "3675ac70",
   "metadata": {},
   "outputs": [],
   "source": []
  },
  {
   "cell_type": "code",
   "execution_count": null,
   "id": "2ca46531",
   "metadata": {},
   "outputs": [],
   "source": []
  },
  {
   "cell_type": "code",
   "execution_count": null,
   "id": "c919d409",
   "metadata": {},
   "outputs": [],
   "source": []
  },
  {
   "cell_type": "code",
   "execution_count": null,
   "id": "58ca29ee",
   "metadata": {},
   "outputs": [],
   "source": []
  },
  {
   "cell_type": "code",
   "execution_count": null,
   "id": "02ad5f7d",
   "metadata": {},
   "outputs": [],
   "source": [
    "transform = A.Compose([\n",
    "    A.Affine(scale=2,p=1)\n",
    "#     A.RandomCrop(width=1330, height=1130),\n",
    "#     A.RandomBrightnessContrast(p=1),\n",
    "], keypoint_params=A.KeypointParams(format='xy'))"
   ]
  },
  {
   "cell_type": "code",
   "execution_count": null,
   "id": "e732113d",
   "metadata": {},
   "outputs": [],
   "source": [
    "transformed = transform(image=test_image, keypoints=test_keypoints)\n",
    "transformed_image = transformed['image']\n",
    "transformed_keypoints = transformed['keypoints']"
   ]
  },
  {
   "cell_type": "code",
   "execution_count": null,
   "id": "240e6fa9",
   "metadata": {},
   "outputs": [],
   "source": [
    "vis_keypoints(transformed_image, transformed_keypoints, color=KEYPOINT_COLOR, diameter=15)"
   ]
  },
  {
   "cell_type": "code",
   "execution_count": null,
   "id": "31941dac",
   "metadata": {},
   "outputs": [],
   "source": [
    "transformed_keypoints"
   ]
  },
  {
   "cell_type": "code",
   "execution_count": null,
   "id": "db81ed4a",
   "metadata": {},
   "outputs": [],
   "source": [
    "current_dir = os. getcwd()\n",
    "images_dir = os.path.join(current_dir, 'Kirigami_dataset_1')"
   ]
  },
  {
   "cell_type": "code",
   "execution_count": null,
   "id": "da77edd9",
   "metadata": {},
   "outputs": [],
   "source": [
    "image_data.iloc[0]['image_name']"
   ]
  },
  {
   "cell_type": "code",
   "execution_count": null,
   "id": "bde35fb3",
   "metadata": {
    "scrolled": true
   },
   "outputs": [],
   "source": [
    "img_arr = cv2.imread(os.path.join(images_dir, image_data.iloc[0]['image_name']))"
   ]
  },
  {
   "cell_type": "code",
   "execution_count": null,
   "id": "a16cdbaa",
   "metadata": {},
   "outputs": [],
   "source": [
    "img_arr.shape"
   ]
  },
  {
   "cell_type": "code",
   "execution_count": null,
   "id": "86e1c305",
   "metadata": {},
   "outputs": [],
   "source": [
    "# img = cv2.resize(img_arr, (224,224))\n",
    "# img_tensor = transforms.ToTensor()(img)\n",
    "# print(img_tensor.shape)\n",
    "# img_mean = img_tensor.mean(dim = (1,2))\n",
    "# img_std = img_tensor.std(dim = (1,2))"
   ]
  },
  {
   "cell_type": "code",
   "execution_count": null,
   "id": "158f31cb",
   "metadata": {
    "scrolled": true
   },
   "outputs": [],
   "source": [
    "plt.imshow(img_arr)\n",
    "x_points = image_data.iloc[0][1:][::2]\n",
    "y_points = image_data.iloc[0][2:][::2]\n",
    "x_width = img_arr.shape[1]\n",
    "y_height = img_arr.shape[0]\n",
    "\n",
    "plt.scatter(x_points*x_width, y_points*y_height)"
   ]
  },
  {
   "cell_type": "code",
   "execution_count": null,
   "id": "bc7a2ffa",
   "metadata": {},
   "outputs": [],
   "source": [
    "class ImageDataset(Dataset):\n",
    "    def __init__(self, df, img_dir):\n",
    "        self.df = df\n",
    "        self.img_dir = img_dir\n",
    "        \n",
    "    def __getitem__(self, idx):\n",
    "        img_path = os.path.join(self.img_dir, self.df.iloc[idx, 0])\n",
    "        image = cv2.imread(img_path)\n",
    "        label = self.df.iloc[idx, 1:]\n",
    "        image = self.transform_image(image)\n",
    "        return image.to(device), torch.tensor(label).to(device)\n",
    "    \n",
    "    def __len__(self):\n",
    "        return self.df.shape[0]\n",
    "    \n",
    "    def transform_image(self, img):\n",
    "        img = cv2.resize(img, (224,224))\n",
    "        img_tensor = transforms.ToTensor()(img)\n",
    "        img_mean = img_tensor.mean(dim = (1,2))\n",
    "        img_std = img_tensor.std(dim = (1,2))\n",
    "        \n",
    "        img_normalised = transforms.Normalize(img_mean, img_std)(img_tensor)\n",
    "        return img_normalised\n",
    "    \n",
    "    def load_img(self, idx):\n",
    "        img_path = os.path.join(self.img_dir, self.df.iloc[idx, 0])\n",
    "        img = cv2.imread(img_path)\n",
    "        return img\n",
    "    "
   ]
  },
  {
   "cell_type": "code",
   "execution_count": null,
   "id": "533fc854",
   "metadata": {},
   "outputs": [],
   "source": [
    "current_dir = os. getcwd()\n",
    "images_dir = os.path.join(current_dir, 'Kirigami_dataset_1')\n",
    "print(images_dir)"
   ]
  },
  {
   "cell_type": "code",
   "execution_count": null,
   "id": "28b6d6e5",
   "metadata": {},
   "outputs": [],
   "source": [
    "train_df, test_df = train_test_split(image_data, test_size=0.04)"
   ]
  },
  {
   "cell_type": "code",
   "execution_count": null,
   "id": "06b12f0c",
   "metadata": {},
   "outputs": [],
   "source": [
    "print(train_df.shape)\n",
    "print(test_df.shape)"
   ]
  },
  {
   "cell_type": "code",
   "execution_count": null,
   "id": "f434fa17",
   "metadata": {},
   "outputs": [],
   "source": [
    "train_dataset = ImageDataset(train_df, images_dir)\n",
    "test_dataset = ImageDataset(test_df, images_dir)"
   ]
  },
  {
   "cell_type": "code",
   "execution_count": null,
   "id": "5d3006c3",
   "metadata": {
    "scrolled": true
   },
   "outputs": [],
   "source": [
    "img = test_dataset.load_img(0)\n",
    "plt.imshow(img)"
   ]
  },
  {
   "cell_type": "code",
   "execution_count": null,
   "id": "98ce2ba5",
   "metadata": {},
   "outputs": [],
   "source": [
    "img_tensor, labels = train_dataset[0]"
   ]
  },
  {
   "cell_type": "code",
   "execution_count": null,
   "id": "a5a0a960",
   "metadata": {},
   "outputs": [],
   "source": [
    "labels"
   ]
  },
  {
   "cell_type": "code",
   "execution_count": null,
   "id": "0d2dba9f",
   "metadata": {
    "scrolled": true
   },
   "outputs": [],
   "source": [
    "img_tensor"
   ]
  },
  {
   "cell_type": "code",
   "execution_count": null,
   "id": "eb7ce37a",
   "metadata": {
    "scrolled": true
   },
   "outputs": [],
   "source": [
    "img_np = img_tensor.cpu().numpy()\n",
    "img_np"
   ]
  },
  {
   "cell_type": "code",
   "execution_count": null,
   "id": "f7b2ac7b",
   "metadata": {
    "scrolled": true
   },
   "outputs": [],
   "source": [
    "print(img_np.shape)\n",
    "img_np_reverted = np.transpose(img_np, (1,2,0))\n",
    "print(img_np_reverted.shape)\n",
    "plt.imshow(img_np_reverted, clim=(-1, 1))"
   ]
  },
  {
   "cell_type": "code",
   "execution_count": null,
   "id": "c02387cd",
   "metadata": {},
   "outputs": [],
   "source": [
    "train_dataloader = DataLoader(train_dataset, batch_size=8, shuffle=True)\n",
    "test_dataloader = DataLoader(test_dataset, batch_size=2, shuffle=True)"
   ]
  },
  {
   "cell_type": "code",
   "execution_count": null,
   "id": "b29521e0",
   "metadata": {},
   "outputs": [],
   "source": [
    "for img, points in train_dataloader:\n",
    "  print(img.shape)\n",
    "  print(points.shape)\n",
    "  break"
   ]
  }
 ],
 "metadata": {
  "kernelspec": {
   "display_name": ".Keypoint_detection_notebooks",
   "language": "python",
   "name": ".keypoint_detection_notebooks"
  },
  "language_info": {
   "codemirror_mode": {
    "name": "ipython",
    "version": 3
   },
   "file_extension": ".py",
   "mimetype": "text/x-python",
   "name": "python",
   "nbconvert_exporter": "python",
   "pygments_lexer": "ipython3",
   "version": "3.8.10"
  }
 },
 "nbformat": 4,
 "nbformat_minor": 5
}
