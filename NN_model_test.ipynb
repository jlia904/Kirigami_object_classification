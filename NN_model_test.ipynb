{
 "cells": [
  {
   "cell_type": "code",
   "execution_count": 12,
   "id": "7c06fd78",
   "metadata": {},
   "outputs": [
    {
     "name": "stdout",
     "output_type": "stream",
     "text": [
      "tensor([[ 0.9106,  0.2409, -2.0157, -1.1464,  0.1012]])\n",
      "tensor([[0.1706, 0.0104, 0.2546]], grad_fn=<AddmmBackward0>)\n",
      "tensor([[-1.1839,  0.2496, -1.6516]])\n"
     ]
    }
   ],
   "source": [
    "import torch\n",
    "import torch.nn as nn\n",
    "\n",
    "class MLP(nn.Module):\n",
    "    def __init__(self, input_dim, hidden_dim, output_dim):\n",
    "        super(MLP, self).__init__()\n",
    "        self.fc1 = nn.Linear(input_dim, hidden_dim)\n",
    "        self.fc2 = nn.Linear(hidden_dim, output_dim)\n",
    "        \n",
    "    def forward(self, x):\n",
    "        x = torch.relu(self.fc1(x))\n",
    "        x = self.fc2(x)\n",
    "        return x\n",
    "\n",
    "# Define the dimensions of the input, hidden, and output layers\n",
    "input_dim = 5\n",
    "hidden_dim = 50\n",
    "output_dim = 3\n",
    "\n",
    "# Instantiate the MLP model\n",
    "model = MLP(input_dim, hidden_dim, output_dim)\n",
    "\n",
    "# Define the loss function and optimizer\n",
    "criterion = nn.MSELoss()\n",
    "optimizer = torch.optim.SGD(model.parameters(), lr=0.1)\n",
    "\n",
    "# Generate some example input data\n",
    "input_data = torch.randn(1, input_dim)\n",
    "print(input_data)\n",
    "\n",
    "# Forward pass\n",
    "output = model(input_data)\n",
    "print(output)\n",
    "\n",
    "# Compute the loss\n",
    "target = torch.randn(1, output_dim)\n",
    "print(target)\n",
    "\n",
    "loss = criterion(output, target)\n",
    "\n",
    "# Backward pass and update weights\n",
    "optimizer.zero_grad()\n",
    "loss.backward()\n",
    "optimizer.step()\n"
   ]
  },
  {
   "cell_type": "code",
   "execution_count": null,
   "id": "8d44b3ce",
   "metadata": {},
   "outputs": [],
   "source": []
  }
 ],
 "metadata": {
  "kernelspec": {
   "display_name": ".Keypoint_detection_notebooks",
   "language": "python",
   "name": ".keypoint_detection_notebooks"
  },
  "language_info": {
   "codemirror_mode": {
    "name": "ipython",
    "version": 3
   },
   "file_extension": ".py",
   "mimetype": "text/x-python",
   "name": "python",
   "nbconvert_exporter": "python",
   "pygments_lexer": "ipython3",
   "version": "3.8.10"
  }
 },
 "nbformat": 4,
 "nbformat_minor": 5
}
